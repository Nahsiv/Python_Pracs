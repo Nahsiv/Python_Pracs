{
 "cells": [
  {
   "cell_type": "code",
   "execution_count": 5,
   "id": "a9c4042c-0500-45a6-b17c-ecd9b2148743",
   "metadata": {},
   "outputs": [
    {
     "name": "stdin",
     "output_type": "stream",
     "text": [
      " 1\n"
     ]
    },
    {
     "name": "stdout",
     "output_type": "stream",
     "text": [
      "1\n"
     ]
    },
    {
     "name": "stdin",
     "output_type": "stream",
     "text": [
      " 2\n"
     ]
    },
    {
     "name": "stdout",
     "output_type": "stream",
     "text": [
      "2\n"
     ]
    },
    {
     "name": "stdin",
     "output_type": "stream",
     "text": [
      " 88\n"
     ]
    },
    {
     "name": "stdout",
     "output_type": "stream",
     "text": [
      "88\n"
     ]
    },
    {
     "name": "stdin",
     "output_type": "stream",
     "text": [
      " 100\n"
     ]
    },
    {
     "name": "stdout",
     "output_type": "stream",
     "text": [
      "100\n"
     ]
    },
    {
     "name": "stdin",
     "output_type": "stream",
     "text": [
      " -200\n"
     ]
    },
    {
     "name": "stdout",
     "output_type": "stream",
     "text": [
      "-200\n"
     ]
    }
   ],
   "source": [
    "sum = 0;\n",
    "while sum>=0:\n",
    "    t = int(input())\n",
    "    sum += t\n",
    "    print(t)"
   ]
  },
  {
   "cell_type": "code",
   "execution_count": 14,
   "id": "faab3ef0-a935-4758-8ee6-1065bbaa3858",
   "metadata": {},
   "outputs": [
    {
     "name": "stdin",
     "output_type": "stream",
     "text": [
      " 5\n"
     ]
    },
    {
     "name": "stdout",
     "output_type": "stream",
     "text": [
      "1 2 3 4 5 \n",
      "1 2 3 4 * \n",
      "1 2 3 * * * \n",
      "1 2 * * * * * \n",
      "1 * * * * * * * \n"
     ]
    }
   ],
   "source": [
    "t = int(input())\n",
    "p = 0\n",
    "q = -1\n",
    "for _ in range(t,0,-1):\n",
    "    for i in range(1,t+1-p):\n",
    "        print(i, end=' ')\n",
    "    p +=1\n",
    "    for i in range(q):\n",
    "        print('*',end=' ')\n",
    "    q +=2\n",
    "    print()"
   ]
  },
  {
   "cell_type": "code",
   "execution_count": 10,
   "id": "1b3f9374-7a52-4899-ba94-0dbc75bb6d7b",
   "metadata": {},
   "outputs": [
    {
     "data": {
      "text/plain": [
       "\u001b[1;31mSignature:\u001b[0m \u001b[0mprint\u001b[0m\u001b[1;33m(\u001b[0m\u001b[1;33m*\u001b[0m\u001b[0margs\u001b[0m\u001b[1;33m,\u001b[0m \u001b[0msep\u001b[0m\u001b[1;33m=\u001b[0m\u001b[1;34m' '\u001b[0m\u001b[1;33m,\u001b[0m \u001b[0mend\u001b[0m\u001b[1;33m=\u001b[0m\u001b[1;34m'\\n'\u001b[0m\u001b[1;33m,\u001b[0m \u001b[0mfile\u001b[0m\u001b[1;33m=\u001b[0m\u001b[1;32mNone\u001b[0m\u001b[1;33m,\u001b[0m \u001b[0mflush\u001b[0m\u001b[1;33m=\u001b[0m\u001b[1;32mFalse\u001b[0m\u001b[1;33m)\u001b[0m\u001b[1;33m\u001b[0m\u001b[1;33m\u001b[0m\u001b[0m\n",
       "\u001b[1;31mDocstring:\u001b[0m\n",
       "Prints the values to a stream, or to sys.stdout by default.\n",
       "\n",
       "sep\n",
       "  string inserted between values, default a space.\n",
       "end\n",
       "  string appended after the last value, default a newline.\n",
       "file\n",
       "  a file-like object (stream); defaults to the current sys.stdout.\n",
       "flush\n",
       "  whether to forcibly flush the stream.\n",
       "\u001b[1;31mType:\u001b[0m      builtin_function_or_method"
      ]
     },
     "metadata": {},
     "output_type": "display_data"
    }
   ],
   "source": [
    "print?"
   ]
  },
  {
   "cell_type": "code",
   "execution_count": 20,
   "id": "5a09da33-a6bc-44ad-b8a0-e89286d45395",
   "metadata": {},
   "outputs": [
    {
     "name": "stdin",
     "output_type": "stream",
     "text": [
      " 7\n"
     ]
    },
    {
     "name": "stdout",
     "output_type": "stream",
     "text": [
      "1******\n",
      "12*****\n",
      "123****\n",
      "1234***\n",
      "12345**\n",
      "123456*\n",
      "1234567\n"
     ]
    }
   ],
   "source": [
    "n = int(input())\n",
    "for _ in range(1,n+1):\n",
    "    for i in range(_):\n",
    "        print(i+1, end='')\n",
    "    for i in range(n-i-1):\n",
    "        print('*', end='')\n",
    "    print()"
   ]
  },
  {
   "cell_type": "code",
   "execution_count": 32,
   "id": "b1495ad7-7372-41ac-9e58-36eab52e6b74",
   "metadata": {},
   "outputs": [
    {
     "name": "stdin",
     "output_type": "stream",
     "text": [
      " 5\n",
      " 3\n",
      " 2\n",
      " 1\n",
      " 7\n",
      " 10\n"
     ]
    },
    {
     "name": "stdout",
     "output_type": "stream",
     "text": [
      "[True, True, True, False, False]\n",
      "[False, False, True, True, True]\n",
      "True\n"
     ]
    }
   ],
   "source": [
    "n = int(input())\n",
    "a=[]\n",
    "for i in range(n):\n",
    "    k = int(input())\n",
    "    a.append(k)\n",
    "s =[False]*n \n",
    "e =[False]*n\n",
    "s[0] = e[-1]= True\n",
    "for i in range(1, n):\n",
    "    if(a[i]<a[i-1]):\n",
    "        s[i] = s[i-1];\n",
    "for i in range(-2, -n-1,-1):\n",
    "    if(a[i]<a[i+1]):\n",
    "        e[i] = e[i+1];\n",
    "# print(s)\n",
    "# print(e)\n",
    "ans = False\n",
    "for i in range(n):\n",
    "    if(s[i]== True & e[i] == True):\n",
    "        ans = True\n",
    "        break;\n",
    "print(ans)"
   ]
  },
  {
   "cell_type": "code",
   "execution_count": 38,
   "id": "339eb8b2-4e01-45e9-a4ec-a501b32d728e",
   "metadata": {},
   "outputs": [
    {
     "name": "stdin",
     "output_type": "stream",
     "text": [
      " 3\n",
      " 1\n"
     ]
    },
    {
     "name": "stdout",
     "output_type": "stream",
     "text": [
      "(1, 0) "
     ]
    },
    {
     "name": "stdin",
     "output_type": "stream",
     "text": [
      " 9\n"
     ]
    },
    {
     "name": "stdout",
     "output_type": "stream",
     "text": [
      "(3, 0) "
     ]
    },
    {
     "name": "stdin",
     "output_type": "stream",
     "text": [
      " 25\n"
     ]
    },
    {
     "name": "stdout",
     "output_type": "stream",
     "text": [
      "(4, 3) (5, 0) "
     ]
    }
   ],
   "source": [
    "t = int(input())\n",
    "while t>0:\n",
    "    p = int(input())\n",
    "    for i in range(p+1):\n",
    "        for j in range(i+1):\n",
    "            if(i**2 + j**2 == p):\n",
    "                k =(i,j)\n",
    "                print(k, end =' ')\n",
    "    t -=1"
   ]
  },
  {
   "cell_type": "code",
   "execution_count": 47,
   "id": "d9a736d2-2b9c-400a-a325-a55dca82fdf7",
   "metadata": {},
   "outputs": [
    {
     "name": "stdin",
     "output_type": "stream",
     "text": [
      " 5\n"
     ]
    },
    {
     "name": "stdout",
     "output_type": "stream",
     "text": [
      "True\n"
     ]
    }
   ],
   "source": [
    "n = int(input())\n",
    "ans = True\n",
    "for i in range(2, (int)(n**0.5)+1):\n",
    "    if n%i ==0:\n",
    "        ans = False\n",
    "        break\n",
    "print(ans)"
   ]
  },
  {
   "cell_type": "code",
   "execution_count": 57,
   "id": "8088c4d7-fd92-40a4-bfe8-95115aeb3872",
   "metadata": {},
   "outputs": [
    {
     "name": "stdin",
     "output_type": "stream",
     "text": [
      " 1\n"
     ]
    },
    {
     "ename": "TypeError",
     "evalue": "'int' object is not callable",
     "output_type": "error",
     "traceback": [
      "\u001b[1;31m---------------------------------------------------------------------------\u001b[0m",
      "\u001b[1;31mTypeError\u001b[0m                                 Traceback (most recent call last)",
      "Cell \u001b[1;32mIn[57], line 1\u001b[0m\n\u001b[1;32m----> 1\u001b[0m t \u001b[38;5;241m=\u001b[39m \u001b[38;5;28;43mint\u001b[39;49m\u001b[43m(\u001b[49m\u001b[38;5;28;43minput\u001b[39;49m\u001b[43m(\u001b[49m\u001b[43m)\u001b[49m\u001b[43m)\u001b[49m\n\u001b[0;32m      2\u001b[0m \u001b[38;5;28;01mwhile\u001b[39;00m t\u001b[38;5;241m>\u001b[39m\u001b[38;5;241m0\u001b[39m :\n\u001b[0;32m      3\u001b[0m     temp \u001b[38;5;241m=\u001b[39m \u001b[38;5;28minput\u001b[39m()\n",
      "\u001b[1;31mTypeError\u001b[0m: 'int' object is not callable"
     ]
    }
   ],
   "source": [
    "t = int(input())\n",
    "while t>0 :\n",
    "    temp = input()\n",
    "    p,q = map(int, temp.split())\n",
    "    print(p,q)\n",
    "    t -=1"
   ]
  },
  {
   "cell_type": "code",
   "execution_count": 58,
   "id": "eb1e005c-ef7f-45d7-8d54-cd3d83e574b6",
   "metadata": {},
   "outputs": [
    {
     "name": "stdin",
     "output_type": "stream",
     "text": [
      " 1\n"
     ]
    },
    {
     "ename": "TypeError",
     "evalue": "'int' object is not callable",
     "output_type": "error",
     "traceback": [
      "\u001b[1;31m---------------------------------------------------------------------------\u001b[0m",
      "\u001b[1;31mTypeError\u001b[0m                                 Traceback (most recent call last)",
      "Cell \u001b[1;32mIn[58], line 1\u001b[0m\n\u001b[1;32m----> 1\u001b[0m t \u001b[38;5;241m=\u001b[39m \u001b[38;5;28;43mint\u001b[39;49m\u001b[43m(\u001b[49m\u001b[38;5;28;43minput\u001b[39;49m\u001b[43m(\u001b[49m\u001b[43m)\u001b[49m\u001b[43m)\u001b[49m  \u001b[38;5;66;03m# Taking the number of test cases as input\u001b[39;00m\n\u001b[0;32m      3\u001b[0m \u001b[38;5;28;01mwhile\u001b[39;00m t \u001b[38;5;241m>\u001b[39m \u001b[38;5;241m0\u001b[39m:\n\u001b[0;32m      4\u001b[0m     temp \u001b[38;5;241m=\u001b[39m \u001b[38;5;28minput\u001b[39m()  \u001b[38;5;66;03m# Taking space-separated input for each test case\u001b[39;00m\n",
      "\u001b[1;31mTypeError\u001b[0m: 'int' object is not callable"
     ]
    }
   ],
   "source": [
    "t = int(input())  # Taking the number of test cases as input\n",
    "\n",
    "while t > 0:\n",
    "    temp = input()  # Taking space-separated input for each test case\n",
    "    p, q = map(int, temp.split())  # Splitting the input and converting to integers\n",
    "    print(\"Values of p and q:\", p, q)  # Printing the values\n",
    "    t -= 1  # Decrementing the number of remaining test cases\n"
   ]
  },
  {
   "cell_type": "code",
   "execution_count": 59,
   "id": "ebb2974e-fce8-4036-ac3c-77e132ac258b",
   "metadata": {},
   "outputs": [
    {
     "name": "stdin",
     "output_type": "stream",
     "text": [
      "Enter the number of test cases:  1\n"
     ]
    },
    {
     "ename": "TypeError",
     "evalue": "'int' object is not callable",
     "output_type": "error",
     "traceback": [
      "\u001b[1;31m---------------------------------------------------------------------------\u001b[0m",
      "\u001b[1;31mTypeError\u001b[0m                                 Traceback (most recent call last)",
      "Cell \u001b[1;32mIn[59], line 1\u001b[0m\n\u001b[1;32m----> 1\u001b[0m t \u001b[38;5;241m=\u001b[39m \u001b[38;5;28;43mint\u001b[39;49m\u001b[43m(\u001b[49m\u001b[38;5;28;43minput\u001b[39;49m\u001b[43m(\u001b[49m\u001b[38;5;124;43m\"\u001b[39;49m\u001b[38;5;124;43mEnter the number of test cases: \u001b[39;49m\u001b[38;5;124;43m\"\u001b[39;49m\u001b[43m)\u001b[49m\u001b[43m)\u001b[49m  \u001b[38;5;66;03m# Taking the number of test cases as input\u001b[39;00m\n\u001b[0;32m      3\u001b[0m \u001b[38;5;28;01mwhile\u001b[39;00m t \u001b[38;5;241m>\u001b[39m \u001b[38;5;241m0\u001b[39m:\n\u001b[0;32m      4\u001b[0m     temp \u001b[38;5;241m=\u001b[39m \u001b[38;5;28minput\u001b[39m(\u001b[38;5;124m\"\u001b[39m\u001b[38;5;124mEnter two space-separated integers: \u001b[39m\u001b[38;5;124m\"\u001b[39m)  \u001b[38;5;66;03m# Taking space-separated input for each test case\u001b[39;00m\n",
      "\u001b[1;31mTypeError\u001b[0m: 'int' object is not callable"
     ]
    }
   ],
   "source": [
    "t = int(input(\"Enter the number of test cases: \"))  # Taking the number of test cases as input\n",
    "\n",
    "while t > 0:\n",
    "    temp = input(\"Enter two space-separated integers: \")  # Taking space-separated input for each test case\n",
    "    p, q = map(int, temp.split())  # Splitting the input and converting to integers\n",
    "    print(\"Values of p and q:\", p, q)  # Printing the values\n",
    "    t -= 1  # Decrementing the number of remaining test cases\n"
   ]
  },
  {
   "cell_type": "code",
   "execution_count": null,
   "id": "5f84dce4-5749-4836-ae81-998f5c5aef1d",
   "metadata": {},
   "outputs": [],
   "source": []
  }
 ],
 "metadata": {
  "kernelspec": {
   "display_name": "Python 3 (ipykernel)",
   "language": "python",
   "name": "python3"
  },
  "language_info": {
   "codemirror_mode": {
    "name": "ipython",
    "version": 3
   },
   "file_extension": ".py",
   "mimetype": "text/x-python",
   "name": "python",
   "nbconvert_exporter": "python",
   "pygments_lexer": "ipython3",
   "version": "3.12.1"
  }
 },
 "nbformat": 4,
 "nbformat_minor": 5
}
