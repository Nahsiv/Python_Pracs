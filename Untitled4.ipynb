{
 "cells": [
  {
   "cell_type": "code",
   "execution_count": 32,
   "id": "4233adc6-c945-4959-889c-3640ec460935",
   "metadata": {},
   "outputs": [],
   "source": [
    "file = open('hello.txt', \"r\")"
   ]
  },
  {
   "cell_type": "code",
   "execution_count": 33,
   "id": "1d53f86d-480f-4e2a-a602-d7447583d50e",
   "metadata": {},
   "outputs": [
    {
     "data": {
      "text/plain": [
       "['Hello World\\n', 'Hello Again\\n', 'Helo Still Again']"
      ]
     },
     "execution_count": 33,
     "metadata": {},
     "output_type": "execute_result"
    }
   ],
   "source": [
    "file.readlines()"
   ]
  },
  {
   "cell_type": "code",
   "execution_count": 34,
   "id": "0db65258-da7b-4397-80f1-9937b2f3a9af",
   "metadata": {},
   "outputs": [],
   "source": [
    "file.close()"
   ]
  },
  {
   "cell_type": "code",
   "execution_count": 11,
   "id": "99db256d-2792-4ac4-979b-55a9cc3d5b7a",
   "metadata": {},
   "outputs": [],
   "source": [
    "file = open('something.txt', 'w')"
   ]
  },
  {
   "cell_type": "code",
   "execution_count": 12,
   "id": "fb285cad-e1f9-41e0-8703-76adb4ea1b5b",
   "metadata": {},
   "outputs": [
    {
     "data": {
      "text/plain": [
       "21"
      ]
     },
     "execution_count": 12,
     "metadata": {},
     "output_type": "execute_result"
    }
   ],
   "source": [
    "file.write('hello from other side')"
   ]
  },
  {
   "cell_type": "code",
   "execution_count": 13,
   "id": "7aa672ec-b6e2-49e2-bda6-d6a9ca77abf9",
   "metadata": {},
   "outputs": [],
   "source": [
    "file.close()"
   ]
  },
  {
   "cell_type": "code",
   "execution_count": 35,
   "id": "04d5c7be-22d6-4a7f-b769-3ef3c2c7a747",
   "metadata": {},
   "outputs": [],
   "source": [
    "file = open('hello.txt', 'r')"
   ]
  },
  {
   "cell_type": "code",
   "execution_count": 36,
   "id": "feb8a54f-dbf7-446d-a37e-812009b134bf",
   "metadata": {},
   "outputs": [
    {
     "data": {
      "text/plain": [
       "'Hello'"
      ]
     },
     "execution_count": 36,
     "metadata": {},
     "output_type": "execute_result"
    }
   ],
   "source": [
    "file.read(5)"
   ]
  },
  {
   "cell_type": "code",
   "execution_count": 43,
   "id": "4eab1cec-f033-429c-a05c-7f823c7d15f0",
   "metadata": {},
   "outputs": [
    {
     "data": {
      "text/plain": [
       "' World\\nHello Again\\nHelo Still Again'"
      ]
     },
     "execution_count": 43,
     "metadata": {},
     "output_type": "execute_result"
    }
   ],
   "source": [
    "file.read()"
   ]
  },
  {
   "cell_type": "code",
   "execution_count": 42,
   "id": "ae665ca1-3133-4b44-9429-b59b24353709",
   "metadata": {},
   "outputs": [
    {
     "data": {
      "text/plain": [
       "5"
      ]
     },
     "execution_count": 42,
     "metadata": {},
     "output_type": "execute_result"
    }
   ],
   "source": [
    "file.seek(5)"
   ]
  },
  {
   "cell_type": "code",
   "execution_count": 44,
   "id": "074f3395-f161-498d-af1e-6ee78065f352",
   "metadata": {},
   "outputs": [],
   "source": [
    "file.close()"
   ]
  },
  {
   "cell_type": "code",
   "execution_count": 47,
   "id": "e77d6b89-84a5-4bef-ac5e-184da1a6ede5",
   "metadata": {},
   "outputs": [
    {
     "name": "stdout",
     "output_type": "stream",
     "text": [
      "Hello World\n",
      "Hello Again\n",
      "Helo Still Again\n",
      " World\n",
      "Hello Again\n",
      "Helo Still Again\n"
     ]
    }
   ],
   "source": [
    "with open('hello.txt','r') as file:\n",
    "    print(file.read())\n",
    "    file.seek(5)\n",
    "    print(file.read())"
   ]
  },
  {
   "cell_type": "code",
   "execution_count": 50,
   "id": "67408d5b-6bd7-49b8-ba43-d234d0b362e5",
   "metadata": {},
   "outputs": [],
   "source": [
    "import json"
   ]
  },
  {
   "cell_type": "code",
   "execution_count": 62,
   "id": "73dd49fb-7cda-44ae-a627-46357b8aafb0",
   "metadata": {},
   "outputs": [
    {
     "name": "stdout",
     "output_type": "stream",
     "text": [
      "physics\n"
     ]
    }
   ],
   "source": [
    "with open('data.json','r') as file:\n",
    "    l = json.load(file)\n",
    "    print(l['subjects'][0])"
   ]
  },
  {
   "cell_type": "code",
   "execution_count": 63,
   "id": "e73c69b3-a41f-4f83-97f9-1ab0c079f485",
   "metadata": {},
   "outputs": [
    {
     "name": "stdout",
     "output_type": "stream",
     "text": [
      "{\n",
      "\"name\":\"vishant\",\n",
      "\"age\":20,\n",
      "\"subjects\":[\"physics\",\"checmistry\",\"math\"]\n",
      "}\n",
      "{'name': 'vishant', 'age': 20, 'subjects': ['physics', 'checmistry', 'math']}\n"
     ]
    }
   ],
   "source": [
    "with open('data.json','r') as file:\n",
    "    s = file.read()\n",
    "    print(s)\n",
    "    l = json.loads(s)\n",
    "    print(l)"
   ]
  },
  {
   "cell_type": "code",
   "execution_count": 64,
   "id": "435bf2dd-829d-49da-ab6d-0b864cdf49f4",
   "metadata": {},
   "outputs": [],
   "source": [
    "l = {'name': 'vishant', 'age': 20, 'subjects': ['physics', 'checmistry', 'math']}"
   ]
  },
  {
   "cell_type": "code",
   "execution_count": 65,
   "id": "10c4486a-f775-42cf-96bf-a202a4fa1f6a",
   "metadata": {},
   "outputs": [
    {
     "data": {
      "text/plain": [
       "'vishant'"
      ]
     },
     "execution_count": 65,
     "metadata": {},
     "output_type": "execute_result"
    }
   ],
   "source": [
    "l['name']"
   ]
  },
  {
   "cell_type": "code",
   "execution_count": 66,
   "id": "6416ff73-0357-41d4-81b5-318b9d90ac40",
   "metadata": {},
   "outputs": [],
   "source": [
    "string = json.dumps(l)"
   ]
  },
  {
   "cell_type": "code",
   "execution_count": 67,
   "id": "cd967ab7-7ff0-4ec5-8cb5-c4b505b75bee",
   "metadata": {},
   "outputs": [
    {
     "name": "stdout",
     "output_type": "stream",
     "text": [
      "{\"name\": \"vishant\", \"age\": 20, \"subjects\": [\"physics\", \"checmistry\", \"math\"]}\n"
     ]
    }
   ],
   "source": [
    "print(string)"
   ]
  },
  {
   "cell_type": "code",
   "execution_count": 68,
   "id": "058da1cb-9bb6-4e57-87bc-1e6fb8f3c00c",
   "metadata": {},
   "outputs": [
    {
     "name": "stdout",
     "output_type": "stream",
     "text": [
      "<class 'str'>\n"
     ]
    }
   ],
   "source": [
    "print(type(string))"
   ]
  },
  {
   "cell_type": "code",
   "execution_count": 69,
   "id": "dbc87eb8-adc0-4691-897e-035aa91affc0",
   "metadata": {},
   "outputs": [
    {
     "name": "stdout",
     "output_type": "stream",
     "text": [
      "{'name': 'vishant', 'age': 20, 'subjects': ['physics', 'checmistry', 'math']}\n"
     ]
    }
   ],
   "source": [
    "print(l)"
   ]
  },
  {
   "cell_type": "code",
   "execution_count": 71,
   "id": "da510b67-a41e-44dc-96f6-cc1a94c7077c",
   "metadata": {},
   "outputs": [],
   "source": [
    "with open('data2.json', 'w') as file:\n",
    "    json.dump(l, file)"
   ]
  },
  {
   "cell_type": "code",
   "execution_count": 73,
   "id": "a0b44b30-d62f-4091-b036-cfa318ae5f15",
   "metadata": {},
   "outputs": [
    {
     "ename": "SyntaxError",
     "evalue": "invalid syntax (3269133064.py, line 1)",
     "output_type": "error",
     "traceback": [
      "\u001b[1;36m  Cell \u001b[1;32mIn[73], line 1\u001b[1;36m\u001b[0m\n\u001b[1;33m    fore i in range(10):\u001b[0m\n\u001b[1;37m         ^\u001b[0m\n\u001b[1;31mSyntaxError\u001b[0m\u001b[1;31m:\u001b[0m invalid syntax\n"
     ]
    }
   ],
   "source": [
    "fore i in range(10):\n",
    "    print(i)"
   ]
  },
  {
   "cell_type": "code",
   "execution_count": 74,
   "id": "453c89c0-10d5-485e-857c-ae85066964c7",
   "metadata": {},
   "outputs": [
    {
     "name": "stdout",
     "output_type": "stream",
     "text": [
      "hello\n"
     ]
    },
    {
     "ename": "ZeroDivisionError",
     "evalue": "division by zero",
     "output_type": "error",
     "traceback": [
      "\u001b[1;31m---------------------------------------------------------------------------\u001b[0m",
      "\u001b[1;31mZeroDivisionError\u001b[0m                         Traceback (most recent call last)",
      "Cell \u001b[1;32mIn[74], line 2\u001b[0m\n\u001b[0;32m      1\u001b[0m \u001b[38;5;28mprint\u001b[39m(\u001b[38;5;124m\"\u001b[39m\u001b[38;5;124mhello\u001b[39m\u001b[38;5;124m\"\u001b[39m)\n\u001b[1;32m----> 2\u001b[0m \u001b[38;5;28mprint\u001b[39m(\u001b[38;5;241;43m10\u001b[39;49m\u001b[38;5;241;43m/\u001b[39;49m\u001b[38;5;241;43m0\u001b[39;49m)\n\u001b[0;32m      3\u001b[0m \u001b[38;5;28mprint\u001b[39m(\u001b[38;5;124m\"\u001b[39m\u001b[38;5;124mworld\u001b[39m\u001b[38;5;124m\"\u001b[39m)\n",
      "\u001b[1;31mZeroDivisionError\u001b[0m: division by zero"
     ]
    }
   ],
   "source": [
    "print(\"hello\")\n",
    "print(10/0)\n",
    "print(\"world\")"
   ]
  },
  {
   "cell_type": "code",
   "execution_count": 83,
   "id": "b92822f8-581d-41b2-bb01-d4fb3ba0063f",
   "metadata": {},
   "outputs": [],
   "source": [
    "def div(a,b):\n",
    "    try:\n",
    "        return a/b\n",
    "    except:\n",
    "        print('cannot commit')"
   ]
  },
  {
   "cell_type": "code",
   "execution_count": 87,
   "id": "0fb41c2b-8ca8-4bce-84c2-af5baba7ba15",
   "metadata": {},
   "outputs": [
    {
     "data": {
      "text/plain": [
       "5.0"
      ]
     },
     "execution_count": 87,
     "metadata": {},
     "output_type": "execute_result"
    }
   ],
   "source": [
    "div(10,2)"
   ]
  },
  {
   "cell_type": "code",
   "execution_count": 85,
   "id": "608b59e2-81ab-42cc-8db3-51bf1f9240b2",
   "metadata": {},
   "outputs": [
    {
     "data": {
      "text/plain": [
       "3.3333333333333335"
      ]
     },
     "execution_count": 85,
     "metadata": {},
     "output_type": "execute_result"
    }
   ],
   "source": [
    "div(10,3)"
   ]
  },
  {
   "cell_type": "code",
   "execution_count": 86,
   "id": "4e4b0dfa-465d-4f42-a729-833d8fcdc623",
   "metadata": {},
   "outputs": [
    {
     "name": "stdout",
     "output_type": "stream",
     "text": [
      "cannot commit\n"
     ]
    }
   ],
   "source": [
    "div(10,0)"
   ]
  },
  {
   "cell_type": "code",
   "execution_count": 91,
   "id": "d22b0308-3f81-4ed7-9b3f-1e334a60ee88",
   "metadata": {},
   "outputs": [
    {
     "ename": "ValueError",
     "evalue": "invalid literal for int() with base 10: 'vishant'",
     "output_type": "error",
     "traceback": [
      "\u001b[1;31m---------------------------------------------------------------------------\u001b[0m",
      "\u001b[1;31mValueError\u001b[0m                                Traceback (most recent call last)",
      "Cell \u001b[1;32mIn[91], line 1\u001b[0m\n\u001b[1;32m----> 1\u001b[0m a \u001b[38;5;241m=\u001b[39m \u001b[38;5;28;43mint\u001b[39;49m\u001b[43m(\u001b[49m\u001b[38;5;124;43m\"\u001b[39;49m\u001b[38;5;124;43mvishant\u001b[39;49m\u001b[38;5;124;43m\"\u001b[39;49m\u001b[43m)\u001b[49m\n",
      "\u001b[1;31mValueError\u001b[0m: invalid literal for int() with base 10: 'vishant'"
     ]
    }
   ],
   "source": [
    "a = int(\"vishant\")"
   ]
  },
  {
   "cell_type": "code",
   "execution_count": 93,
   "id": "78ea84e1-2c52-48ec-8ccc-883d67585c06",
   "metadata": {},
   "outputs": [
    {
     "name": "stdout",
     "output_type": "stream",
     "text": [
      "you were trying to divide by zero\n"
     ]
    }
   ],
   "source": [
    "try:\n",
    "    print(10/0)\n",
    "    a = int(\"fgfh\")\n",
    "except ZeroDivisionError:\n",
    "    print(\"you were trying to divide by zero\") \n",
    "except ValueError:\n",
    "    print(\"some unkonwn error occured\")"
   ]
  },
  {
   "cell_type": "code",
   "execution_count": 104,
   "id": "81b4e822-6e26-4a9b-bcec-b19cbefd7e0f",
   "metadata": {},
   "outputs": [
    {
     "name": "stdout",
     "output_type": "stream",
     "text": [
      "<class 'IndexError'>\n"
     ]
    }
   ],
   "source": [
    "try:\n",
    "    a =[]\n",
    "    print(a[0])\n",
    "except Exception as e:\n",
    "    print(type(e))"
   ]
  },
  {
   "cell_type": "code",
   "execution_count": 102,
   "id": "bf39f151-b3be-4821-8af9-8d135b7f491d",
   "metadata": {},
   "outputs": [],
   "source": [
    "l = [i**2 for i in range(10)]"
   ]
  },
  {
   "cell_type": "code",
   "execution_count": 103,
   "id": "2ac747fe-9e5f-4d2a-8210-f3cd887fd489",
   "metadata": {},
   "outputs": [
    {
     "name": "stdout",
     "output_type": "stream",
     "text": [
      "[0, 1, 4, 9, 16, 25, 36, 49, 64, 81]\n"
     ]
    }
   ],
   "source": [
    "print(l)"
   ]
  },
  {
   "cell_type": "code",
   "execution_count": 113,
   "id": "3d93cdb0-b8e0-4330-81da-6aa1d780c3fa",
   "metadata": {},
   "outputs": [
    {
     "name": "stdin",
     "output_type": "stream",
     "text": [
      " 5\n"
     ]
    },
    {
     "name": "stdout",
     "output_type": "stream",
     "text": [
      "55555\n"
     ]
    }
   ],
   "source": [
    "a = input()\n",
    "q = int(a)\n",
    "s = \"\"\n",
    "for i in range(q):\n",
    "    s = s+a\n",
    "print(s)"
   ]
  },
  {
   "cell_type": "code",
   "execution_count": 117,
   "id": "a713a3cc-40f4-4ad5-953a-a828a541d937",
   "metadata": {},
   "outputs": [
    {
     "name": "stdout",
     "output_type": "stream",
     "text": [
      "('My Custom Exception', 1, 2)\n"
     ]
    }
   ],
   "source": [
    "try:\n",
    "    raise Exception(\"My Custom Exception\",1,2)\n",
    "except Exception as e:\n",
    "    print(e.args)"
   ]
  },
  {
   "cell_type": "code",
   "execution_count": 118,
   "id": "d5a79e2f-3823-4485-bff1-ae1bc359e4c0",
   "metadata": {},
   "outputs": [],
   "source": [
    "class MyException(Exception):\n",
    "    def __init__(self, message):\n",
    "        self.message = message\n",
    "    def __str__(self):\n",
    "        return self.message"
   ]
  },
  {
   "cell_type": "code",
   "execution_count": 123,
   "id": "c2f47632-64ab-44fc-892d-8e6541109677",
   "metadata": {},
   "outputs": [
    {
     "name": "stdout",
     "output_type": "stream",
     "text": [
      "This is an error\n"
     ]
    }
   ],
   "source": [
    "try:\n",
    "    raise MyException(\"This is an error\")\n",
    "except Exception as e:\n",
    "    print(e.message)"
   ]
  },
  {
   "cell_type": "code",
   "execution_count": 125,
   "id": "0c47aa84-d188-43db-9d7b-3ca67b9449e0",
   "metadata": {},
   "outputs": [
    {
     "name": "stdout",
     "output_type": "stream",
     "text": [
      "hello World\n",
      "an error occured\n",
      "bye bye hello world\n"
     ]
    }
   ],
   "source": [
    "try:\n",
    "    print(\"hello World\")\n",
    "    print(10/0)\n",
    "except:\n",
    "    print(\"an error occured\")\n",
    "else:\n",
    "    print(\"woah\")\n",
    "finally:\n",
    "    print(\"bye bye hello world\")"
   ]
  },
  {
   "cell_type": "code",
   "execution_count": 130,
   "id": "c5e48737-ec46-49c3-a41e-b64d1f56e1c0",
   "metadata": {},
   "outputs": [],
   "source": [
    "def funct():\n",
    "    try:\n",
    "        return 1\n",
    "    except:\n",
    "        return 2\n",
    "    else:\n",
    "        return 3"
   ]
  },
  {
   "cell_type": "code",
   "execution_count": 131,
   "id": "aedde667-377b-422e-8cae-008ea38bad10",
   "metadata": {},
   "outputs": [
    {
     "data": {
      "text/plain": [
       "1"
      ]
     },
     "execution_count": 131,
     "metadata": {},
     "output_type": "execute_result"
    }
   ],
   "source": [
    "funct()"
   ]
  },
  {
   "cell_type": "code",
   "execution_count": 137,
   "id": "d0b9bbaf-280f-4b92-8494-bffe0ebe5cbe",
   "metadata": {},
   "outputs": [
    {
     "name": "stdout",
     "output_type": "stream",
     "text": [
      "hello from other side\n"
     ]
    }
   ],
   "source": [
    "try:\n",
    "    with open('something.txt', 'r')as file:\n",
    "        s = file.read()\n",
    "        print(s)\n",
    "except Exception as e:\n",
    "    print(e)\n",
    "finally:\n",
    "    file.close()"
   ]
  },
  {
   "cell_type": "code",
   "execution_count": 138,
   "id": "636d785f-80d7-4d65-a491-e256a24a3079",
   "metadata": {},
   "outputs": [
    {
     "name": "stdout",
     "output_type": "stream",
     "text": [
      "hello from other side\n"
     ]
    }
   ],
   "source": [
    "with open('something.txt','r')as file:\n",
    "    print(file.read())"
   ]
  },
  {
   "cell_type": "code",
   "execution_count": 153,
   "id": "714bb590-d012-4425-9321-09c5cb4ac0fa",
   "metadata": {},
   "outputs": [],
   "source": [
    "class A:\n",
    "    def __init__(self,n):\n",
    "        self.n = n\n",
    "    def __str__(self):\n",
    "        return str(self.n)\n",
    "    def __enter__(self):\n",
    "        return self\n",
    "    def __exit__(self, *args):\n",
    "        print(args)\n",
    "        return True"
   ]
  },
  {
   "cell_type": "code",
   "execution_count": 154,
   "id": "1a409391-8bbb-41e0-9035-a6b2a9c0f488",
   "metadata": {},
   "outputs": [
    {
     "name": "stdout",
     "output_type": "stream",
     "text": [
      "5\n",
      "(<class 'ZeroDivisionError'>, ZeroDivisionError('division by zero'), <traceback object at 0x000001FED3FBF8C0>)\n",
      "hello world\n"
     ]
    }
   ],
   "source": [
    "with A(5) as a:\n",
    "    print(a)\n",
    "    raise 10/0\n",
    "    raise int(\"hghg\")\n",
    "print(\"hello world\")"
   ]
  },
  {
   "cell_type": "code",
   "execution_count": 166,
   "id": "9f4c2901-069d-4eca-891a-938970af3a2f",
   "metadata": {},
   "outputs": [],
   "source": [
    "x = [1,2,3]"
   ]
  },
  {
   "cell_type": "code",
   "execution_count": 167,
   "id": "ddd38f7f-8679-4d26-ae92-e434fcb4e7d4",
   "metadata": {},
   "outputs": [
    {
     "ename": "TypeError",
     "evalue": "'list_iterator' object is not callable",
     "output_type": "error",
     "traceback": [
      "\u001b[1;31m---------------------------------------------------------------------------\u001b[0m",
      "\u001b[1;31mTypeError\u001b[0m                                 Traceback (most recent call last)",
      "Cell \u001b[1;32mIn[167], line 1\u001b[0m\n\u001b[1;32m----> 1\u001b[0m \u001b[38;5;28miter\u001b[39m \u001b[38;5;241m=\u001b[39m \u001b[38;5;28;43miter\u001b[39;49m\u001b[43m(\u001b[49m\u001b[43mx\u001b[49m\u001b[43m)\u001b[49m\n",
      "\u001b[1;31mTypeError\u001b[0m: 'list_iterator' object is not callable"
     ]
    }
   ],
   "source": [
    "iter = iter(x)"
   ]
  },
  {
   "cell_type": "code",
   "execution_count": 160,
   "id": "56aedbe4-3989-4220-8f79-b7ea2a0274ea",
   "metadata": {},
   "outputs": [
    {
     "ename": "StopIteration",
     "evalue": "",
     "output_type": "error",
     "traceback": [
      "\u001b[1;31m---------------------------------------------------------------------------\u001b[0m",
      "\u001b[1;31mStopIteration\u001b[0m                             Traceback (most recent call last)",
      "Cell \u001b[1;32mIn[160], line 1\u001b[0m\n\u001b[1;32m----> 1\u001b[0m \u001b[38;5;28;43mnext\u001b[39;49m\u001b[43m(\u001b[49m\u001b[38;5;28;43miter\u001b[39;49m\u001b[43m)\u001b[49m\n",
      "\u001b[1;31mStopIteration\u001b[0m: "
     ]
    }
   ],
   "source": [
    "next(iter)"
   ]
  },
  {
   "cell_type": "code",
   "execution_count": 164,
   "id": "93beb4fa-bd94-43f1-86f2-1b66fc56b364",
   "metadata": {},
   "outputs": [],
   "source": [
    "l = [1,2,3]"
   ]
  },
  {
   "cell_type": "code",
   "execution_count": 165,
   "id": "02d0f97d-69d3-4192-918d-e8b46ef7b691",
   "metadata": {},
   "outputs": [
    {
     "ename": "TypeError",
     "evalue": "'list_iterator' object is not callable",
     "output_type": "error",
     "traceback": [
      "\u001b[1;31m---------------------------------------------------------------------------\u001b[0m",
      "\u001b[1;31mTypeError\u001b[0m                                 Traceback (most recent call last)",
      "Cell \u001b[1;32mIn[165], line 1\u001b[0m\n\u001b[1;32m----> 1\u001b[0m itr \u001b[38;5;241m=\u001b[39m \u001b[38;5;28;43miter\u001b[39;49m\u001b[43m(\u001b[49m\u001b[43ml\u001b[49m\u001b[43m)\u001b[49m\n",
      "\u001b[1;31mTypeError\u001b[0m: 'list_iterator' object is not callable"
     ]
    }
   ],
   "source": [
    "itr = iter(l)"
   ]
  },
  {
   "cell_type": "code",
   "execution_count": 168,
   "id": "df28369e-c89b-4fa6-8875-3c4523948b49",
   "metadata": {},
   "outputs": [
    {
     "data": {
      "text/plain": [
       "<list_iterator at 0x1fed395cbe0>"
      ]
     },
     "execution_count": 168,
     "metadata": {},
     "output_type": "execute_result"
    }
   ],
   "source": [
    "iter "
   ]
  },
  {
   "cell_type": "code",
   "execution_count": 169,
   "id": "b59f1f24-6368-418c-9cab-df374ff9a6dc",
   "metadata": {},
   "outputs": [],
   "source": [
    "del iter"
   ]
  },
  {
   "cell_type": "code",
   "execution_count": 170,
   "id": "97dc57bb-dcbf-4944-b4ee-67c470da1387",
   "metadata": {},
   "outputs": [],
   "source": [
    "it = iter(l)"
   ]
  },
  {
   "cell_type": "code",
   "execution_count": 174,
   "id": "d1dfce54-7c9f-4272-8124-4024490690c0",
   "metadata": {},
   "outputs": [
    {
     "ename": "StopIteration",
     "evalue": "",
     "output_type": "error",
     "traceback": [
      "\u001b[1;31m---------------------------------------------------------------------------\u001b[0m",
      "\u001b[1;31mStopIteration\u001b[0m                             Traceback (most recent call last)",
      "Cell \u001b[1;32mIn[174], line 1\u001b[0m\n\u001b[1;32m----> 1\u001b[0m \u001b[38;5;28;43mnext\u001b[39;49m\u001b[43m(\u001b[49m\u001b[43mit\u001b[49m\u001b[43m)\u001b[49m\n",
      "\u001b[1;31mStopIteration\u001b[0m: "
     ]
    }
   ],
   "source": [
    "next(it)"
   ]
  },
  {
   "cell_type": "code",
   "execution_count": 187,
   "id": "7c97ca5d-5884-4ead-97f3-3dba83bbb0b2",
   "metadata": {},
   "outputs": [],
   "source": [
    "class yrange:\n",
    "    def __init__ (self, n):\n",
    "        self.i = 0\n",
    "        self.n = n\n",
    "    def __iter__ (self):\n",
    "        return self\n",
    "    def __next__(self):\n",
    "        if self.i<self.n:\n",
    "            i = self.i\n",
    "            self.i += 1\n",
    "            return i;\n",
    "        else:\n",
    "            raise StopIteration()"
   ]
  },
  {
   "cell_type": "code",
   "execution_count": 188,
   "id": "012bad5f-2930-424e-9f6d-9db324f37e9e",
   "metadata": {},
   "outputs": [
    {
     "name": "stdout",
     "output_type": "stream",
     "text": [
      "0\n",
      "1\n",
      "2\n",
      "3\n",
      "4\n"
     ]
    }
   ],
   "source": [
    "for x in yrange(5):\n",
    "    print(x)"
   ]
  },
  {
   "cell_type": "code",
   "execution_count": 194,
   "id": "96b7f49b-901d-4879-81ad-3048212102f9",
   "metadata": {},
   "outputs": [
    {
     "data": {
      "text/plain": [
       "[]"
      ]
     },
     "execution_count": 194,
     "metadata": {},
     "output_type": "execute_result"
    }
   ],
   "source": [
    "list(y)"
   ]
  },
  {
   "cell_type": "code",
   "execution_count": 192,
   "id": "0c02c724-f0e0-4545-b1ae-2725b41289f2",
   "metadata": {},
   "outputs": [],
   "source": [
    "y = yrange(5)"
   ]
  },
  {
   "cell_type": "code",
   "execution_count": 190,
   "id": "2036599f-1251-45fd-8f89-8245d90c0711",
   "metadata": {},
   "outputs": [],
   "source": [
    "y_iter = iter(y)"
   ]
  },
  {
   "cell_type": "code",
   "execution_count": 191,
   "id": "a5e7bc1d-276a-430b-b84c-7e0039501f61",
   "metadata": {},
   "outputs": [
    {
     "name": "stdout",
     "output_type": "stream",
     "text": [
      "<__main__.yrange object at 0x000001FED49B3AA0>\n"
     ]
    }
   ],
   "source": [
    "print(y_iter)"
   ]
  },
  {
   "cell_type": "code",
   "execution_count": 186,
   "id": "f6a156a7-fc69-4c3b-9a6d-d78ce06670b2",
   "metadata": {},
   "outputs": [
    {
     "ename": "StopIteration",
     "evalue": "",
     "output_type": "error",
     "traceback": [
      "\u001b[1;31m---------------------------------------------------------------------------\u001b[0m",
      "\u001b[1;31mStopIteration\u001b[0m                             Traceback (most recent call last)",
      "Cell \u001b[1;32mIn[186], line 1\u001b[0m\n\u001b[1;32m----> 1\u001b[0m \u001b[38;5;28;43mnext\u001b[39;49m\u001b[43m(\u001b[49m\u001b[43my_iter\u001b[49m\u001b[43m)\u001b[49m\n",
      "Cell \u001b[1;32mIn[175], line 13\u001b[0m, in \u001b[0;36myrange.__next__\u001b[1;34m(self)\u001b[0m\n\u001b[0;32m     11\u001b[0m     \u001b[38;5;28;01mreturn\u001b[39;00m i;\n\u001b[0;32m     12\u001b[0m \u001b[38;5;28;01melse\u001b[39;00m:\n\u001b[1;32m---> 13\u001b[0m     \u001b[38;5;28;01mraise\u001b[39;00m \u001b[38;5;167;01mStopIteration\u001b[39;00m\n",
      "\u001b[1;31mStopIteration\u001b[0m: "
     ]
    }
   ],
   "source": [
    "next(y_iter)"
   ]
  },
  {
   "cell_type": "code",
   "execution_count": 203,
   "id": "fc10268c-6966-46da-a30c-6d76414c8193",
   "metadata": {},
   "outputs": [],
   "source": [
    "class zrange:\n",
    "    def __init__(self, n):\n",
    "        self.n = n\n",
    "    def __iter__(self):\n",
    "        return ziter(self.n)"
   ]
  },
  {
   "cell_type": "code",
   "execution_count": 212,
   "id": "f86b7b8c-8126-41dd-82b5-9e664c72d2d2",
   "metadata": {},
   "outputs": [],
   "source": [
    "class ziter:\n",
    "    def __init__(self, n):\n",
    "        self.i = 0\n",
    "        self.n = n\n",
    "    def __iter__(self):\n",
    "        return self\n",
    "    def __next__(self):\n",
    "        if self.i <self.n:\n",
    "            i = self.i\n",
    "            self.i += 1\n",
    "            return i\n",
    "        else:\n",
    "            raise StopIteration()\n",
    "    "
   ]
  },
  {
   "cell_type": "code",
   "execution_count": 207,
   "id": "4a203ddc-35be-46cf-aa1c-8cd00ba6b50d",
   "metadata": {},
   "outputs": [],
   "source": [
    "l = zrange(4)"
   ]
  },
  {
   "cell_type": "code",
   "execution_count": 208,
   "id": "af290391-c054-418d-867a-411b8eabe8d2",
   "metadata": {},
   "outputs": [
    {
     "name": "stdout",
     "output_type": "stream",
     "text": [
      "<__main__.zrange object at 0x000001FED39F2F60>\n"
     ]
    }
   ],
   "source": [
    "print(l)"
   ]
  },
  {
   "cell_type": "code",
   "execution_count": 215,
   "id": "9ce000d4-347b-402d-99b6-1b6a7f222f2b",
   "metadata": {},
   "outputs": [
    {
     "name": "stdout",
     "output_type": "stream",
     "text": [
      "0\n",
      "1\n",
      "4\n",
      "9\n",
      "16\n"
     ]
    }
   ],
   "source": [
    "for x in zrange(5):\n",
    "    print(x**2)"
   ]
  },
  {
   "cell_type": "code",
   "execution_count": 213,
   "id": "a54ac8f2-b317-42bb-a96c-3ebbd8fd3f73",
   "metadata": {},
   "outputs": [],
   "source": [
    "z = zrange(10)"
   ]
  },
  {
   "cell_type": "code",
   "execution_count": 214,
   "id": "123402a1-70a7-4f8c-bd48-523e2b66245f",
   "metadata": {},
   "outputs": [
    {
     "data": {
      "text/plain": [
       "[0, 1, 2, 3, 4, 5, 6, 7, 8, 9]"
      ]
     },
     "execution_count": 214,
     "metadata": {},
     "output_type": "execute_result"
    }
   ],
   "source": [
    "list(z)"
   ]
  },
  {
   "cell_type": "code",
   "execution_count": 216,
   "id": "c3ddc3e5-b79f-498e-bb43-854a0f67bc51",
   "metadata": {},
   "outputs": [],
   "source": [
    "a = [1,2,3,4]"
   ]
  },
  {
   "cell_type": "code",
   "execution_count": 217,
   "id": "906f0a92-47dd-4a37-942e-ec674f196a91",
   "metadata": {},
   "outputs": [
    {
     "name": "stdout",
     "output_type": "stream",
     "text": [
      "1\n",
      "4\n",
      "9\n",
      "16\n"
     ]
    }
   ],
   "source": [
    "for x in a:\n",
    "    print(x**2)\n"
   ]
  },
  {
   "cell_type": "code",
   "execution_count": 218,
   "id": "196398d1-28db-40d7-8dfe-0d16cc2f5ec3",
   "metadata": {},
   "outputs": [],
   "source": [
    "a = [1,[1,2],[3]]"
   ]
  },
  {
   "cell_type": "code",
   "execution_count": 219,
   "id": "0932e87d-bd41-41f3-864d-98290b8eb761",
   "metadata": {},
   "outputs": [
    {
     "name": "stdout",
     "output_type": "stream",
     "text": [
      "2\n",
      "[1, 2, 1, 2]\n",
      "[3, 3]\n"
     ]
    }
   ],
   "source": [
    "for x in a:\n",
    "    print(x*2)\n"
   ]
  },
  {
   "cell_type": "code",
   "execution_count": 220,
   "id": "eca8fbbf-dd55-43fa-8e94-30157815d98d",
   "metadata": {},
   "outputs": [
    {
     "name": "stdout",
     "output_type": "stream",
     "text": [
      "v\n",
      "i\n",
      "s\n",
      "h\n",
      "a\n",
      "n\n",
      "t\n"
     ]
    }
   ],
   "source": [
    "s = \"vishant\"\n",
    "for char in s:\n",
    "    print(char)"
   ]
  },
  {
   "cell_type": "code",
   "execution_count": 221,
   "id": "350fae40-8ea3-43d4-8073-7d7d3893bfb6",
   "metadata": {},
   "outputs": [
    {
     "name": "stdout",
     "output_type": "stream",
     "text": [
      "name\n",
      "lname\n",
      "marks\n"
     ]
    }
   ],
   "source": [
    "d = {\"name\":\"vishant\", \"lname\":\"sandilya\", \"marks\":43}\n",
    "for x in d:\n",
    "    print(x)"
   ]
  },
  {
   "cell_type": "code",
   "execution_count": 223,
   "id": "a5fa7424-ac68-4cc0-a8a5-15b838159850",
   "metadata": {},
   "outputs": [
    {
     "name": "stdout",
     "output_type": "stream",
     "text": [
      "hello \n",
      "my name \n",
      "is vishant sandilya"
     ]
    }
   ],
   "source": [
    "for line in open('someone.txt','r'):\n",
    "    print(line,end='')"
   ]
  },
  {
   "cell_type": "code",
   "execution_count": 227,
   "id": "ac6150b2-ad78-4e40-a1c2-9ac5008b49c5",
   "metadata": {},
   "outputs": [
    {
     "data": {
      "text/plain": [
       "'abcf.b.c.d'"
      ]
     },
     "execution_count": 227,
     "metadata": {},
     "output_type": "execute_result"
    }
   ],
   "source": [
    "'.'.join(['abcf','b','c','d'])"
   ]
  },
  {
   "cell_type": "code",
   "execution_count": 228,
   "id": "8545b96b-88c2-4192-8319-1f72f34aaae1",
   "metadata": {},
   "outputs": [
    {
     "data": {
      "text/plain": [
       "'name.lname.marks'"
      ]
     },
     "execution_count": 228,
     "metadata": {},
     "output_type": "execute_result"
    }
   ],
   "source": [
    "'.'.join(d)"
   ]
  },
  {
   "cell_type": "code",
   "execution_count": 229,
   "id": "9ea78858-bfae-4982-a0a9-6ec2fbab99cb",
   "metadata": {},
   "outputs": [],
   "source": [
    "a = list(\"jatin\")"
   ]
  },
  {
   "cell_type": "code",
   "execution_count": 230,
   "id": "c45123a0-53e4-426d-afea-86a88d7a8f0e",
   "metadata": {},
   "outputs": [
    {
     "name": "stdout",
     "output_type": "stream",
     "text": [
      "['j', 'a', 't', 'i', 'n']\n"
     ]
    }
   ],
   "source": [
    "print(a)"
   ]
  },
  {
   "cell_type": "code",
   "execution_count": 231,
   "id": "ec34b869-b63f-4760-bc38-adea7a575aed",
   "metadata": {},
   "outputs": [],
   "source": [
    "a = [1,2,3,4]"
   ]
  },
  {
   "cell_type": "code",
   "execution_count": 232,
   "id": "8521c9ce-ec24-4575-a437-34382604b5d0",
   "metadata": {},
   "outputs": [
    {
     "data": {
      "text/plain": [
       "10"
      ]
     },
     "execution_count": 232,
     "metadata": {},
     "output_type": "execute_result"
    }
   ],
   "source": [
    "sum(a)"
   ]
  },
  {
   "cell_type": "code",
   "execution_count": 233,
   "id": "d6093788-f653-44f0-9e70-0177fe859c3a",
   "metadata": {},
   "outputs": [],
   "source": [
    "b = {1:1,2:2,3:3}"
   ]
  },
  {
   "cell_type": "code",
   "execution_count": 234,
   "id": "95210ac4-7e0c-4ea0-9fc6-689de11c76dd",
   "metadata": {},
   "outputs": [
    {
     "data": {
      "text/plain": [
       "6"
      ]
     },
     "execution_count": 234,
     "metadata": {},
     "output_type": "execute_result"
    }
   ],
   "source": [
    "sum(b)"
   ]
  },
  {
   "cell_type": "code",
   "execution_count": 235,
   "id": "0f8c19a0-45fa-4944-b82a-83448425cab8",
   "metadata": {},
   "outputs": [
    {
     "name": "stdout",
     "output_type": "stream",
     "text": [
      "hello \n",
      "my name \n",
      "is vishant sandilya"
     ]
    }
   ],
   "source": [
    "for line in open('someone.txt','r'):\n",
    "    print(line, end='')"
   ]
  },
  {
   "cell_type": "code",
   "execution_count": 237,
   "id": "687448db-7552-4722-92dc-0005d028030b",
   "metadata": {},
   "outputs": [],
   "source": [
    "class fib:\n",
    "    def __init__(self):\n",
    "        self.prev = 0\n",
    "        self.curr = 1\n",
    "    def __iter__(self):\n",
    "        return self\n",
    "    def __next__(self):\n",
    "        value = self.curr\n",
    "        self.curr += self.prev\n",
    "        self.prev = value\n",
    "        return value"
   ]
  },
  {
   "cell_type": "code",
   "execution_count": 245,
   "id": "952f2e14-cdc3-4598-9b41-5ade91a598ed",
   "metadata": {},
   "outputs": [],
   "source": [
    "f = iter(fib())"
   ]
  },
  {
   "cell_type": "code",
   "execution_count": 246,
   "id": "6b6d1354-20b7-4c01-adf1-1429731fa4eb",
   "metadata": {},
   "outputs": [
    {
     "name": "stdout",
     "output_type": "stream",
     "text": [
      "1\n",
      "1\n",
      "2\n",
      "3\n",
      "5\n",
      "8\n",
      "13\n",
      "21\n",
      "34\n",
      "55\n"
     ]
    }
   ],
   "source": [
    "for i in range(10):\n",
    "    print(next(f))"
   ]
  },
  {
   "cell_type": "code",
   "execution_count": 247,
   "id": "9144c498-08ab-4653-9a12-70f05d9e7063",
   "metadata": {},
   "outputs": [],
   "source": [
    "def fib():\n",
    "    prev, curr = 0,1\n",
    "    while True:\n",
    "        yield curr\n",
    "        prev, curr = curr, prev+curr"
   ]
  },
  {
   "cell_type": "code",
   "execution_count": 250,
   "id": "30581618-f858-458c-959a-a2bdc18a263f",
   "metadata": {},
   "outputs": [
    {
     "data": {
      "text/plain": [
       "generator"
      ]
     },
     "execution_count": 250,
     "metadata": {},
     "output_type": "execute_result"
    }
   ],
   "source": [
    "type(fib())"
   ]
  },
  {
   "cell_type": "code",
   "execution_count": 254,
   "id": "d7545596-e234-4bfd-995d-e706e9d6c54d",
   "metadata": {},
   "outputs": [],
   "source": [
    "f = fib()"
   ]
  },
  {
   "cell_type": "code",
   "execution_count": 255,
   "id": "39541db3-c1cf-4987-85c8-40c57ef170c3",
   "metadata": {},
   "outputs": [
    {
     "name": "stdout",
     "output_type": "stream",
     "text": [
      "1\n",
      "1\n",
      "2\n",
      "3\n",
      "5\n",
      "8\n",
      "13\n",
      "21\n",
      "34\n",
      "55\n"
     ]
    }
   ],
   "source": [
    "for i in range(10):\n",
    "    print(next(f))"
   ]
  },
  {
   "cell_type": "code",
   "execution_count": 263,
   "id": "d09cc551-8389-4bd9-bde8-8ec0ef7c5103",
   "metadata": {},
   "outputs": [],
   "source": [
    "gen = (x**2 for x in range(1, 11))"
   ]
  },
  {
   "cell_type": "code",
   "execution_count": 261,
   "id": "652c2442-f5ab-4cc9-b694-4cf60a6a098f",
   "metadata": {},
   "outputs": [
    {
     "data": {
      "text/plain": [
       "1"
      ]
     },
     "execution_count": 261,
     "metadata": {},
     "output_type": "execute_result"
    }
   ],
   "source": [
    "next(gen)"
   ]
  },
  {
   "cell_type": "code",
   "execution_count": 264,
   "id": "43a03755-7a38-4516-b322-8433fff07be3",
   "metadata": {},
   "outputs": [
    {
     "name": "stdout",
     "output_type": "stream",
     "text": [
      "1\n",
      "4\n",
      "9\n",
      "16\n",
      "25\n",
      "36\n",
      "49\n",
      "64\n",
      "81\n",
      "100\n"
     ]
    }
   ],
   "source": [
    "for x in range(10):\n",
    "    print(next(gen))"
   ]
  },
  {
   "cell_type": "code",
   "execution_count": null,
   "id": "91d34699-3fd6-4fbe-957f-f2776a9ded00",
   "metadata": {},
   "outputs": [],
   "source": []
  }
 ],
 "metadata": {
  "kernelspec": {
   "display_name": "Python 3 (ipykernel)",
   "language": "python",
   "name": "python3"
  },
  "language_info": {
   "codemirror_mode": {
    "name": "ipython",
    "version": 3
   },
   "file_extension": ".py",
   "mimetype": "text/x-python",
   "name": "python",
   "nbconvert_exporter": "python",
   "pygments_lexer": "ipython3",
   "version": "3.12.1"
  }
 },
 "nbformat": 4,
 "nbformat_minor": 5
}
