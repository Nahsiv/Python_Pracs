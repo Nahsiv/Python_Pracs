{
 "cells": [
  {
   "cell_type": "code",
   "execution_count": null,
   "id": "cdc2c921-3aec-4a1b-8e55-9f66cfbeb50c",
   "metadata": {},
   "outputs": [],
   "source": [
    "im"
   ]
  },
  {
   "cell_type": "code",
   "execution_count": 1,
   "id": "f52f419d-efa2-4587-aef7-2f0ad7491215",
   "metadata": {},
   "outputs": [],
   "source": [
    "d = {\n",
    "    \"vishant\":\"password\",\n",
    "    \"abhay\":\"abhay\"\n",
    "}"
   ]
  },
  {
   "cell_type": "code",
   "execution_count": 3,
   "id": "eef75cc1-757c-4370-ad4a-12fda5cdf9fe",
   "metadata": {},
   "outputs": [],
   "source": [
    "def add(a,b):\n",
    "    return a+b"
   ]
  },
  {
   "cell_type": "code",
   "execution_count": 5,
   "id": "9f1510a2-b73b-40dd-8a53-33c98182f182",
   "metadata": {},
   "outputs": [
    {
     "data": {
      "text/plain": [
       "5"
      ]
     },
     "execution_count": 5,
     "metadata": {},
     "output_type": "execute_result"
    }
   ],
   "source": [
    "add(2,3)"
   ]
  },
  {
   "cell_type": "code",
   "execution_count": 6,
   "id": "c30f90a7-8604-4c1e-827c-421e366b6cbd",
   "metadata": {},
   "outputs": [],
   "source": [
    "def padd(username, password):\n",
    "    if username in d and d[username] == password :\n",
    "        print(\"hello World\")\n",
    "    else:\n",
    "        print(\"Not Authenticated\")\n",
    "    \n",
    "              \n",
    "    \n",
    "    "
   ]
  },
  {
   "cell_type": "code",
   "execution_count": 13,
   "id": "6a133504-f4b4-4ea6-befe-9d474779ee0b",
   "metadata": {},
   "outputs": [
    {
     "name": "stdout",
     "output_type": "stream",
     "text": [
      "Not Authenticated\n"
     ]
    }
   ],
   "source": [
    "add(\"vishant\",\"pas3sword\",3,4)"
   ]
  },
  {
   "cell_type": "code",
   "execution_count": 10,
   "id": "c3704d94-915d-48fa-a29f-1df93cd02c55",
   "metadata": {},
   "outputs": [
    {
     "name": "stdout",
     "output_type": "stream",
     "text": [
      "Not Authenticated\n"
     ]
    }
   ],
   "source": [
    "padd(\"ff\",\"fhgh\")"
   ]
  },
  {
   "cell_type": "code",
   "execution_count": 11,
   "id": "bdb9dc0c-5056-49a7-bbd4-ee89729ea2f4",
   "metadata": {},
   "outputs": [],
   "source": [
    "def add(u, p, a, b):\n",
    "    if u in d and d[u]==p:\n",
    "        return a+b;\n",
    "    else:\n",
    "        print(\"Not Authenticated\")"
   ]
  },
  {
   "cell_type": "markdown",
   "id": "ddec45c2-b0de-4c04-af78-eb2816197440",
   "metadata": {},
   "source": [
    "# DECORATOR FUNCTION"
   ]
  },
  {
   "cell_type": "code",
   "execution_count": 15,
   "id": "33ef8e40-6f99-48f5-8519-f72e7f8f6186",
   "metadata": {},
   "outputs": [],
   "source": [
    "def temp(*args, **kwargs):\n",
    "    print(*args)\n",
    "    print(kwargs)"
   ]
  },
  {
   "cell_type": "code",
   "execution_count": 18,
   "id": "aa29cb88-8ef6-4dd7-83d2-6174ad65fad4",
   "metadata": {},
   "outputs": [
    {
     "name": "stdout",
     "output_type": "stream",
     "text": [
      "(1, [2, 3, 4], 3, 4)\n",
      "{}\n"
     ]
    }
   ],
   "source": [
    "temp(1,[2,3,4],3,4)"
   ]
  },
  {
   "cell_type": "code",
   "execution_count": 41,
   "id": "b8165312-0c77-4918-be2c-6a48f631cd07",
   "metadata": {},
   "outputs": [],
   "source": [
    "def login_required(funct):\n",
    "    def wrapper(username, password, *args, **kwargs):\n",
    "        if username in d and d[username] == password:\n",
    "            funct(*args, **kwargs)\n",
    "        else:\n",
    "            print(\"Not Authentiacted\")\n",
    "    return wrapper            "
   ]
  },
  {
   "cell_type": "code",
   "execution_count": 42,
   "id": "2d07b84e-c4a4-4eb6-9dc2-a9ff381b8d26",
   "metadata": {},
   "outputs": [],
   "source": [
    "def add(a,b):\n",
    "    print(a+b)\n",
    "add = login_required(add)"
   ]
  },
  {
   "cell_type": "code",
   "execution_count": 43,
   "id": "6cc58054-b707-41b4-87a2-67155870cbbc",
   "metadata": {},
   "outputs": [],
   "source": [
    "@login_required\n",
    "def add(a,b):\n",
    "    print(a+b)"
   ]
  },
  {
   "cell_type": "code",
   "execution_count": 36,
   "id": "47583d97-2d53-4afc-af13-651c6aeeccb2",
   "metadata": {},
   "outputs": [],
   "source": [
    "protected_add = login_required(add)"
   ]
  },
  {
   "cell_type": "code",
   "execution_count": 37,
   "id": "52c44fbf-5c10-47ce-bb6c-6307ae40f25c",
   "metadata": {},
   "outputs": [
    {
     "name": "stdout",
     "output_type": "stream",
     "text": [
      "<function login_required.<locals>.wrapper at 0x000001E22469D620>\n"
     ]
    }
   ],
   "source": [
    "print(protected_add)"
   ]
  },
  {
   "cell_type": "code",
   "execution_count": 46,
   "id": "d675de9e-599e-4dab-9a33-bbbc17ae68db",
   "metadata": {},
   "outputs": [
    {
     "name": "stdout",
     "output_type": "stream",
     "text": [
      "3\n"
     ]
    }
   ],
   "source": [
    "add(\"vishant\",\"password\",1,2)"
   ]
  },
  {
   "cell_type": "code",
   "execution_count": 44,
   "id": "5699ab6e-60c5-45ea-aa73-24bad3173bd2",
   "metadata": {},
   "outputs": [
    {
     "name": "stdout",
     "output_type": "stream",
     "text": [
      "Not Authentiacted\n"
     ]
    }
   ],
   "source": [
    "add(2,3)"
   ]
  },
  {
   "cell_type": "code",
   "execution_count": 62,
   "id": "feae64a2-c81f-41d9-bf64-fa4a73115585",
   "metadata": {},
   "outputs": [],
   "source": [
    "def opt(a,b,*args, **y):\n",
    "    print(a)\n",
    "    print(b)\n",
    "    print(args)\n",
    "    print(type(args))\n",
    "    print(y)\n",
    "    print(type(y))"
   ]
  },
  {
   "cell_type": "code",
   "execution_count": 66,
   "id": "babf5490-7b24-4418-8d23-078ea1077261",
   "metadata": {},
   "outputs": [
    {
     "name": "stdout",
     "output_type": "stream",
     "text": [
      "1\n",
      "2\n",
      "(4,)\n",
      "<class 'tuple'>\n",
      "{'shake': 'oreo', 'drink': 'cola', 'fruit': 'mango'}\n",
      "<class 'dict'>\n"
     ]
    }
   ],
   "source": [
    "opt(1,2,4,shake=\"oreo\",drink=\"cola\",fruit=\"mango\")"
   ]
  },
  {
   "cell_type": "code",
   "execution_count": 67,
   "id": "13058e11-f9b7-49f9-8e9f-f8544842d169",
   "metadata": {},
   "outputs": [],
   "source": [
    "s = \"vishant\""
   ]
  },
  {
   "cell_type": "code",
   "execution_count": 68,
   "id": "715e3a21-b52c-47d1-9c6b-b7a9a167f8e6",
   "metadata": {},
   "outputs": [
    {
     "name": "stdout",
     "output_type": "stream",
     "text": [
      "vishant\n"
     ]
    }
   ],
   "source": [
    "print(s)"
   ]
  },
  {
   "cell_type": "code",
   "execution_count": 69,
   "id": "583f3dd2-3ef8-4847-ad24-eb772795757e",
   "metadata": {},
   "outputs": [],
   "source": [
    "s =\"\"\"\n",
    "I am a \n",
    "multiLine\n",
    "String\n",
    "\"\"\""
   ]
  },
  {
   "cell_type": "code",
   "execution_count": 70,
   "id": "99721e91-0743-462f-b0fc-433847e99afb",
   "metadata": {},
   "outputs": [
    {
     "name": "stdout",
     "output_type": "stream",
     "text": [
      "\n",
      "I am a \n",
      "multiLine\n",
      "String\n",
      "\n"
     ]
    }
   ],
   "source": [
    "print(s)"
   ]
  },
  {
   "cell_type": "code",
   "execution_count": 71,
   "id": "2380abc1-5746-48f5-9838-0e8e571a1b5a",
   "metadata": {},
   "outputs": [],
   "source": [
    "a = 'jatin'"
   ]
  },
  {
   "cell_type": "code",
   "execution_count": 72,
   "id": "f841c734-0529-412d-9835-3456320eef19",
   "metadata": {},
   "outputs": [
    {
     "name": "stdout",
     "output_type": "stream",
     "text": [
      "jatin\n"
     ]
    }
   ],
   "source": [
    "print(a)"
   ]
  },
  {
   "cell_type": "code",
   "execution_count": 73,
   "id": "b59982e6-ad89-4b2c-aab8-1ebb1450928d",
   "metadata": {},
   "outputs": [],
   "source": [
    "s = '''\n",
    "I try to \n",
    "print it out\n",
    "'''"
   ]
  },
  {
   "cell_type": "code",
   "execution_count": 74,
   "id": "5a0a830a-c8fb-4acb-a663-981fa5ac4aab",
   "metadata": {},
   "outputs": [
    {
     "name": "stdout",
     "output_type": "stream",
     "text": [
      "\n",
      "I try to \n",
      "print it out\n",
      "\n"
     ]
    }
   ],
   "source": [
    "print(s)"
   ]
  },
  {
   "cell_type": "code",
   "execution_count": 75,
   "id": "8828d6bd-614f-443a-bbce-cb5b8aef07db",
   "metadata": {},
   "outputs": [
    {
     "data": {
      "text/plain": [
       "'\\nI try to \\nprint it out\\n'"
      ]
     },
     "execution_count": 75,
     "metadata": {},
     "output_type": "execute_result"
    }
   ],
   "source": [
    "s"
   ]
  },
  {
   "cell_type": "code",
   "execution_count": 76,
   "id": "f51061c2-3a6b-4654-a802-980a08549320",
   "metadata": {},
   "outputs": [
    {
     "name": "stdout",
     "output_type": "stream",
     "text": [
      "a\n"
     ]
    }
   ],
   "source": [
    "print('a')"
   ]
  },
  {
   "cell_type": "code",
   "execution_count": 77,
   "id": "029dad4e-e0e3-47cb-bbbb-2f015157ce4e",
   "metadata": {},
   "outputs": [
    {
     "data": {
      "text/plain": [
       "\u001b[1;31mSignature:\u001b[0m \u001b[0mord\u001b[0m\u001b[1;33m(\u001b[0m\u001b[0mc\u001b[0m\u001b[1;33m,\u001b[0m \u001b[1;33m/\u001b[0m\u001b[1;33m)\u001b[0m\u001b[1;33m\u001b[0m\u001b[1;33m\u001b[0m\u001b[0m\n",
       "\u001b[1;31mDocstring:\u001b[0m Return the Unicode code point for a one-character string.\n",
       "\u001b[1;31mType:\u001b[0m      builtin_function_or_method"
      ]
     },
     "metadata": {},
     "output_type": "display_data"
    }
   ],
   "source": [
    "ord?"
   ]
  },
  {
   "cell_type": "code",
   "execution_count": 78,
   "id": "cdc9aa73-efc0-483a-8604-bd25fbd73db7",
   "metadata": {},
   "outputs": [
    {
     "data": {
      "text/plain": [
       "65"
      ]
     },
     "execution_count": 78,
     "metadata": {},
     "output_type": "execute_result"
    }
   ],
   "source": [
    "ord('A')"
   ]
  },
  {
   "cell_type": "code",
   "execution_count": 79,
   "id": "a596441f-fa39-48fe-af86-b41a775e1852",
   "metadata": {},
   "outputs": [
    {
     "data": {
      "text/plain": [
       "\u001b[1;31mSignature:\u001b[0m \u001b[0mchr\u001b[0m\u001b[1;33m(\u001b[0m\u001b[0mi\u001b[0m\u001b[1;33m,\u001b[0m \u001b[1;33m/\u001b[0m\u001b[1;33m)\u001b[0m\u001b[1;33m\u001b[0m\u001b[1;33m\u001b[0m\u001b[0m\n",
       "\u001b[1;31mDocstring:\u001b[0m Return a Unicode string of one character with ordinal i; 0 <= i <= 0x10ffff.\n",
       "\u001b[1;31mType:\u001b[0m      builtin_function_or_method"
      ]
     },
     "metadata": {},
     "output_type": "display_data"
    }
   ],
   "source": [
    "chr?"
   ]
  },
  {
   "cell_type": "code",
   "execution_count": 80,
   "id": "352599ac-2bae-4270-955b-0826b99aa78d",
   "metadata": {},
   "outputs": [
    {
     "data": {
      "text/plain": [
       "'ÿ'"
      ]
     },
     "execution_count": 80,
     "metadata": {},
     "output_type": "execute_result"
    }
   ],
   "source": [
    "chr(255)"
   ]
  },
  {
   "cell_type": "code",
   "execution_count": 81,
   "id": "8dccba55-a6fe-4451-b039-98cd52b06aaa",
   "metadata": {},
   "outputs": [
    {
     "ename": "NameError",
     "evalue": "name 'char' is not defined",
     "output_type": "error",
     "traceback": [
      "\u001b[1;31m---------------------------------------------------------------------------\u001b[0m",
      "\u001b[1;31mNameError\u001b[0m                                 Traceback (most recent call last)",
      "Cell \u001b[1;32mIn[81], line 1\u001b[0m\n\u001b[1;32m----> 1\u001b[0m \u001b[43mchar\u001b[49m(\u001b[38;5;241m256\u001b[39m)\n",
      "\u001b[1;31mNameError\u001b[0m: name 'char' is not defined"
     ]
    }
   ],
   "source": [
    "char(256)"
   ]
  },
  {
   "cell_type": "code",
   "execution_count": 82,
   "id": "fd6aba74-ee21-4206-b38f-19f7c255f0c6",
   "metadata": {},
   "outputs": [
    {
     "data": {
      "text/plain": [
       "'\\x00'"
      ]
     },
     "execution_count": 82,
     "metadata": {},
     "output_type": "execute_result"
    }
   ],
   "source": [
    "chr(0)"
   ]
  },
  {
   "cell_type": "markdown",
   "id": "a7d9d94d-ad7e-4f02-9711-82d63cb9f9f5",
   "metadata": {},
   "source": [
    "# FORMAT"
   ]
  },
  {
   "cell_type": "code",
   "execution_count": 95,
   "id": "6fcfee23-6b74-4917-8c63-e0bb68ee4684",
   "metadata": {},
   "outputs": [],
   "source": [
    "a = 'jatin'\n",
    "b = 2\n",
    "c = 3"
   ]
  },
  {
   "cell_type": "code",
   "execution_count": 90,
   "id": "939a6f0f-4937-460a-9a57-2b09619dee8b",
   "metadata": {},
   "outputs": [
    {
     "ename": "TypeError",
     "evalue": "%d format: a real number is required, not str",
     "output_type": "error",
     "traceback": [
      "\u001b[1;31m---------------------------------------------------------------------------\u001b[0m",
      "\u001b[1;31mTypeError\u001b[0m                                 Traceback (most recent call last)",
      "Cell \u001b[1;32mIn[90], line 1\u001b[0m\n\u001b[1;32m----> 1\u001b[0m \u001b[38;5;28mprint\u001b[39m(\u001b[38;5;124;43m\"\u001b[39;49m\u001b[38;5;132;43;01m%d\u001b[39;49;00m\u001b[38;5;124;43m-\u001b[39;49m\u001b[38;5;132;43;01m%d\u001b[39;49;00m\u001b[38;5;124;43m-\u001b[39;49m\u001b[38;5;132;43;01m%d\u001b[39;49;00m\u001b[38;5;124;43m\"\u001b[39;49m\u001b[38;5;241;43m%\u001b[39;49m\u001b[43m(\u001b[49m\u001b[43ma\u001b[49m\u001b[43m,\u001b[49m\u001b[43mb\u001b[49m\u001b[43m,\u001b[49m\u001b[43mc\u001b[49m\u001b[43m)\u001b[49m)\n",
      "\u001b[1;31mTypeError\u001b[0m: %d format: a real number is required, not str"
     ]
    }
   ],
   "source": [
    "print(\"%d-%d-%d\"%(a,b,c))"
   ]
  },
  {
   "cell_type": "code",
   "execution_count": 88,
   "id": "870e5f99-e36d-4786-b7d0-90ed1580600e",
   "metadata": {},
   "outputs": [
    {
     "name": "stdout",
     "output_type": "stream",
     "text": [
      "1-2-3\n"
     ]
    }
   ],
   "source": [
    "print(str(a) + \"-\" + str(b) + \"-\" + str(c))"
   ]
  },
  {
   "cell_type": "code",
   "execution_count": 97,
   "id": "d505ddda-9316-451c-8321-7151d0edb2d5",
   "metadata": {},
   "outputs": [
    {
     "name": "stdout",
     "output_type": "stream",
     "text": [
      "is a mentor-vishant-sandilya\n"
     ]
    }
   ],
   "source": [
    "print(\"{c}-{a}-{b}\".format(a=\"vishant\",b=\"sandilya\",c=\"is a mentor\"))"
   ]
  },
  {
   "cell_type": "code",
   "execution_count": 98,
   "id": "dc5293a4-84c5-4c50-805d-f8326b52c950",
   "metadata": {},
   "outputs": [
    {
     "name": "stdout",
     "output_type": "stream",
     "text": [
      "jatin-2-3\n"
     ]
    }
   ],
   "source": [
    "print(f\"{a}-{b}-{c}\")"
   ]
  },
  {
   "cell_type": "code",
   "execution_count": 99,
   "id": "d0de30be-07bb-4da8-ae23-9a1301b59e82",
   "metadata": {},
   "outputs": [],
   "source": [
    "a = \"     hating.   \"\n"
   ]
  },
  {
   "cell_type": "code",
   "execution_count": 101,
   "id": "789e9f27-9cf4-43dd-9669-c49811ba3938",
   "metadata": {},
   "outputs": [
    {
     "name": "stdout",
     "output_type": "stream",
     "text": [
      "hating.\n"
     ]
    }
   ],
   "source": [
    "print(a.strip())"
   ]
  },
  {
   "cell_type": "code",
   "execution_count": null,
   "id": "c6bd660a-71e7-4a2b-a69e-7f1367abc853",
   "metadata": {},
   "outputs": [],
   "source": []
  },
  {
   "cell_type": "code",
   "execution_count": null,
   "id": "7efe88e0-52bc-4450-9236-d7e1d1cbec85",
   "metadata": {},
   "outputs": [],
   "source": []
  },
  {
   "cell_type": "code",
   "execution_count": null,
   "id": "8721dcd5-9d27-45a2-bbbb-620d1fd79937",
   "metadata": {},
   "outputs": [],
   "source": []
  },
  {
   "cell_type": "code",
   "execution_count": 102,
   "id": "ef48e505-d031-4436-93d1-e33afb0766fb",
   "metadata": {},
   "outputs": [
    {
     "name": "stdin",
     "output_type": "stream",
     "text": [
      " yes \n"
     ]
    }
   ],
   "source": [
    "a = input()"
   ]
  },
  {
   "cell_type": "code",
   "execution_count": 104,
   "id": "39ab41c4-9e3c-44ce-8a59-dac0d9c85b3b",
   "metadata": {},
   "outputs": [
    {
     "data": {
      "text/plain": [
       "True"
      ]
     },
     "execution_count": 104,
     "metadata": {},
     "output_type": "execute_result"
    }
   ],
   "source": [
    "a.strip()==\"yes\""
   ]
  },
  {
   "cell_type": "markdown",
   "id": "13543480-a04a-4599-8154-5d20a2cc12a2",
   "metadata": {},
   "source": [
    "# SPLIT"
   ]
  },
  {
   "cell_type": "code",
   "execution_count": 105,
   "id": "6d0be025-087b-44b9-8dc7-f1b0ba526fd4",
   "metadata": {},
   "outputs": [],
   "source": [
    "a = '1 2 3 4 5 6'"
   ]
  },
  {
   "cell_type": "code",
   "execution_count": 106,
   "id": "62ac1993-4602-4aac-93df-7ce4ae10a3dd",
   "metadata": {},
   "outputs": [
    {
     "name": "stdout",
     "output_type": "stream",
     "text": [
      "1 2 3 4 5 6\n"
     ]
    }
   ],
   "source": [
    "print(a)"
   ]
  },
  {
   "cell_type": "code",
   "execution_count": 107,
   "id": "9181cdc6-ff03-4997-ab6a-a97f17b0ffb7",
   "metadata": {},
   "outputs": [
    {
     "data": {
      "text/plain": [
       "['1', '2', '3', '4', '5', '6']"
      ]
     },
     "execution_count": 107,
     "metadata": {},
     "output_type": "execute_result"
    }
   ],
   "source": [
    "a.split(' ')"
   ]
  },
  {
   "cell_type": "code",
   "execution_count": 108,
   "id": "6d08cb5a-d345-4f4f-8c4b-e65c7510730a",
   "metadata": {},
   "outputs": [
    {
     "name": "stdout",
     "output_type": "stream",
     "text": [
      "1 2 3 4 5 6\n"
     ]
    }
   ],
   "source": [
    "print(a)"
   ]
  },
  {
   "cell_type": "code",
   "execution_count": 109,
   "id": "11d893ee-f730-4fb2-aba4-4d36232754d7",
   "metadata": {},
   "outputs": [],
   "source": [
    "a = 'vishant'"
   ]
  },
  {
   "cell_type": "code",
   "execution_count": 110,
   "id": "770f0e60-12ff-4054-a71a-7b88ae1c02b7",
   "metadata": {},
   "outputs": [
    {
     "ename": "TypeError",
     "evalue": "'str' object does not support item assignment",
     "output_type": "error",
     "traceback": [
      "\u001b[1;31m---------------------------------------------------------------------------\u001b[0m",
      "\u001b[1;31mTypeError\u001b[0m                                 Traceback (most recent call last)",
      "Cell \u001b[1;32mIn[110], line 1\u001b[0m\n\u001b[1;32m----> 1\u001b[0m \u001b[43ma\u001b[49m\u001b[43m[\u001b[49m\u001b[38;5;241;43m0\u001b[39;49m\u001b[43m]\u001b[49m\u001b[38;5;241m=\u001b[39m\u001b[38;5;124m'\u001b[39m\u001b[38;5;124ml\u001b[39m\u001b[38;5;124m'\u001b[39m\n",
      "\u001b[1;31mTypeError\u001b[0m: 'str' object does not support item assignment"
     ]
    }
   ],
   "source": [
    "a[0]='l'"
   ]
  },
  {
   "cell_type": "code",
   "execution_count": 111,
   "id": "2221cef4-38ae-4a67-9fa6-0ed82e13020f",
   "metadata": {},
   "outputs": [
    {
     "data": {
      "text/plain": [
       "'lishant'"
      ]
     },
     "execution_count": 111,
     "metadata": {},
     "output_type": "execute_result"
    }
   ],
   "source": [
    "a.replace('v','l')"
   ]
  },
  {
   "cell_type": "code",
   "execution_count": 112,
   "id": "84931d49-1b80-4b8a-8a1e-5171487ccb66",
   "metadata": {},
   "outputs": [],
   "source": [
    "a = 'aaabbbcccaa'"
   ]
  },
  {
   "cell_type": "code",
   "execution_count": 113,
   "id": "39224296-22c3-46fc-9a66-b67a757d42b3",
   "metadata": {},
   "outputs": [
    {
     "data": {
      "text/plain": [
       "'lllbbbcccll'"
      ]
     },
     "execution_count": 113,
     "metadata": {},
     "output_type": "execute_result"
    }
   ],
   "source": [
    "a.replace('a','l')"
   ]
  },
  {
   "cell_type": "code",
   "execution_count": 114,
   "id": "b8484f88-342a-48e2-94fd-1388e0ae4566",
   "metadata": {},
   "outputs": [
    {
     "data": {
      "text/plain": [
       "5"
      ]
     },
     "execution_count": 114,
     "metadata": {},
     "output_type": "execute_result"
    }
   ],
   "source": [
    "a.count('a')"
   ]
  },
  {
   "cell_type": "code",
   "execution_count": 115,
   "id": "0a057310-3456-476b-a1a0-5e80e4769e05",
   "metadata": {},
   "outputs": [
    {
     "data": {
      "text/plain": [
       "2"
      ]
     },
     "execution_count": 115,
     "metadata": {},
     "output_type": "execute_result"
    }
   ],
   "source": [
    "a.count('aa')"
   ]
  },
  {
   "cell_type": "code",
   "execution_count": 122,
   "id": "ed8fbd99-093e-4f8f-b03b-4d97105a44aa",
   "metadata": {},
   "outputs": [],
   "source": [
    "a = [1,2,3,4,5]"
   ]
  },
  {
   "cell_type": "code",
   "execution_count": 117,
   "id": "cd93246a-8244-47c7-b87a-03b876a7ff91",
   "metadata": {},
   "outputs": [
    {
     "name": "stdout",
     "output_type": "stream",
     "text": [
      "[1, 2, 3, 4, 5]\n"
     ]
    }
   ],
   "source": [
    "print(a)"
   ]
  },
  {
   "cell_type": "code",
   "execution_count": 119,
   "id": "408e9121-99a1-4f04-8d8d-7e9e41309efc",
   "metadata": {},
   "outputs": [
    {
     "ename": "TypeError",
     "evalue": "list expected at most 1 argument, got 3",
     "output_type": "error",
     "traceback": [
      "\u001b[1;31m---------------------------------------------------------------------------\u001b[0m",
      "\u001b[1;31mTypeError\u001b[0m                                 Traceback (most recent call last)",
      "Cell \u001b[1;32mIn[119], line 1\u001b[0m\n\u001b[1;32m----> 1\u001b[0m a \u001b[38;5;241m=\u001b[39m \u001b[38;5;28;43mlist\u001b[39;49m\u001b[43m(\u001b[49m\u001b[38;5;241;43m1\u001b[39;49m\u001b[43m,\u001b[49m\u001b[38;5;241;43m2\u001b[39;49m\u001b[43m,\u001b[49m\u001b[38;5;241;43m4\u001b[39;49m\u001b[43m)\u001b[49m\n",
      "\u001b[1;31mTypeError\u001b[0m: list expected at most 1 argument, got 3"
     ]
    }
   ],
   "source": [
    "a = list(1,2,4)"
   ]
  },
  {
   "cell_type": "code",
   "execution_count": 120,
   "id": "4620e04f-500f-46d0-b812-7c0b9dec45dc",
   "metadata": {},
   "outputs": [
    {
     "ename": "SyntaxError",
     "evalue": "incomplete input (2246344685.py, line 1)",
     "output_type": "error",
     "traceback": [
      "\u001b[1;36m  Cell \u001b[1;32mIn[120], line 1\u001b[1;36m\u001b[0m\n\u001b[1;33m    a[0[\u001b[0m\n\u001b[1;37m        ^\u001b[0m\n\u001b[1;31mSyntaxError\u001b[0m\u001b[1;31m:\u001b[0m incomplete input\n"
     ]
    }
   ],
   "source": [
    "a[0["
   ]
  },
  {
   "cell_type": "code",
   "execution_count": 123,
   "id": "f94e4021-8d83-487f-a412-8c58062f7378",
   "metadata": {},
   "outputs": [
    {
     "data": {
      "text/plain": [
       "1"
      ]
     },
     "execution_count": 123,
     "metadata": {},
     "output_type": "execute_result"
    }
   ],
   "source": [
    "a[0]"
   ]
  },
  {
   "cell_type": "code",
   "execution_count": 124,
   "id": "703dcf69-db57-42d2-82d7-0a3235f1b42e",
   "metadata": {},
   "outputs": [
    {
     "ename": "SyntaxError",
     "evalue": "incomplete input (1864132600.py, line 1)",
     "output_type": "error",
     "traceback": [
      "\u001b[1;36m  Cell \u001b[1;32mIn[124], line 1\u001b[1;36m\u001b[0m\n\u001b[1;33m    a[10[\u001b[0m\n\u001b[1;37m         ^\u001b[0m\n\u001b[1;31mSyntaxError\u001b[0m\u001b[1;31m:\u001b[0m incomplete input\n"
     ]
    }
   ],
   "source": [
    "a[10["
   ]
  },
  {
   "cell_type": "code",
   "execution_count": 125,
   "id": "2eb25c0f-342d-49fa-aac1-7c3168ee9aa6",
   "metadata": {},
   "outputs": [
    {
     "ename": "IndexError",
     "evalue": "list index out of range",
     "output_type": "error",
     "traceback": [
      "\u001b[1;31m---------------------------------------------------------------------------\u001b[0m",
      "\u001b[1;31mIndexError\u001b[0m                                Traceback (most recent call last)",
      "Cell \u001b[1;32mIn[125], line 1\u001b[0m\n\u001b[1;32m----> 1\u001b[0m \u001b[43ma\u001b[49m\u001b[43m[\u001b[49m\u001b[38;5;241;43m10\u001b[39;49m\u001b[43m]\u001b[49m\n",
      "\u001b[1;31mIndexError\u001b[0m: list index out of range"
     ]
    }
   ],
   "source": [
    "a[10]"
   ]
  },
  {
   "cell_type": "code",
   "execution_count": 126,
   "id": "ddb3fdaf-98ed-43fb-806a-07e2bb0e5e8d",
   "metadata": {},
   "outputs": [],
   "source": [
    "a = ['vishant', 1, 10.9, print]"
   ]
  },
  {
   "cell_type": "code",
   "execution_count": 127,
   "id": "5d382f67-8704-46d1-ab03-b910f0c46a60",
   "metadata": {},
   "outputs": [
    {
     "data": {
      "text/plain": [
       "'vishant'"
      ]
     },
     "execution_count": 127,
     "metadata": {},
     "output_type": "execute_result"
    }
   ],
   "source": [
    "a[0]"
   ]
  },
  {
   "cell_type": "code",
   "execution_count": 128,
   "id": "82cd84af-6d99-49d0-8680-8585584d0ff6",
   "metadata": {},
   "outputs": [
    {
     "name": "stdout",
     "output_type": "stream",
     "text": [
      "1 2 4 54\n"
     ]
    }
   ],
   "source": [
    "a[3](1,2,4,54)"
   ]
  },
  {
   "cell_type": "markdown",
   "id": "89386945-1c4d-4772-80d1-5f8970ad0d85",
   "metadata": {},
   "source": [
    "# Functions"
   ]
  },
  {
   "cell_type": "code",
   "execution_count": 129,
   "id": "35e26116-7695-45d8-af2f-dfe1f540c627",
   "metadata": {},
   "outputs": [],
   "source": [
    "a = [1,2,3,4]"
   ]
  },
  {
   "cell_type": "code",
   "execution_count": 130,
   "id": "7c6fd922-0de5-4400-9d34-c9f1f3c2c0a8",
   "metadata": {},
   "outputs": [
    {
     "data": {
      "text/plain": [
       "4"
      ]
     },
     "execution_count": 130,
     "metadata": {},
     "output_type": "execute_result"
    }
   ],
   "source": [
    "len(a)"
   ]
  },
  {
   "cell_type": "code",
   "execution_count": 131,
   "id": "530c5231-362c-4e62-9c12-9a61fabf5039",
   "metadata": {},
   "outputs": [
    {
     "data": {
      "text/plain": [
       "[1, 2, 3, 4, 1, 2, 3, 4]"
      ]
     },
     "execution_count": 131,
     "metadata": {},
     "output_type": "execute_result"
    }
   ],
   "source": [
    "a + a"
   ]
  },
  {
   "cell_type": "code",
   "execution_count": 132,
   "id": "f2304825-028e-4516-b3af-f6d4dfb641bf",
   "metadata": {},
   "outputs": [
    {
     "data": {
      "text/plain": [
       "[1, 2, 3, 4, 1, 2, 3, 4, 1, 2, 3, 4]"
      ]
     },
     "execution_count": 132,
     "metadata": {},
     "output_type": "execute_result"
    }
   ],
   "source": [
    "a*3"
   ]
  },
  {
   "cell_type": "code",
   "execution_count": 133,
   "id": "745c4405-46b1-41fa-aadf-e4eb441c3592",
   "metadata": {},
   "outputs": [
    {
     "data": {
      "text/plain": [
       "True"
      ]
     },
     "execution_count": 133,
     "metadata": {},
     "output_type": "execute_result"
    }
   ],
   "source": [
    "3 in a"
   ]
  },
  {
   "cell_type": "code",
   "execution_count": 134,
   "id": "1e4c439c-3dd9-4e73-acac-ce0ec2803ece",
   "metadata": {},
   "outputs": [
    {
     "ename": "TypeError",
     "evalue": "unsupported operand type(s) for ** or pow(): 'list' and 'int'",
     "output_type": "error",
     "traceback": [
      "\u001b[1;31m---------------------------------------------------------------------------\u001b[0m",
      "\u001b[1;31mTypeError\u001b[0m                                 Traceback (most recent call last)",
      "Cell \u001b[1;32mIn[134], line 1\u001b[0m\n\u001b[1;32m----> 1\u001b[0m \u001b[43ma\u001b[49m\u001b[43m \u001b[49m\u001b[38;5;241;43m*\u001b[39;49m\u001b[38;5;241;43m*\u001b[39;49m\u001b[43m \u001b[49m\u001b[38;5;241;43m2\u001b[39;49m\n",
      "\u001b[1;31mTypeError\u001b[0m: unsupported operand type(s) for ** or pow(): 'list' and 'int'"
     ]
    }
   ],
   "source": [
    "a ** 2"
   ]
  },
  {
   "cell_type": "code",
   "execution_count": null,
   "id": "2c04e5b2-9926-4291-9d98-0045d1e5e143",
   "metadata": {},
   "outputs": [],
   "source": []
  },
  {
   "cell_type": "code",
   "execution_count": 135,
   "id": "7846d413-d6c3-4002-9bcf-4f2328e8c984",
   "metadata": {},
   "outputs": [
    {
     "name": "stdout",
     "output_type": "stream",
     "text": [
      "1\n",
      "2\n",
      "3\n",
      "4\n"
     ]
    }
   ],
   "source": [
    "for x in a:\n",
    "    print(x)"
   ]
  },
  {
   "cell_type": "code",
   "execution_count": 136,
   "id": "4d629a83-c4bd-47c3-81be-bfa187484746",
   "metadata": {},
   "outputs": [
    {
     "data": {
      "text/plain": [
       "[1, 2, 3, 4]"
      ]
     },
     "execution_count": 136,
     "metadata": {},
     "output_type": "execute_result"
    }
   ],
   "source": [
    " a"
   ]
  },
  {
   "cell_type": "code",
   "execution_count": 137,
   "id": "cce74773-324b-4b43-9ae2-fc9e300a8ec1",
   "metadata": {},
   "outputs": [
    {
     "data": {
      "text/plain": [
       "1"
      ]
     },
     "execution_count": 137,
     "metadata": {},
     "output_type": "execute_result"
    }
   ],
   "source": [
    "a[0]"
   ]
  },
  {
   "cell_type": "code",
   "execution_count": 138,
   "id": "53a8380e-98a4-4e09-9cb5-b530e7d00805",
   "metadata": {},
   "outputs": [
    {
     "data": {
      "text/plain": [
       "2"
      ]
     },
     "execution_count": 138,
     "metadata": {},
     "output_type": "execute_result"
    }
   ],
   "source": [
    "a[1]"
   ]
  },
  {
   "cell_type": "code",
   "execution_count": 139,
   "id": "7f2a21fd-e125-4dbf-b991-efa0a4e233d7",
   "metadata": {},
   "outputs": [
    {
     "data": {
      "text/plain": [
       "3"
      ]
     },
     "execution_count": 139,
     "metadata": {},
     "output_type": "execute_result"
    }
   ],
   "source": [
    "a[2]"
   ]
  },
  {
   "cell_type": "code",
   "execution_count": 140,
   "id": "d05128b6-513c-4a23-9d70-cc964a883832",
   "metadata": {},
   "outputs": [
    {
     "data": {
      "text/plain": [
       "4"
      ]
     },
     "execution_count": 140,
     "metadata": {},
     "output_type": "execute_result"
    }
   ],
   "source": [
    "a[3]"
   ]
  },
  {
   "cell_type": "code",
   "execution_count": 141,
   "id": "3fb53b09-fe9d-4d9f-a97e-79f1b4033c5a",
   "metadata": {},
   "outputs": [
    {
     "data": {
      "text/plain": [
       "4"
      ]
     },
     "execution_count": 141,
     "metadata": {},
     "output_type": "execute_result"
    }
   ],
   "source": [
    "a[-1]"
   ]
  },
  {
   "cell_type": "code",
   "execution_count": 142,
   "id": "56d352c5-fbea-44ed-afae-286edfd97596",
   "metadata": {},
   "outputs": [
    {
     "data": {
      "text/plain": [
       "4"
      ]
     },
     "execution_count": 142,
     "metadata": {},
     "output_type": "execute_result"
    }
   ],
   "source": [
    "a[len(a)-1]"
   ]
  },
  {
   "cell_type": "code",
   "execution_count": 143,
   "id": "3082198a-a8d6-455a-8f9c-21f7b3e8ea44",
   "metadata": {},
   "outputs": [
    {
     "data": {
      "text/plain": [
       "3"
      ]
     },
     "execution_count": 143,
     "metadata": {},
     "output_type": "execute_result"
    }
   ],
   "source": [
    "a[-2]"
   ]
  },
  {
   "cell_type": "code",
   "execution_count": 144,
   "id": "be3b40c4-53b9-47cf-a1e3-4725f3b600b6",
   "metadata": {},
   "outputs": [
    {
     "data": {
      "text/plain": [
       "2"
      ]
     },
     "execution_count": 144,
     "metadata": {},
     "output_type": "execute_result"
    }
   ],
   "source": [
    "a[-3]"
   ]
  },
  {
   "cell_type": "code",
   "execution_count": 145,
   "id": "d01ee54f-0806-4105-bef0-25fb2234f214",
   "metadata": {},
   "outputs": [
    {
     "data": {
      "text/plain": [
       "1"
      ]
     },
     "execution_count": 145,
     "metadata": {},
     "output_type": "execute_result"
    }
   ],
   "source": [
    "a[-4]"
   ]
  },
  {
   "cell_type": "code",
   "execution_count": 146,
   "id": "61e5d664-3d3a-486b-8a34-76d3ffe9d63f",
   "metadata": {},
   "outputs": [],
   "source": [
    "a ='vishant'"
   ]
  },
  {
   "cell_type": "code",
   "execution_count": 147,
   "id": "626fd707-78b3-4bba-95e2-af4ff2d8359e",
   "metadata": {},
   "outputs": [
    {
     "data": {
      "text/plain": [
       "'t'"
      ]
     },
     "execution_count": 147,
     "metadata": {},
     "output_type": "execute_result"
    }
   ],
   "source": [
    "a[-1]"
   ]
  },
  {
   "cell_type": "code",
   "execution_count": 148,
   "id": "20b12fa8-b539-4abc-b708-ccdc5a7e0b34",
   "metadata": {},
   "outputs": [],
   "source": [
    "a=[1,2,3,4,5]"
   ]
  },
  {
   "cell_type": "code",
   "execution_count": 149,
   "id": "7d1a5e49-365c-4a7d-87da-4049d0242012",
   "metadata": {},
   "outputs": [
    {
     "data": {
      "text/plain": [
       "[2, 3, 4]"
      ]
     },
     "execution_count": 149,
     "metadata": {},
     "output_type": "execute_result"
    }
   ],
   "source": [
    "a[1:4]"
   ]
  },
  {
   "cell_type": "code",
   "execution_count": 150,
   "id": "1a0c486c-69f0-42d7-9b63-2750eb6f2314",
   "metadata": {},
   "outputs": [
    {
     "ename": "ValueError",
     "evalue": "slice step cannot be zero",
     "output_type": "error",
     "traceback": [
      "\u001b[1;31m---------------------------------------------------------------------------\u001b[0m",
      "\u001b[1;31mValueError\u001b[0m                                Traceback (most recent call last)",
      "Cell \u001b[1;32mIn[150], line 1\u001b[0m\n\u001b[1;32m----> 1\u001b[0m \u001b[43ma\u001b[49m\u001b[43m[\u001b[49m\u001b[38;5;241;43m0\u001b[39;49m\u001b[43m:\u001b[49m\u001b[38;5;241;43m5\u001b[39;49m\u001b[43m:\u001b[49m\u001b[38;5;241;43m0\u001b[39;49m\u001b[43m]\u001b[49m\n",
      "\u001b[1;31mValueError\u001b[0m: slice step cannot be zero"
     ]
    }
   ],
   "source": [
    "a[0:5:0]"
   ]
  },
  {
   "cell_type": "code",
   "execution_count": 151,
   "id": "3696bf66-2e73-435d-becf-32448508be35",
   "metadata": {},
   "outputs": [
    {
     "data": {
      "text/plain": [
       "[1, 3, 5]"
      ]
     },
     "execution_count": 151,
     "metadata": {},
     "output_type": "execute_result"
    }
   ],
   "source": [
    "a[0:5:2]"
   ]
  },
  {
   "cell_type": "code",
   "execution_count": 159,
   "id": "9b36636b-1edc-48d2-b81f-b7c22abab0ea",
   "metadata": {},
   "outputs": [],
   "source": [
    "a = \"mam\""
   ]
  },
  {
   "cell_type": "code",
   "execution_count": 153,
   "id": "a5db51f4-05e2-4010-bcd4-8d7154f49d79",
   "metadata": {},
   "outputs": [],
   "source": [
    "a = [1,2,3,4,5]"
   ]
  },
  {
   "cell_type": "code",
   "execution_count": 154,
   "id": "fb698cda-c8ef-467e-b503-3f3852cd3548",
   "metadata": {},
   "outputs": [
    {
     "data": {
      "text/plain": [
       "[1, 2, 3, 4, 5]"
      ]
     },
     "execution_count": 154,
     "metadata": {},
     "output_type": "execute_result"
    }
   ],
   "source": [
    "a[:]"
   ]
  },
  {
   "cell_type": "code",
   "execution_count": 157,
   "id": "31a1c274-2990-463c-a3af-b42e269c553c",
   "metadata": {},
   "outputs": [
    {
     "data": {
      "text/plain": [
       "'nitaj'"
      ]
     },
     "execution_count": 157,
     "metadata": {},
     "output_type": "execute_result"
    }
   ],
   "source": [
    "a[::-1]"
   ]
  },
  {
   "cell_type": "code",
   "execution_count": 160,
   "id": "4dc03fac-eb55-4a22-81a9-e00d6232c146",
   "metadata": {},
   "outputs": [
    {
     "data": {
      "text/plain": [
       "True"
      ]
     },
     "execution_count": 160,
     "metadata": {},
     "output_type": "execute_result"
    }
   ],
   "source": [
    "a == a[::-1]"
   ]
  },
  {
   "cell_type": "code",
   "execution_count": 161,
   "id": "6621757f-cde0-4e91-b749-c83fae2f6078",
   "metadata": {},
   "outputs": [],
   "source": [
    "a = [1,2,3,4,5]"
   ]
  },
  {
   "cell_type": "code",
   "execution_count": 162,
   "id": "a7201288-b6c4-450a-bd92-2f6820ab9e62",
   "metadata": {},
   "outputs": [],
   "source": [
    "a.insert(1,'vishant')"
   ]
  },
  {
   "cell_type": "code",
   "execution_count": 164,
   "id": "904b98a0-32c9-4a6e-b2af-a990c88538f7",
   "metadata": {},
   "outputs": [],
   "source": [
    "a.append('sandilya')"
   ]
  },
  {
   "cell_type": "code",
   "execution_count": 165,
   "id": "3ae3e0a1-d158-4888-a915-b1c2c249ace6",
   "metadata": {},
   "outputs": [
    {
     "data": {
      "text/plain": [
       "[1, 'vishant', 2, 3, 4, 5, 'sandilya']"
      ]
     },
     "execution_count": 165,
     "metadata": {},
     "output_type": "execute_result"
    }
   ],
   "source": [
    "a"
   ]
  },
  {
   "cell_type": "code",
   "execution_count": 166,
   "id": "6a84eebd-50da-4a70-a8f7-7969d21f1631",
   "metadata": {},
   "outputs": [
    {
     "data": {
      "text/plain": [
       "'sandilya'"
      ]
     },
     "execution_count": 166,
     "metadata": {},
     "output_type": "execute_result"
    }
   ],
   "source": [
    "a.pop()"
   ]
  },
  {
   "cell_type": "code",
   "execution_count": 167,
   "id": "ab5f5ad0-a69b-4877-bf01-dc6730420369",
   "metadata": {},
   "outputs": [
    {
     "data": {
      "text/plain": [
       "[1, 'vishant', 2, 3, 4, 5]"
      ]
     },
     "execution_count": 167,
     "metadata": {},
     "output_type": "execute_result"
    }
   ],
   "source": [
    "a"
   ]
  },
  {
   "cell_type": "code",
   "execution_count": 168,
   "id": "335b8a5b-23b5-421e-862e-da6b49460284",
   "metadata": {},
   "outputs": [
    {
     "data": {
      "text/plain": [
       "'vishant'"
      ]
     },
     "execution_count": 168,
     "metadata": {},
     "output_type": "execute_result"
    }
   ],
   "source": [
    "a.pop(1)"
   ]
  },
  {
   "cell_type": "code",
   "execution_count": 169,
   "id": "563738fd-c8ee-4a22-b862-de0540ae62df",
   "metadata": {},
   "outputs": [
    {
     "data": {
      "text/plain": [
       "[1, 2, 3, 4, 5]"
      ]
     },
     "execution_count": 169,
     "metadata": {},
     "output_type": "execute_result"
    }
   ],
   "source": [
    "a"
   ]
  },
  {
   "cell_type": "code",
   "execution_count": 170,
   "id": "233272dc-67f8-437f-85c9-681e06300df6",
   "metadata": {},
   "outputs": [],
   "source": [
    "a = [\"vishant\",\"sandilya\",\"arun\"]"
   ]
  },
  {
   "cell_type": "code",
   "execution_count": 171,
   "id": "e337b668-0ec3-44f4-be51-202c52447d99",
   "metadata": {},
   "outputs": [],
   "source": [
    "a.remove(\"sandilya\")"
   ]
  },
  {
   "cell_type": "code",
   "execution_count": 172,
   "id": "e8ea47d1-6e26-444e-ba4e-44c42751cf52",
   "metadata": {},
   "outputs": [
    {
     "data": {
      "text/plain": [
       "['vishant', 'arun']"
      ]
     },
     "execution_count": 172,
     "metadata": {},
     "output_type": "execute_result"
    }
   ],
   "source": [
    "a"
   ]
  },
  {
   "cell_type": "code",
   "execution_count": 173,
   "id": "3d82b192-2ea2-40c8-b64d-da8113967c57",
   "metadata": {},
   "outputs": [],
   "source": [
    "del a[1]"
   ]
  },
  {
   "cell_type": "code",
   "execution_count": 174,
   "id": "253f4200-bdef-4555-bd44-bc6cbf0fe351",
   "metadata": {},
   "outputs": [
    {
     "data": {
      "text/plain": [
       "['vishant']"
      ]
     },
     "execution_count": 174,
     "metadata": {},
     "output_type": "execute_result"
    }
   ],
   "source": [
    "a"
   ]
  },
  {
   "cell_type": "code",
   "execution_count": 175,
   "id": "826968fe-a063-423e-8122-94f383c45857",
   "metadata": {},
   "outputs": [],
   "source": [
    "del a"
   ]
  },
  {
   "cell_type": "code",
   "execution_count": 176,
   "id": "b6071390-8708-4759-9995-6708a53aca41",
   "metadata": {},
   "outputs": [
    {
     "ename": "NameError",
     "evalue": "name 'a' is not defined",
     "output_type": "error",
     "traceback": [
      "\u001b[1;31m---------------------------------------------------------------------------\u001b[0m",
      "\u001b[1;31mNameError\u001b[0m                                 Traceback (most recent call last)",
      "Cell \u001b[1;32mIn[176], line 1\u001b[0m\n\u001b[1;32m----> 1\u001b[0m \u001b[43ma\u001b[49m\n",
      "\u001b[1;31mNameError\u001b[0m: name 'a' is not defined"
     ]
    }
   ],
   "source": [
    "a"
   ]
  },
  {
   "cell_type": "code",
   "execution_count": 177,
   "id": "1eeb9654-9951-4714-9168-9fd2f0b57977",
   "metadata": {},
   "outputs": [],
   "source": [
    "a=[4,1,2,3,1,5]"
   ]
  },
  {
   "cell_type": "code",
   "execution_count": 178,
   "id": "5edca1b4-ffa1-4dd6-952e-7192b9b71431",
   "metadata": {},
   "outputs": [
    {
     "data": {
      "text/plain": [
       "[1, 1, 2, 3, 4, 5]"
      ]
     },
     "execution_count": 178,
     "metadata": {},
     "output_type": "execute_result"
    }
   ],
   "source": [
    "sorted(a)"
   ]
  },
  {
   "cell_type": "code",
   "execution_count": 179,
   "id": "f6941fd0-5572-4528-a288-c80dd0f64d80",
   "metadata": {},
   "outputs": [],
   "source": [
    "a.sort()"
   ]
  },
  {
   "cell_type": "code",
   "execution_count": 180,
   "id": "5bb20c58-313b-4cab-8028-76a09c44a332",
   "metadata": {},
   "outputs": [
    {
     "data": {
      "text/plain": [
       "[1, 1, 2, 3, 4, 5]"
      ]
     },
     "execution_count": 180,
     "metadata": {},
     "output_type": "execute_result"
    }
   ],
   "source": [
    "a"
   ]
  },
  {
   "cell_type": "code",
   "execution_count": 185,
   "id": "4841be91-b5e9-4955-a1e9-46d23d218bb3",
   "metadata": {},
   "outputs": [
    {
     "name": "stdout",
     "output_type": "stream",
     "text": [
      "1\n",
      "1\n",
      "2\n",
      "3\n",
      "4\n",
      "5\n"
     ]
    }
   ],
   "source": [
    "for i in reversed(a):\n",
    "    print(i)"
   ]
  },
  {
   "cell_type": "code",
   "execution_count": 183,
   "id": "d9838068-a050-4f4f-ab3a-cc80fef357c1",
   "metadata": {},
   "outputs": [],
   "source": [
    "a.reverse()"
   ]
  },
  {
   "cell_type": "code",
   "execution_count": 184,
   "id": "38d9f3d4-eb4a-42e2-b0aa-fd4e16fc870c",
   "metadata": {},
   "outputs": [
    {
     "data": {
      "text/plain": [
       "[5, 4, 3, 2, 1, 1]"
      ]
     },
     "execution_count": 184,
     "metadata": {},
     "output_type": "execute_result"
    }
   ],
   "source": [
    "a"
   ]
  },
  {
   "cell_type": "markdown",
   "id": "e422556b-3846-40e8-a2d1-4606c565bea6",
   "metadata": {},
   "source": [
    "# TUPLE "
   ]
  },
  {
   "cell_type": "code",
   "execution_count": 186,
   "id": "0108b5ba-8f89-4f0f-b2e9-4770370c11a5",
   "metadata": {},
   "outputs": [],
   "source": [
    "a = [1,2,3,4]"
   ]
  },
  {
   "cell_type": "code",
   "execution_count": 187,
   "id": "4da585cc-0522-4b9c-b4a8-3c1631b6db7d",
   "metadata": {},
   "outputs": [
    {
     "name": "stdout",
     "output_type": "stream",
     "text": [
      "[1, 2, 3, 4]\n"
     ]
    }
   ],
   "source": [
    "print(a)"
   ]
  },
  {
   "cell_type": "code",
   "execution_count": 188,
   "id": "197ec236-8244-4d95-8acd-f8928a09c061",
   "metadata": {},
   "outputs": [
    {
     "data": {
      "text/plain": [
       "2070791356352"
      ]
     },
     "execution_count": 188,
     "metadata": {},
     "output_type": "execute_result"
    }
   ],
   "source": [
    "id(a)"
   ]
  },
  {
   "cell_type": "code",
   "execution_count": 189,
   "id": "29a5758c-1466-43b9-bc86-ca9cf7be5229",
   "metadata": {},
   "outputs": [],
   "source": [
    "a[0]=10"
   ]
  },
  {
   "cell_type": "code",
   "execution_count": 190,
   "id": "698f8ba9-be3f-4a16-beeb-de8c67bc7eb4",
   "metadata": {},
   "outputs": [
    {
     "ename": "NameError",
     "evalue": "name 'A' is not defined",
     "output_type": "error",
     "traceback": [
      "\u001b[1;31m---------------------------------------------------------------------------\u001b[0m",
      "\u001b[1;31mNameError\u001b[0m                                 Traceback (most recent call last)",
      "Cell \u001b[1;32mIn[190], line 1\u001b[0m\n\u001b[1;32m----> 1\u001b[0m \u001b[38;5;28mprint\u001b[39m(\u001b[43mA\u001b[49m)\n",
      "\u001b[1;31mNameError\u001b[0m: name 'A' is not defined"
     ]
    }
   ],
   "source": [
    "print(A)"
   ]
  },
  {
   "cell_type": "code",
   "execution_count": 191,
   "id": "f4195475-d363-4a38-ac35-d2eef8d024b2",
   "metadata": {},
   "outputs": [
    {
     "name": "stdout",
     "output_type": "stream",
     "text": [
      "[10, 2, 3, 4]\n"
     ]
    }
   ],
   "source": [
    "print(a)"
   ]
  },
  {
   "cell_type": "code",
   "execution_count": 192,
   "id": "049184a0-0862-4b87-a6e4-669dd78574a1",
   "metadata": {},
   "outputs": [
    {
     "data": {
      "text/plain": [
       "2070791356352"
      ]
     },
     "execution_count": 192,
     "metadata": {},
     "output_type": "execute_result"
    }
   ],
   "source": [
    "id(a)"
   ]
  },
  {
   "cell_type": "code",
   "execution_count": 193,
   "id": "68edcd54-39f4-45f4-87c0-088e9e1e64cc",
   "metadata": {},
   "outputs": [],
   "source": [
    "a = (1,2,4,4)"
   ]
  },
  {
   "cell_type": "code",
   "execution_count": 194,
   "id": "7565457c-dcf8-4391-ae49-c5cadb9cb2ef",
   "metadata": {},
   "outputs": [
    {
     "ename": "TypeError",
     "evalue": "'tuple' object does not support item assignment",
     "output_type": "error",
     "traceback": [
      "\u001b[1;31m---------------------------------------------------------------------------\u001b[0m",
      "\u001b[1;31mTypeError\u001b[0m                                 Traceback (most recent call last)",
      "Cell \u001b[1;32mIn[194], line 1\u001b[0m\n\u001b[1;32m----> 1\u001b[0m \u001b[43ma\u001b[49m\u001b[43m[\u001b[49m\u001b[38;5;241;43m0\u001b[39;49m\u001b[43m]\u001b[49m\u001b[38;5;241m=\u001b[39m\u001b[38;5;241m10\u001b[39m\n",
      "\u001b[1;31mTypeError\u001b[0m: 'tuple' object does not support item assignment"
     ]
    }
   ],
   "source": [
    "a[0]=10"
   ]
  },
  {
   "cell_type": "code",
   "execution_count": 197,
   "id": "0adcb0fd-0fa7-4391-b3a9-1964d215a2a5",
   "metadata": {},
   "outputs": [],
   "source": [
    "def func(*args):\n",
    "    print(args)\n",
    "    print(type(args))"
   ]
  },
  {
   "cell_type": "code",
   "execution_count": 198,
   "id": "03033f70-56e1-4fc4-ae87-401d03dea64b",
   "metadata": {},
   "outputs": [
    {
     "name": "stdout",
     "output_type": "stream",
     "text": [
      "(1, 2, 34)\n",
      "<class 'tuple'>\n"
     ]
    }
   ],
   "source": [
    "func(1,2,34)"
   ]
  },
  {
   "cell_type": "code",
   "execution_count": 200,
   "id": "89f4d07f-202b-477f-91c8-40ecbced60a8",
   "metadata": {},
   "outputs": [],
   "source": [
    "a = 10\n",
    "b = 19"
   ]
  },
  {
   "cell_type": "code",
   "execution_count": 201,
   "id": "e4ec4edd-69cc-4e03-a5a5-de659aaf728f",
   "metadata": {},
   "outputs": [],
   "source": [
    "temp = a\n",
    "a = b\n",
    "b = temp"
   ]
  },
  {
   "cell_type": "code",
   "execution_count": 202,
   "id": "56f79f7c-1369-4a7c-b2cf-6bb030e950c8",
   "metadata": {},
   "outputs": [
    {
     "name": "stdout",
     "output_type": "stream",
     "text": [
      "19 10\n"
     ]
    }
   ],
   "source": [
    "print(a, b)"
   ]
  },
  {
   "cell_type": "code",
   "execution_count": 205,
   "id": "da87de07-b873-4b47-a069-8c0cf901b9bc",
   "metadata": {},
   "outputs": [],
   "source": [
    "a = a^b\n",
    "b = a^b\n",
    "a = a^b"
   ]
  },
  {
   "cell_type": "code",
   "execution_count": 206,
   "id": "6e250661-4371-491e-a828-ed4d989b48a1",
   "metadata": {},
   "outputs": [
    {
     "name": "stdout",
     "output_type": "stream",
     "text": [
      "19 10\n"
     ]
    }
   ],
   "source": [
    "print(a, b)"
   ]
  },
  {
   "cell_type": "code",
   "execution_count": 207,
   "id": "62fa571d-bb4a-4466-84ed-5fcf55f749be",
   "metadata": {},
   "outputs": [],
   "source": [
    "a = 1, 2"
   ]
  },
  {
   "cell_type": "code",
   "execution_count": 208,
   "id": "af350b1f-cbab-4c4d-8c18-144129cbfd97",
   "metadata": {},
   "outputs": [
    {
     "data": {
      "text/plain": [
       "tuple"
      ]
     },
     "execution_count": 208,
     "metadata": {},
     "output_type": "execute_result"
    }
   ],
   "source": [
    " type(a)"
   ]
  },
  {
   "cell_type": "code",
   "execution_count": 209,
   "id": "f8b168a2-0708-4b5b-a2ea-08ecbca70e8f",
   "metadata": {},
   "outputs": [],
   "source": [
    "a = 1,2 "
   ]
  },
  {
   "cell_type": "code",
   "execution_count": 210,
   "id": "e0485fe9-1419-4db3-9e1f-3a09c1bb5139",
   "metadata": {},
   "outputs": [],
   "source": [
    "c, d = a"
   ]
  },
  {
   "cell_type": "code",
   "execution_count": 211,
   "id": "85f01212-0917-4aa2-920a-a746c0aa283a",
   "metadata": {},
   "outputs": [
    {
     "name": "stdout",
     "output_type": "stream",
     "text": [
      "1 2\n"
     ]
    }
   ],
   "source": [
    "print(c,d)"
   ]
  },
  {
   "cell_type": "code",
   "execution_count": 212,
   "id": "05ec8b44-75a7-4fc8-9b3e-4c4295159e1c",
   "metadata": {},
   "outputs": [
    {
     "ename": "ValueError",
     "evalue": "not enough values to unpack (expected 3, got 2)",
     "output_type": "error",
     "traceback": [
      "\u001b[1;31m---------------------------------------------------------------------------\u001b[0m",
      "\u001b[1;31mValueError\u001b[0m                                Traceback (most recent call last)",
      "Cell \u001b[1;32mIn[212], line 1\u001b[0m\n\u001b[1;32m----> 1\u001b[0m c,d,e \u001b[38;5;241m=\u001b[39m a\n",
      "\u001b[1;31mValueError\u001b[0m: not enough values to unpack (expected 3, got 2)"
     ]
    }
   ],
   "source": [
    "c,d,e = a"
   ]
  },
  {
   "cell_type": "code",
   "execution_count": 213,
   "id": "880dfca3-353c-4dc7-86a9-827b8c9ead97",
   "metadata": {},
   "outputs": [],
   "source": [
    "c = a"
   ]
  },
  {
   "cell_type": "code",
   "execution_count": 214,
   "id": "a7404781-8883-4005-b24b-32a7dc3dc018",
   "metadata": {},
   "outputs": [
    {
     "name": "stdout",
     "output_type": "stream",
     "text": [
      "(1, 2)\n"
     ]
    }
   ],
   "source": [
    "print(c)"
   ]
  },
  {
   "cell_type": "code",
   "execution_count": 215,
   "id": "cc94614a-bd5b-4027-b734-ddc87292b1bc",
   "metadata": {},
   "outputs": [],
   "source": [
    "a = 1,2, 3"
   ]
  },
  {
   "cell_type": "code",
   "execution_count": 216,
   "id": "a30a355b-1e3b-4476-a81f-dcaa3a43afd0",
   "metadata": {},
   "outputs": [
    {
     "ename": "ValueError",
     "evalue": "too many values to unpack (expected 2)",
     "output_type": "error",
     "traceback": [
      "\u001b[1;31m---------------------------------------------------------------------------\u001b[0m",
      "\u001b[1;31mValueError\u001b[0m                                Traceback (most recent call last)",
      "Cell \u001b[1;32mIn[216], line 1\u001b[0m\n\u001b[1;32m----> 1\u001b[0m c,d \u001b[38;5;241m=\u001b[39m a\n",
      "\u001b[1;31mValueError\u001b[0m: too many values to unpack (expected 2)"
     ]
    }
   ],
   "source": [
    "c,d = a"
   ]
  },
  {
   "cell_type": "code",
   "execution_count": 217,
   "id": "5f86d894-91f0-4cc0-b9bf-2db72e71858a",
   "metadata": {},
   "outputs": [],
   "source": [
    "a = 10\n",
    "b = 20"
   ]
  },
  {
   "cell_type": "code",
   "execution_count": 223,
   "id": "e1cd5d80-66e5-42f8-b6ec-1209815c508c",
   "metadata": {},
   "outputs": [],
   "source": [
    "b, a = a, b"
   ]
  },
  {
   "cell_type": "code",
   "execution_count": 224,
   "id": "4cc83127-c9c8-40b7-bead-defc7bd0496e",
   "metadata": {},
   "outputs": [
    {
     "name": "stdout",
     "output_type": "stream",
     "text": [
      "20 10\n"
     ]
    }
   ],
   "source": [
    "print(a, b)"
   ]
  },
  {
   "cell_type": "code",
   "execution_count": 225,
   "id": "82ccf725-2404-456e-bad3-5828a4412718",
   "metadata": {},
   "outputs": [],
   "source": [
    "a = (1,2,3,4)"
   ]
  },
  {
   "cell_type": "code",
   "execution_count": 226,
   "id": "2b286918-2a99-4dfe-b3ee-883d04a47332",
   "metadata": {},
   "outputs": [],
   "source": [
    "a = list(a)"
   ]
  },
  {
   "cell_type": "code",
   "execution_count": 227,
   "id": "0cdb321e-6466-46cf-9029-7c7ac45680e2",
   "metadata": {},
   "outputs": [
    {
     "name": "stdout",
     "output_type": "stream",
     "text": [
      "[1, 2, 3, 4]\n"
     ]
    }
   ],
   "source": [
    "print(a)"
   ]
  },
  {
   "cell_type": "code",
   "execution_count": 228,
   "id": "20e8ca77-507f-467f-ab26-244d016e389a",
   "metadata": {},
   "outputs": [],
   "source": [
    "a = list(range(17))"
   ]
  },
  {
   "cell_type": "code",
   "execution_count": 229,
   "id": "c06187d1-6675-4f73-b63a-a880e1da0c95",
   "metadata": {},
   "outputs": [
    {
     "name": "stdout",
     "output_type": "stream",
     "text": [
      "[0, 1, 2, 3, 4, 5, 6, 7, 8, 9, 10, 11, 12, 13, 14, 15, 16]\n"
     ]
    }
   ],
   "source": [
    "print(a)"
   ]
  },
  {
   "cell_type": "code",
   "execution_count": 230,
   "id": "3b7cfd0d-bbf4-498a-a76e-415e429f4f4f",
   "metadata": {},
   "outputs": [],
   "source": [
    "a = list(\"vishnt\")"
   ]
  },
  {
   "cell_type": "code",
   "execution_count": 231,
   "id": "01ee94e9-804f-4581-a556-dcbf905acffb",
   "metadata": {},
   "outputs": [
    {
     "name": "stdout",
     "output_type": "stream",
     "text": [
      "['v', 'i', 's', 'h', 'n', 't']\n"
     ]
    }
   ],
   "source": [
    "print(a)"
   ]
  },
  {
   "cell_type": "code",
   "execution_count": 232,
   "id": "08248521-db58-467b-b993-014816866c1d",
   "metadata": {},
   "outputs": [],
   "source": [
    "a  = tuple(a)"
   ]
  },
  {
   "cell_type": "code",
   "execution_count": 233,
   "id": "6cfb6ecf-4daa-4a5d-b775-834a05ebd638",
   "metadata": {},
   "outputs": [
    {
     "name": "stdout",
     "output_type": "stream",
     "text": [
      "('v', 'i', 's', 'h', 'n', 't')\n"
     ]
    }
   ],
   "source": [
    "print(a)"
   ]
  },
  {
   "cell_type": "code",
   "execution_count": 235,
   "id": "5f83846d-c3de-49bc-810b-e3b8761779f1",
   "metadata": {},
   "outputs": [],
   "source": [
    "a = tuple(range(10))"
   ]
  },
  {
   "cell_type": "code",
   "execution_count": 236,
   "id": "baa4af7d-1164-489e-bc66-48ecfa5dc9cd",
   "metadata": {},
   "outputs": [
    {
     "ename": "NameError",
     "evalue": "name 'A' is not defined",
     "output_type": "error",
     "traceback": [
      "\u001b[1;31m---------------------------------------------------------------------------\u001b[0m",
      "\u001b[1;31mNameError\u001b[0m                                 Traceback (most recent call last)",
      "Cell \u001b[1;32mIn[236], line 1\u001b[0m\n\u001b[1;32m----> 1\u001b[0m \u001b[38;5;28mprint\u001b[39m(\u001b[43mA\u001b[49m)\n",
      "\u001b[1;31mNameError\u001b[0m: name 'A' is not defined"
     ]
    }
   ],
   "source": [
    "print(A)"
   ]
  },
  {
   "cell_type": "code",
   "execution_count": 237,
   "id": "104746c4-e6cd-44ce-9327-797be5d75edf",
   "metadata": {},
   "outputs": [
    {
     "name": "stdout",
     "output_type": "stream",
     "text": [
      "(0, 1, 2, 3, 4, 5, 6, 7, 8, 9)\n"
     ]
    }
   ],
   "source": [
    "print(a)"
   ]
  },
  {
   "cell_type": "code",
   "execution_count": 244,
   "id": "8f4f50f3-c850-40b8-aa4f-d4ae7729b89a",
   "metadata": {},
   "outputs": [],
   "source": [
    "a = {\n",
    "    \"name\":\"vishant\",\n",
    "    \"marks\":90,\n",
    "    \"sub\":[\"eng\",\"gk\"],\n",
    "    \"friend\":{\n",
    "        \"pulkit\":\"android\"\n",
    "    }\n",
    "}"
   ]
  },
  {
   "cell_type": "code",
   "execution_count": 239,
   "id": "e0973ca3-9542-4a4a-9836-68caf0bb8953",
   "metadata": {},
   "outputs": [
    {
     "data": {
      "text/plain": [
       "'vishant'"
      ]
     },
     "execution_count": 239,
     "metadata": {},
     "output_type": "execute_result"
    }
   ],
   "source": [
    "a[\"name\"]"
   ]
  },
  {
   "cell_type": "code",
   "execution_count": 240,
   "id": "6104bdd2-d306-48ca-b55c-24fde5c65768",
   "metadata": {},
   "outputs": [
    {
     "data": {
      "text/plain": [
       "{'pulkit': 'android'}"
      ]
     },
     "execution_count": 240,
     "metadata": {},
     "output_type": "execute_result"
    }
   ],
   "source": [
    "a[\"friend\"]"
   ]
  },
  {
   "cell_type": "code",
   "execution_count": 242,
   "id": "20526ad4-973b-4cef-b4c7-f5a5e5c82b8e",
   "metadata": {},
   "outputs": [
    {
     "name": "stdout",
     "output_type": "stream",
     "text": [
      "name:vishant\n",
      "marks:90\n",
      "sub:['eng', 'gk']\n",
      "friend:{'pulkit': 'android'}\n"
     ]
    }
   ],
   "source": [
    "for k in a:\n",
    "    print(f\"{k}:{a[k]}\")"
   ]
  },
  {
   "cell_type": "code",
   "execution_count": 249,
   "id": "02d472ce-d187-4436-9540-732b2600c3ab",
   "metadata": {},
   "outputs": [
    {
     "name": "stdout",
     "output_type": "stream",
     "text": [
      "name => vishant\n",
      "marks => 90\n",
      "sub => ['eng', 'gk']\n",
      "friend => {'pulkit': 'android'}\n"
     ]
    }
   ],
   "source": [
    "for i, y in a.items():\n",
    "    print(i, \"=>\", y)"
   ]
  },
  {
   "cell_type": "code",
   "execution_count": 250,
   "id": "f59d3fb6-7c73-4ef2-9651-59778d9b0fed",
   "metadata": {},
   "outputs": [
    {
     "name": "stdout",
     "output_type": "stream",
     "text": [
      "name\n",
      "marks\n",
      "sub\n",
      "friend\n"
     ]
    }
   ],
   "source": [
    "for i in a.keys():\n",
    "    print(i)"
   ]
  },
  {
   "cell_type": "code",
   "execution_count": 251,
   "id": "f5e084db-4e8f-4cbe-a163-73a4723d867b",
   "metadata": {},
   "outputs": [
    {
     "name": "stdout",
     "output_type": "stream",
     "text": [
      "vishant\n",
      "90\n",
      "['eng', 'gk']\n",
      "{'pulkit': 'android'}\n"
     ]
    }
   ],
   "source": [
    "for val in a.values():\n",
    "    print(val)"
   ]
  },
  {
   "cell_type": "code",
   "execution_count": 254,
   "id": "0dca4512-d863-44bc-a786-5cabe643f597",
   "metadata": {},
   "outputs": [
    {
     "ename": "KeyError",
     "evalue": "'name1'",
     "output_type": "error",
     "traceback": [
      "\u001b[1;31m---------------------------------------------------------------------------\u001b[0m",
      "\u001b[1;31mKeyError\u001b[0m                                  Traceback (most recent call last)",
      "Cell \u001b[1;32mIn[254], line 1\u001b[0m\n\u001b[1;32m----> 1\u001b[0m \u001b[43ma\u001b[49m\u001b[43m[\u001b[49m\u001b[38;5;124;43m\"\u001b[39;49m\u001b[38;5;124;43mname1\u001b[39;49m\u001b[38;5;124;43m\"\u001b[39;49m\u001b[43m]\u001b[49m\n",
      "\u001b[1;31mKeyError\u001b[0m: 'name1'"
     ]
    }
   ],
   "source": [
    "a[\"name1\"]"
   ]
  },
  {
   "cell_type": "code",
   "execution_count": 255,
   "id": "72857e99-1632-45cf-9201-487cdb1bdb1d",
   "metadata": {},
   "outputs": [],
   "source": [
    "a.get(\"1\")"
   ]
  },
  {
   "cell_type": "code",
   "execution_count": 256,
   "id": "c83cb6f2-027f-426b-b5ec-f1d7f8654700",
   "metadata": {},
   "outputs": [],
   "source": [
    "a.clear()"
   ]
  },
  {
   "cell_type": "code",
   "execution_count": 257,
   "id": "94027f23-f31d-428d-9d32-98ee629fcced",
   "metadata": {},
   "outputs": [
    {
     "name": "stdout",
     "output_type": "stream",
     "text": [
      "{}\n"
     ]
    }
   ],
   "source": [
    "print(a)"
   ]
  },
  {
   "cell_type": "code",
   "execution_count": 258,
   "id": "ab355b3b-60de-474f-b906-e94f4d29cfda",
   "metadata": {},
   "outputs": [
    {
     "data": {
      "text/plain": [
       "{}"
      ]
     },
     "execution_count": 258,
     "metadata": {},
     "output_type": "execute_result"
    }
   ],
   "source": [
    "a\n"
   ]
  },
  {
   "cell_type": "markdown",
   "id": "b9323bd0-703d-49c4-ae49-93a77f693785",
   "metadata": {},
   "source": [
    "# Dictionaries "
   ]
  },
  {
   "cell_type": "code",
   "execution_count": 260,
   "id": "a2ad41d2-564b-4360-9512-24c7fbb4c10e",
   "metadata": {},
   "outputs": [],
   "source": [
    "a =[]"
   ]
  },
  {
   "cell_type": "code",
   "execution_count": 261,
   "id": "9db3fc41-66cb-4260-baed-727f67fb9ca7",
   "metadata": {},
   "outputs": [
    {
     "name": "stdin",
     "output_type": "stream",
     "text": [
      " 2\n"
     ]
    }
   ],
   "source": [
    "x = int(input())"
   ]
  },
  {
   "cell_type": "code",
   "execution_count": 262,
   "id": "72d2b401-e87c-4d0e-9d9e-1d8f35c0e257",
   "metadata": {},
   "outputs": [
    {
     "name": "stdin",
     "output_type": "stream",
     "text": [
      " 1\n",
      " vishant\n",
      " cse\n",
      " 2\n",
      " abhay\n",
      " coe\n"
     ]
    }
   ],
   "source": [
    "for _ in range(2):\n",
    "    roll_no = int(input())\n",
    "    name = input()\n",
    "    branch = input()\n",
    "    a.append(\n",
    "        {\n",
    "            \"roll_no\":roll_no,\n",
    "            \"name\":name,\n",
    "            \"branch\":branch\n",
    "        }\n",
    "    )"
   ]
  },
  {
   "cell_type": "code",
   "execution_count": 265,
   "id": "4eeaab18-0cf4-4b28-af19-08f27eeb7c93",
   "metadata": {},
   "outputs": [
    {
     "name": "stdout",
     "output_type": "stream",
     "text": [
      "[{'roll_no': 1, 'name': 'vishant', 'branch': 'cse'}, {'roll_no': 2, 'name': 'abhay', 'branch': 'coe'}]\n"
     ]
    }
   ],
   "source": [
    "print(a)"
   ]
  },
  {
   "cell_type": "code",
   "execution_count": 264,
   "id": "e7f0b751-05b1-4086-8bfb-43781e600438",
   "metadata": {},
   "outputs": [
    {
     "name": "stdout",
     "output_type": "stream",
     "text": [
      "[{'roll_no': 1, 'name': 'vishant', 'branch': 'cse'}, {'roll_no': 2, 'name': 'abhay', 'branch': 'coe'}]\n"
     ]
    }
   ],
   "source": [
    "print(a)"
   ]
  },
  {
   "cell_type": "code",
   "execution_count": 271,
   "id": "fc3ea58a-9d5f-4026-94b4-a84227420cb8",
   "metadata": {},
   "outputs": [],
   "source": [
    "a = {\n",
    "    (1,2):[1,2],\n",
    "    (1,2):[1,3]\n",
    "}"
   ]
  },
  {
   "cell_type": "code",
   "execution_count": 272,
   "id": "82e72431-5310-48e7-be99-778bf45cda4c",
   "metadata": {},
   "outputs": [
    {
     "name": "stdout",
     "output_type": "stream",
     "text": [
      "{(1, 2): [1, 3]}\n"
     ]
    }
   ],
   "source": [
    "print(a)"
   ]
  },
  {
   "cell_type": "code",
   "execution_count": 273,
   "id": "00afb8e0-70ed-4a46-98fb-67011ee25ddc",
   "metadata": {},
   "outputs": [],
   "source": [
    "a = {1,2,3,4,5}"
   ]
  },
  {
   "cell_type": "code",
   "execution_count": 274,
   "id": "9c74849d-189c-4543-9782-df5c6ed43c20",
   "metadata": {},
   "outputs": [
    {
     "data": {
      "text/plain": [
       "set"
      ]
     },
     "execution_count": 274,
     "metadata": {},
     "output_type": "execute_result"
    }
   ],
   "source": [
    "type(a)"
   ]
  },
  {
   "cell_type": "code",
   "execution_count": 275,
   "id": "4c03e36a-c945-4665-8b7e-7d6c2880bdec",
   "metadata": {},
   "outputs": [],
   "source": [
    "a = {}"
   ]
  },
  {
   "cell_type": "code",
   "execution_count": 277,
   "id": "1c32141e-2705-471b-a110-22bef166b032",
   "metadata": {},
   "outputs": [
    {
     "data": {
      "text/plain": [
       "dict"
      ]
     },
     "execution_count": 277,
     "metadata": {},
     "output_type": "execute_result"
    }
   ],
   "source": [
    "type(a)"
   ]
  },
  {
   "cell_type": "code",
   "execution_count": 278,
   "id": "acadc3d6-73d3-4a7e-b2a0-8f998d6aa95a",
   "metadata": {},
   "outputs": [],
   "source": [
    "a = set()"
   ]
  },
  {
   "cell_type": "code",
   "execution_count": 279,
   "id": "6ac2e6f8-3899-46e8-a93a-8fc27f763e52",
   "metadata": {},
   "outputs": [
    {
     "data": {
      "text/plain": [
       "set"
      ]
     },
     "execution_count": 279,
     "metadata": {},
     "output_type": "execute_result"
    }
   ],
   "source": [
    "type(a)"
   ]
  },
  {
   "cell_type": "code",
   "execution_count": 280,
   "id": "5325e479-27a6-474c-b0c6-d4103fc6bec7",
   "metadata": {},
   "outputs": [],
   "source": [
    "a = {1,2,3,4,5}\n",
    "b = {3,4,5,6,7}"
   ]
  },
  {
   "cell_type": "code",
   "execution_count": 281,
   "id": "f646849a-8307-437c-bb79-4b0774eec894",
   "metadata": {},
   "outputs": [
    {
     "data": {
      "text/plain": [
       "{3, 4, 5}"
      ]
     },
     "execution_count": 281,
     "metadata": {},
     "output_type": "execute_result"
    }
   ],
   "source": [
    "a.intersection(b)"
   ]
  },
  {
   "cell_type": "code",
   "execution_count": 282,
   "id": "3b0e4495-126d-478c-bed1-61812fa7b244",
   "metadata": {},
   "outputs": [
    {
     "data": {
      "text/plain": [
       "{1, 2, 3, 4, 5, 6, 7}"
      ]
     },
     "execution_count": 282,
     "metadata": {},
     "output_type": "execute_result"
    }
   ],
   "source": [
    "a.union(b)"
   ]
  },
  {
   "cell_type": "code",
   "execution_count": 283,
   "id": "6e2376f0-c109-4d9e-b4ac-5fe5f32cb7d3",
   "metadata": {},
   "outputs": [
    {
     "data": {
      "text/plain": [
       "{1, 2}"
      ]
     },
     "execution_count": 283,
     "metadata": {},
     "output_type": "execute_result"
    }
   ],
   "source": [
    "a - b"
   ]
  },
  {
   "cell_type": "code",
   "execution_count": 284,
   "id": "99728747-3b3e-4f3a-9784-d95334a6fc49",
   "metadata": {},
   "outputs": [
    {
     "data": {
      "text/plain": [
       "{6, 7}"
      ]
     },
     "execution_count": 284,
     "metadata": {},
     "output_type": "execute_result"
    }
   ],
   "source": [
    "b - a"
   ]
  },
  {
   "cell_type": "code",
   "execution_count": 285,
   "id": "1558fa88-dafe-407f-ba45-e1fd05393608",
   "metadata": {},
   "outputs": [
    {
     "data": {
      "text/plain": [
       "set()"
      ]
     },
     "execution_count": 285,
     "metadata": {},
     "output_type": "execute_result"
    }
   ],
   "source": [
    "a - a"
   ]
  },
  {
   "cell_type": "code",
   "execution_count": 287,
   "id": "42db8b5a-04eb-4076-9186-79a305df7a8c",
   "metadata": {},
   "outputs": [
    {
     "name": "stdout",
     "output_type": "stream",
     "text": [
      "1\n",
      "2\n",
      "3\n",
      "4\n",
      "5\n"
     ]
    }
   ],
   "source": [
    "for i in a :\n",
    "    print(i)"
   ]
  },
  {
   "cell_type": "code",
   "execution_count": 288,
   "id": "8691aa1c-d5b1-49fc-911b-8b8cddf4128c",
   "metadata": {},
   "outputs": [],
   "source": [
    "a = {1,2,2,1,1,1,1,1,2}"
   ]
  },
  {
   "cell_type": "code",
   "execution_count": 289,
   "id": "a34a32fa-8d03-4204-a363-73c07186b878",
   "metadata": {},
   "outputs": [
    {
     "name": "stdout",
     "output_type": "stream",
     "text": [
      "{1, 2}\n"
     ]
    }
   ],
   "source": [
    "print(a)"
   ]
  },
  {
   "cell_type": "code",
   "execution_count": 290,
   "id": "12dfff12-e598-4c66-a8bf-f5241cfba88f",
   "metadata": {},
   "outputs": [
    {
     "data": {
      "text/plain": [
       "2"
      ]
     },
     "execution_count": 290,
     "metadata": {},
     "output_type": "execute_result"
    }
   ],
   "source": [
    "len(a)"
   ]
  },
  {
   "cell_type": "code",
   "execution_count": 291,
   "id": "0ea0f38d-646d-48f7-889f-09597f4cd707",
   "metadata": {},
   "outputs": [],
   "source": [
    "a = [1,2,3,1,1,1,1,2]"
   ]
  },
  {
   "cell_type": "code",
   "execution_count": 292,
   "id": "da05b2e4-04a0-456a-aa2f-5daa0dd60392",
   "metadata": {},
   "outputs": [
    {
     "data": {
      "text/plain": [
       "[1, 2, 3]"
      ]
     },
     "execution_count": 292,
     "metadata": {},
     "output_type": "execute_result"
    }
   ],
   "source": [
    "list(set(a))"
   ]
  },
  {
   "cell_type": "code",
   "execution_count": 293,
   "id": "8290541f-67d4-48cb-8c59-bdf6852e16b5",
   "metadata": {},
   "outputs": [],
   "source": [
    "a =[]\n"
   ]
  },
  {
   "cell_type": "code",
   "execution_count": 294,
   "id": "19a9ba53-3d31-49c2-bcd1-69919379c834",
   "metadata": {},
   "outputs": [],
   "source": [
    "for i in range(10):\n",
    "    a.append(i**2)"
   ]
  },
  {
   "cell_type": "code",
   "execution_count": 296,
   "id": "17303475-ee2f-4fec-bc27-a1ecac0e171e",
   "metadata": {},
   "outputs": [
    {
     "name": "stdout",
     "output_type": "stream",
     "text": [
      "[0, 1, 4, 9, 16, 25, 36, 49, 64, 81]\n"
     ]
    }
   ],
   "source": [
    "print(a)"
   ]
  },
  {
   "cell_type": "code",
   "execution_count": 298,
   "id": "97ac460a-e2df-442f-9f3e-7165f892e817",
   "metadata": {},
   "outputs": [
    {
     "data": {
      "text/plain": [
       "[0, 4, 16, 36, 64]"
      ]
     },
     "execution_count": 298,
     "metadata": {},
     "output_type": "execute_result"
    }
   ],
   "source": [
    "[i**2 for i in range(10) if i%2==0]"
   ]
  },
  {
   "cell_type": "code",
   "execution_count": 299,
   "id": "578351c6-a802-4e14-b115-b34b737372a5",
   "metadata": {},
   "outputs": [],
   "source": [
    "# Dictiobary Comprehension"
   ]
  },
  {
   "cell_type": "code",
   "execution_count": 302,
   "id": "1887496f-74a1-40f1-b00c-b1f4c26f2893",
   "metadata": {},
   "outputs": [
    {
     "data": {
      "text/plain": [
       "{0: 0, 2: 4, 4: 16, 6: 36, 8: 64}"
      ]
     },
     "execution_count": 302,
     "metadata": {},
     "output_type": "execute_result"
    }
   ],
   "source": [
    "{i:i**2 for i in range(10) if i%2 ==0}"
   ]
  },
  {
   "cell_type": "code",
   "execution_count": 303,
   "id": "c63420c9-c806-42b2-8980-3a7022191c22",
   "metadata": {},
   "outputs": [
    {
     "data": {
      "text/plain": [
       "{0, 4, 16, 36, 64}"
      ]
     },
     "execution_count": 303,
     "metadata": {},
     "output_type": "execute_result"
    }
   ],
   "source": [
    "{i**2 for i in range(10) if i%2 ==0}"
   ]
  },
  {
   "cell_type": "markdown",
   "id": "022479f5-9c4c-445c-96bc-879c4fe2b5ac",
   "metadata": {},
   "source": [
    "NOT TUPLE COMPREHENSION"
   ]
  },
  {
   "cell_type": "code",
   "execution_count": 305,
   "id": "02a883f8-e2da-4246-9811-432c3a1af1ff",
   "metadata": {},
   "outputs": [],
   "source": [
    "a = (i**2 for i in range(10))"
   ]
  },
  {
   "cell_type": "code",
   "execution_count": 306,
   "id": "db544f04-eaf2-4fa3-b8a8-3226c0cff315",
   "metadata": {},
   "outputs": [
    {
     "name": "stdout",
     "output_type": "stream",
     "text": [
      "<generator object <genexpr> at 0x000001E224E04520>\n"
     ]
    }
   ],
   "source": [
    "print(a)"
   ]
  },
  {
   "cell_type": "code",
   "execution_count": 307,
   "id": "dfeeefb5-af93-40a9-982b-e47afdd169e8",
   "metadata": {},
   "outputs": [
    {
     "data": {
      "text/plain": [
       "<generator object <genexpr> at 0x000001E224E04520>"
      ]
     },
     "execution_count": 307,
     "metadata": {},
     "output_type": "execute_result"
    }
   ],
   "source": [
    "a"
   ]
  },
  {
   "cell_type": "code",
   "execution_count": 308,
   "id": "f94a5b91-f13a-4262-8f82-2e1f7e47c2ed",
   "metadata": {},
   "outputs": [
    {
     "ename": "SyntaxError",
     "evalue": "invalid syntax (3106116086.py, line 1)",
     "output_type": "error",
     "traceback": [
      "\u001b[1;36m  Cell \u001b[1;32mIn[308], line 1\u001b[1;36m\u001b[0m\n\u001b[1;33m    \"ne\".\"yu\"\u001b[0m\n\u001b[1;37m         ^\u001b[0m\n\u001b[1;31mSyntaxError\u001b[0m\u001b[1;31m:\u001b[0m invalid syntax\n"
     ]
    }
   ],
   "source": [
    "\"ne\".\"yu\""
   ]
  },
  {
   "cell_type": "code",
   "execution_count": 309,
   "id": "96fdb835-5c8b-42bc-aa65-ebdbb074697f",
   "metadata": {},
   "outputs": [
    {
     "data": {
      "text/plain": [
       "'grt'"
      ]
     },
     "execution_count": 309,
     "metadata": {},
     "output_type": "execute_result"
    }
   ],
   "source": [
    "\"grt\".strip()"
   ]
  },
  {
   "cell_type": "code",
   "execution_count": 310,
   "id": "c750ea28-3d07-4f0e-b0e3-37a67f3d2368",
   "metadata": {},
   "outputs": [
    {
     "data": {
      "text/plain": [
       "True"
      ]
     },
     "execution_count": 310,
     "metadata": {},
     "output_type": "execute_result"
    }
   ],
   "source": [
    "'i' in \"gin\""
   ]
  },
  {
   "cell_type": "code",
   "execution_count": 315,
   "id": "2aa34a4f-2531-43a7-a1cb-6c2b6539ef33",
   "metadata": {},
   "outputs": [
    {
     "name": "stdout",
     "output_type": "stream",
     "text": [
      "Coding blocks\n"
     ]
    }
   ],
   "source": [
    "print(\"Coding\",\"blocks\")"
   ]
  },
  {
   "cell_type": "code",
   "execution_count": 317,
   "id": "646ff141-3671-4fb0-983c-f499ad273290",
   "metadata": {},
   "outputs": [
    {
     "name": "stdout",
     "output_type": "stream",
     "text": [
      "python\n",
      "\n"
     ]
    }
   ],
   "source": [
    "print('python\\n')"
   ]
  },
  {
   "cell_type": "code",
   "execution_count": 318,
   "id": "7abd6f6f-c286-41b2-89e4-44c4cfe0395f",
   "metadata": {},
   "outputs": [
    {
     "data": {
      "text/plain": [
       "100"
      ]
     },
     "execution_count": 318,
     "metadata": {},
     "output_type": "execute_result"
    }
   ],
   "source": [
    "4*5**2"
   ]
  },
  {
   "cell_type": "code",
   "execution_count": 319,
   "id": "e2b2102e-9705-473b-8f42-55bb4e391a68",
   "metadata": {},
   "outputs": [],
   "source": [
    "abc = 12, 12, 12"
   ]
  },
  {
   "cell_type": "code",
   "execution_count": 320,
   "id": "89dc39c1-6875-4115-aee0-3aa1d86f3583",
   "metadata": {},
   "outputs": [
    {
     "data": {
      "text/plain": [
       "(12, 12, 12)"
      ]
     },
     "execution_count": 320,
     "metadata": {},
     "output_type": "execute_result"
    }
   ],
   "source": [
    "abc"
   ]
  },
  {
   "cell_type": "code",
   "execution_count": 321,
   "id": "339e035b-f2c4-4431-90b1-297607cbd646",
   "metadata": {},
   "outputs": [
    {
     "data": {
      "text/plain": [
       "'tttt'"
      ]
     },
     "execution_count": 321,
     "metadata": {},
     "output_type": "execute_result"
    }
   ],
   "source": [
    "\"tt\"*2"
   ]
  },
  {
   "cell_type": "code",
   "execution_count": null,
   "id": "dd4f62a4-393a-4033-ab66-50e0bf677116",
   "metadata": {},
   "outputs": [],
   "source": []
  }
 ],
 "metadata": {
  "kernelspec": {
   "display_name": "Python 3 (ipykernel)",
   "language": "python",
   "name": "python3"
  },
  "language_info": {
   "codemirror_mode": {
    "name": "ipython",
    "version": 3
   },
   "file_extension": ".py",
   "mimetype": "text/x-python",
   "name": "python",
   "nbconvert_exporter": "python",
   "pygments_lexer": "ipython3",
   "version": "3.12.1"
  }
 },
 "nbformat": 4,
 "nbformat_minor": 5
}
