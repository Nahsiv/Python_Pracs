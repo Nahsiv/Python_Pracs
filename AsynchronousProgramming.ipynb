{
 "cells": [
  {
   "cell_type": "code",
   "execution_count": 2,
   "id": "ba161afb-9288-42c1-9df2-db5ba8014111",
   "metadata": {},
   "outputs": [],
   "source": [
    "a = 10\n",
    "def show():\n",
    "    pass\n",
    "show()\n",
    "show()\n",
    "show()"
   ]
  },
  {
   "cell_type": "code",
   "execution_count": 35,
   "id": "74d75b1d-6620-4706-a6c8-d7d02e289f85",
   "metadata": {},
   "outputs": [],
   "source": [
    "from multiprocessing import Process\n",
    "def numsqr(num = 2):\n",
    "    print(num ** 2)\n",
    "procs = []\n",
    "for i in range(5):\n",
    "    procs.append(Process(target= numsqr))\n",
    "for proc in procs:\n",
    "    proc.start()\n",
    "for proc in procs:\n",
    "    proc.join()"
   ]
  },
  {
   "cell_type": "code",
   "execution_count": 66,
   "id": "e69e9d4a-d504-4a72-8fb0-5d43b6db830d",
   "metadata": {},
   "outputs": [
    {
     "name": "stdout",
     "output_type": "stream",
     "text": [
      "[<Process name='Process-122' parent=21528 initial>, <Process name='Process-123' parent=21528 initial>, <Process name='Process-124' parent=21528 initial>, <Process name='Process-125' parent=21528 initial>, <Process name='Process-126' parent=21528 initial>]\n"
     ]
    }
   ],
   "source": [
    "from multiprocessing import Process\n",
    "import time\n",
    "def numsqr(num):\n",
    "    print(num ** 2)\n",
    "\n",
    "procs = []\n",
    "\n",
    "for i in range(5):\n",
    "    procs.append(Process(target=numsqr, args = (i+1, )))\n",
    "print(procs)\n",
    "for proc in procs:\n",
    "    proc.start()\n",
    "time.sleep(1)\n",
    "for proc in procs:\n",
    "    proc.join()"
   ]
  },
  {
   "cell_type": "code",
   "execution_count": 43,
   "id": "ae2f373f-965c-4636-ae87-02b11eb29707",
   "metadata": {},
   "outputs": [],
   "source": [
    "main()"
   ]
  },
  {
   "cell_type": "code",
   "execution_count": 44,
   "id": "10c2e8a9-659d-4aa9-8aca-d7cbaba8e7a3",
   "metadata": {},
   "outputs": [],
   "source": [
    "Process(target = numsqr).start()"
   ]
  },
  {
   "cell_type": "code",
   "execution_count": 54,
   "id": "170860b0-0a2d-4d99-b90e-aaae1a131b8e",
   "metadata": {},
   "outputs": [],
   "source": [
    "from threading import Thread"
   ]
  },
  {
   "cell_type": "code",
   "execution_count": 55,
   "id": "6d7989d1-a2c7-48ef-b2f5-3c7a498b5224",
   "metadata": {},
   "outputs": [],
   "source": [
    "def sq(n):\n",
    "    print(\"square is\",n**2)\n",
    "def cb(n):\n",
    "    print(\"cube is\",n**3)"
   ]
  },
  {
   "cell_type": "code",
   "execution_count": 62,
   "id": "9fb6402e-26cc-465d-8043-cc274b558e64",
   "metadata": {},
   "outputs": [],
   "source": [
    "t1 = Thread(target = sq, args=(40000000,))\n",
    "t2 = Thread(target = cb, args= (4,))"
   ]
  },
  {
   "cell_type": "code",
   "execution_count": 63,
   "id": "02c6e496-9a48-4359-b710-9a03b3e1d24d",
   "metadata": {},
   "outputs": [
    {
     "name": "stdout",
     "output_type": "stream",
     "text": [
      "square is 1600000000000000\n",
      "cube is 64\n",
      "hello\n"
     ]
    }
   ],
   "source": [
    "t1.start()\n",
    "t2.start()\n",
    "print(\"hello\")"
   ]
  },
  {
   "cell_type": "code",
   "execution_count": 64,
   "id": "07caba6d-7184-4878-96ce-0c8c501daca7",
   "metadata": {},
   "outputs": [],
   "source": [
    "t1.join()"
   ]
  },
  {
   "cell_type": "code",
   "execution_count": 65,
   "id": "8d0f97d8-07d0-4276-b4ce-33568ca857bf",
   "metadata": {},
   "outputs": [],
   "source": [
    "t2.join()"
   ]
  },
  {
   "cell_type": "code",
   "execution_count": 67,
   "id": "92e4e348-4fd0-4afe-b100-dc567a1fbeb0",
   "metadata": {},
   "outputs": [],
   "source": [
    "from queue import Queue"
   ]
  },
  {
   "cell_type": "code",
   "execution_count": 75,
   "id": "1c1c4550-3efd-4b6b-ab8e-60e22be6b685",
   "metadata": {},
   "outputs": [],
   "source": [
    "def producer(q):\n",
    "    for i in range(5):\n",
    "        q.put(i)\n",
    "        print(i, 'is produced')\n",
    "def consumer(q):\n",
    "    while True:\n",
    "        data = q.get()\n",
    "        print(data, 'is consumed')"
   ]
  },
  {
   "cell_type": "code",
   "execution_count": 76,
   "id": "9ce66962-17e9-4a3f-93c3-e193e651a63e",
   "metadata": {},
   "outputs": [],
   "source": [
    "q = Queue()"
   ]
  },
  {
   "cell_type": "code",
   "execution_count": 77,
   "id": "f17c6378-4af9-443e-be7b-e7c5d9a87951",
   "metadata": {},
   "outputs": [],
   "source": [
    "t1 = Thread(target = producer,args= (q,))\n",
    "t2 = Thread(target = consumer,args= (q,))"
   ]
  },
  {
   "cell_type": "code",
   "execution_count": 78,
   "id": "8bed0584-a8bf-4484-a3b4-616cfb35bace",
   "metadata": {},
   "outputs": [],
   "source": [
    "t2.start()"
   ]
  },
  {
   "cell_type": "code",
   "execution_count": 79,
   "id": "b2b75d5c-f7a4-4d41-ae7d-e9eb3041d7e4",
   "metadata": {},
   "outputs": [
    {
     "name": "stdout",
     "output_type": "stream",
     "text": [
      "00 is consumed\n",
      " is produced\n",
      "1 is produced\n",
      "2 is produced\n",
      "3 is produced\n",
      "4 is produced\n",
      "1 is consumed\n",
      "2 is consumed\n",
      "3 is consumed\n",
      "4 is consumed\n"
     ]
    }
   ],
   "source": [
    "t1.start()"
   ]
  },
  {
   "cell_type": "markdown",
   "id": "c1be4074-8006-4a67-b358-56c65ce7ca5a",
   "metadata": {},
   "source": [
    "#CoRoutine"
   ]
  },
  {
   "cell_type": "code",
   "execution_count": 82,
   "id": "cf4ddf65-1e25-48aa-835d-08b97c7aa71d",
   "metadata": {},
   "outputs": [],
   "source": [
    "def fancyname(prefix):\n",
    "    try:\n",
    "        while True:\n",
    "            name = (yield)\n",
    "            print(prefix+':'+name)\n",
    "    except GeneratorExit:\n",
    "        print(\"Done\")"
   ]
  },
  {
   "cell_type": "code",
   "execution_count": 83,
   "id": "c3e2efbd-b374-41d0-9868-0b192de858ef",
   "metadata": {},
   "outputs": [],
   "source": [
    "t = fancyname('Cool')"
   ]
  },
  {
   "cell_type": "code",
   "execution_count": 85,
   "id": "d00e81a7-d16a-49a6-a9ff-f93efda4218b",
   "metadata": {},
   "outputs": [
    {
     "data": {
      "text/plain": [
       "generator"
      ]
     },
     "execution_count": 85,
     "metadata": {},
     "output_type": "execute_result"
    }
   ],
   "source": [
    "type(t)"
   ]
  },
  {
   "cell_type": "code",
   "execution_count": 89,
   "id": "55abc788-1122-4d4e-a735-d7aa029a7c33",
   "metadata": {},
   "outputs": [
    {
     "name": "stdout",
     "output_type": "stream",
     "text": [
      "Cool:Vishant\n"
     ]
    }
   ],
   "source": [
    "t.send(\"Vishant\")"
   ]
  },
  {
   "cell_type": "code",
   "execution_count": 88,
   "id": "b24e4151-882f-40e8-9da9-73f74f346e38",
   "metadata": {},
   "outputs": [],
   "source": [
    "next(t)"
   ]
  },
  {
   "cell_type": "code",
   "execution_count": 90,
   "id": "4dab33e9-35b6-4e2e-b77b-1169ca41e43d",
   "metadata": {},
   "outputs": [
    {
     "name": "stdout",
     "output_type": "stream",
     "text": [
      "Cool:Abhay\n"
     ]
    }
   ],
   "source": [
    "t.send('Abhay')"
   ]
  },
  {
   "cell_type": "code",
   "execution_count": 91,
   "id": "af5c5ad9-05bb-4b9f-9d7a-ca1fa45223ae",
   "metadata": {},
   "outputs": [
    {
     "name": "stdout",
     "output_type": "stream",
     "text": [
      "Done\n"
     ]
    }
   ],
   "source": [
    "t.close()"
   ]
  },
  {
   "cell_type": "code",
   "execution_count": 92,
   "id": "7ccf7cdc-81ee-40fb-a2b6-3deea5ff9a35",
   "metadata": {},
   "outputs": [],
   "source": [
    "import asyncio"
   ]
  },
  {
   "cell_type": "code",
   "execution_count": 96,
   "id": "37ae8124-a2f4-49d3-aba5-280dd6289620",
   "metadata": {},
   "outputs": [],
   "source": [
    "async def main():\n",
    "    print(\"hello World\")"
   ]
  },
  {
   "cell_type": "code",
   "execution_count": 97,
   "id": "ca54e1d4-4c17-4c02-b7c4-ad995273176a",
   "metadata": {},
   "outputs": [
    {
     "name": "stdout",
     "output_type": "stream",
     "text": [
      "<class 'coroutine'>\n"
     ]
    },
    {
     "name": "stderr",
     "output_type": "stream",
     "text": [
      "C:\\Users\\dell\\AppData\\Local\\Temp\\ipykernel_21528\\1471426791.py:2: RuntimeWarning: coroutine 'main' was never awaited\n",
      "  print(type(main()))\n",
      "RuntimeWarning: Enable tracemalloc to get the object allocation traceback\n"
     ]
    }
   ],
   "source": [
    "if __name__ == '__main__':\n",
    "    print(type(main()))"
   ]
  },
  {
   "cell_type": "code",
   "execution_count": 98,
   "id": "7fa57ed9-74a8-4a65-b50d-b4cb7e150243",
   "metadata": {},
   "outputs": [],
   "source": [
    "async def main():\n",
    "    print(\"hello\")\n",
    "    await asyncio.sleep(1)\n",
    "    print(\"world\")"
   ]
  },
  {
   "cell_type": "code",
   "execution_count": 101,
   "id": "dd36655b-5763-4c27-9988-74c3cbe76f44",
   "metadata": {},
   "outputs": [
    {
     "name": "stdout",
     "output_type": "stream",
     "text": [
      "hello\n",
      "world\n",
      "ended\n"
     ]
    }
   ],
   "source": [
    "await main()\n",
    "print(\"ended\")"
   ]
  },
  {
   "cell_type": "code",
   "execution_count": null,
   "id": "55f83f72-e9ea-43bf-adf3-6a0d2b6e07a6",
   "metadata": {},
   "outputs": [],
   "source": [
    "     "
   ]
  }
 ],
 "metadata": {
  "kernelspec": {
   "display_name": "Python 3 (ipykernel)",
   "language": "python",
   "name": "python3"
  },
  "language_info": {
   "codemirror_mode": {
    "name": "ipython",
    "version": 3
   },
   "file_extension": ".py",
   "mimetype": "text/x-python",
   "name": "python",
   "nbconvert_exporter": "python",
   "pygments_lexer": "ipython3",
   "version": "3.12.1"
  }
 },
 "nbformat": 4,
 "nbformat_minor": 5
}
