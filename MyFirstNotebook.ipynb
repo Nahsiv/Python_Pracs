{
 "cells": [
  {
   "cell_type": "markdown",
   "id": "aefa2e99-7be4-4355-8191-548caee2d1ca",
   "metadata": {},
   "source": [
    "# Shortcuts\n",
    "- for Markdown - ESC +M \n",
    "- for Code - Esc +Y \n",
    "- to Execute - Shift + Enter \n",
    "- to add a cell above the cell - Esc + A\n",
    "- to add a cell below Esc + B"
   ]
  },
  {
   "cell_type": "code",
   "execution_count": 3,
   "id": "3d5286b1-8210-4ab6-a97d-038f62bcea2a",
   "metadata": {},
   "outputs": [
    {
     "name": "stdout",
     "output_type": "stream",
     "text": [
      "15\n"
     ]
    }
   ],
   "source": [
    "a = 10\n",
    "b = 5\n",
    "print(a+b)"
   ]
  },
  {
   "cell_type": "code",
   "execution_count": 11,
   "id": "16d873d4-aa2f-4977-9560-66dd9a63ec81",
   "metadata": {},
   "outputs": [
    {
     "name": "stdout",
     "output_type": "stream",
     "text": [
      "added a cell below\n"
     ]
    }
   ],
   "source": [
    "print(\"added a cell below\")"
   ]
  },
  {
   "cell_type": "markdown",
   "id": "4f419a39-0ddd-43cc-970c-54f36c66aac6",
   "metadata": {},
   "source": [
    "# MarkDown\n",
    "This is a markdown.\n",
    "- A\n",
    "- B\n",
    "- C"
   ]
  },
  {
   "cell_type": "code",
   "execution_count": null,
   "id": "1291ce02-4d1c-45ae-b630-8d92d8fbb366",
   "metadata": {},
   "outputs": [],
   "source": [
    "print(\"is not runnable\")"
   ]
  },
  {
   "cell_type": "code",
   "execution_count": 17,
   "id": "97c5efcd-83bb-425e-ab06-17aedbf87dd7",
   "metadata": {},
   "outputs": [],
   "source": [
    "x  = 10"
   ]
  },
  {
   "cell_type": "code",
   "execution_count": 15,
   "id": "d567bf97-7221-4ee7-9243-4702ad190832",
   "metadata": {},
   "outputs": [],
   "source": [
    "x = 5"
   ]
  },
  {
   "cell_type": "code",
   "execution_count": 18,
   "id": "c232db33-0362-4c83-a40b-f8b598a0463f",
   "metadata": {},
   "outputs": [
    {
     "name": "stdout",
     "output_type": "stream",
     "text": [
      "10\n"
     ]
    }
   ],
   "source": [
    "print(x)"
   ]
  },
  {
   "cell_type": "code",
   "execution_count": 24,
   "id": "11769c39-209a-4c78-bb69-98d999a8aac2",
   "metadata": {},
   "outputs": [
    {
     "name": "stdout",
     "output_type": "stream",
     "text": [
      "hello\n"
     ]
    }
   ],
   "source": [
    "print(\"hello\")\n",
    "# comments are totally ignored by python interpreator"
   ]
  },
  {
   "cell_type": "code",
   "execution_count": 26,
   "id": "e3b4b300-a040-4949-8641-02e6161f1e3b",
   "metadata": {},
   "outputs": [],
   "source": [
    "# I am a comment \n",
    "# I am again a comment "
   ]
  },
  {
   "cell_type": "code",
   "execution_count": 28,
   "id": "61b4a4b3-bf41-4c4b-aed7-bef3044d97e3",
   "metadata": {},
   "outputs": [
    {
     "name": "stdout",
     "output_type": "stream",
     "text": [
      "hello\n"
     ]
    }
   ],
   "source": [
    "'''\n",
    "this is a multi - line \n",
    "string\n",
    "'''\n",
    "print(\"hello\")"
   ]
  },
  {
   "cell_type": "code",
   "execution_count": 29,
   "id": "6968147e-ce4a-467a-90fa-5c432ce52567",
   "metadata": {},
   "outputs": [
    {
     "name": "stdout",
     "output_type": "stream",
     "text": [
      "5\n"
     ]
    },
    {
     "data": {
      "text/plain": [
       "int"
      ]
     },
     "execution_count": 29,
     "metadata": {},
     "output_type": "execute_result"
    }
   ],
   "source": [
    "a = 5\n",
    "print(a)\n",
    "type(a)"
   ]
  },
  {
   "cell_type": "code",
   "execution_count": 30,
   "id": "e5efd88f-3e34-4798-89f9-ca12972503e4",
   "metadata": {},
   "outputs": [
    {
     "name": "stdout",
     "output_type": "stream",
     "text": [
      "1.2\n",
      "<class 'float'>\n"
     ]
    }
   ],
   "source": [
    "a = 1.2\n",
    "print(a)\n",
    "print(type(a))"
   ]
  },
  {
   "cell_type": "code",
   "execution_count": 31,
   "id": "7c1d4857-12d3-41f8-8946-d11268145b86",
   "metadata": {},
   "outputs": [
    {
     "name": "stdout",
     "output_type": "stream",
     "text": [
      "(1+2j)\n",
      "<class 'complex'>\n"
     ]
    }
   ],
   "source": [
    "a = 1+ 2j\n",
    "print(a)\n",
    "print(type(a))"
   ]
  },
  {
   "cell_type": "code",
   "execution_count": 32,
   "id": "0ec7f87d-4fcb-4087-9f2f-277c5394332e",
   "metadata": {},
   "outputs": [
    {
     "data": {
      "text/plain": [
       "complex"
      ]
     },
     "execution_count": 32,
     "metadata": {},
     "output_type": "execute_result"
    }
   ],
   "source": [
    "type(a)"
   ]
  },
  {
   "cell_type": "code",
   "execution_count": 33,
   "id": "410b6428-eb0f-4baa-9455-8ae590ca4892",
   "metadata": {},
   "outputs": [
    {
     "name": "stdout",
     "output_type": "stream",
     "text": [
      "vishant\n"
     ]
    },
    {
     "data": {
      "text/plain": [
       "str"
      ]
     },
     "execution_count": 33,
     "metadata": {},
     "output_type": "execute_result"
    }
   ],
   "source": [
    "a = \"vishant\"\n",
    "print(a)\n",
    "type(a)"
   ]
  },
  {
   "cell_type": "code",
   "execution_count": 34,
   "id": "5328662c-e9ec-4f63-bbfd-7200e98661ed",
   "metadata": {},
   "outputs": [
    {
     "name": "stdout",
     "output_type": "stream",
     "text": [
      "vishant\n"
     ]
    },
    {
     "data": {
      "text/plain": [
       "str"
      ]
     },
     "execution_count": 34,
     "metadata": {},
     "output_type": "execute_result"
    }
   ],
   "source": [
    "a = 'vishant'\n",
    "print(a)\n",
    "type(a)"
   ]
  },
  {
   "cell_type": "code",
   "execution_count": 36,
   "id": "6a2c5c26-742a-49b1-a298-dc2858433fc6",
   "metadata": {},
   "outputs": [
    {
     "name": "stdout",
     "output_type": "stream",
     "text": [
      "vishant\n",
      "vishant\n",
      "\n",
      "vishant \n",
      "sandilya\n",
      "\n",
      "\n",
      "vishant\n",
      "sandilya\n",
      "\n"
     ]
    }
   ],
   "source": [
    "a = \"vishant\"\n",
    "print(a)\n",
    "a = 'vishant'\n",
    "print(a)\n",
    "a = '''\n",
    "vishant \n",
    "sandilya\n",
    "'''\n",
    "print(a)\n",
    "a = \"\"\"\n",
    "vishant\n",
    "sandilya\n",
    "\"\"\"\n",
    "print(a)"
   ]
  },
  {
   "cell_type": "code",
   "execution_count": 37,
   "id": "30626f84-cfb2-47d6-8d16-7a91e7249994",
   "metadata": {},
   "outputs": [],
   "source": [
    "_ = 10"
   ]
  },
  {
   "cell_type": "code",
   "execution_count": 38,
   "id": "72557591-8969-45d7-838b-8adedf1c0349",
   "metadata": {},
   "outputs": [
    {
     "ename": "SyntaxError",
     "evalue": "invalid syntax (404736071.py, line 1)",
     "output_type": "error",
     "traceback": [
      "\u001b[1;36m  Cell \u001b[1;32mIn[38], line 1\u001b[1;36m\u001b[0m\n\u001b[1;33m    _a^& = 10\u001b[0m\n\u001b[1;37m       ^\u001b[0m\n\u001b[1;31mSyntaxError\u001b[0m\u001b[1;31m:\u001b[0m invalid syntax\n"
     ]
    }
   ],
   "source": [
    "_a^& = 10"
   ]
  },
  {
   "cell_type": "code",
   "execution_count": 39,
   "id": "8ee6d47d-d82e-4f5c-bc67-a0db6fadf108",
   "metadata": {},
   "outputs": [
    {
     "ename": "SyntaxError",
     "evalue": "invalid syntax (1716671521.py, line 1)",
     "output_type": "error",
     "traceback": [
      "\u001b[1;36m  Cell \u001b[1;32mIn[39], line 1\u001b[1;36m\u001b[0m\n\u001b[1;33m    _a&^i = 10\u001b[0m\n\u001b[1;37m       ^\u001b[0m\n\u001b[1;31mSyntaxError\u001b[0m\u001b[1;31m:\u001b[0m invalid syntax\n"
     ]
    }
   ],
   "source": [
    "_a&^i = 10"
   ]
  },
  {
   "cell_type": "code",
   "execution_count": 40,
   "id": "23b5584b-ec7a-47bb-8dd3-4ab04c7efdf1",
   "metadata": {},
   "outputs": [],
   "source": [
    "_a_2_3 = 10"
   ]
  },
  {
   "cell_type": "code",
   "execution_count": 41,
   "id": "fa1c8997-1523-420a-8852-08d3c0fe1866",
   "metadata": {},
   "outputs": [],
   "source": [
    "_1_2_A = 10"
   ]
  },
  {
   "cell_type": "code",
   "execution_count": 42,
   "id": "ae34752a-f01f-4a56-bd41-16aff9c81372",
   "metadata": {},
   "outputs": [
    {
     "ename": "SyntaxError",
     "evalue": "invalid syntax (3031599344.py, line 1)",
     "output_type": "error",
     "traceback": [
      "\u001b[1;36m  Cell \u001b[1;32mIn[42], line 1\u001b[1;36m\u001b[0m\n\u001b[1;33m    $as = 10\u001b[0m\n\u001b[1;37m    ^\u001b[0m\n\u001b[1;31mSyntaxError\u001b[0m\u001b[1;31m:\u001b[0m invalid syntax\n"
     ]
    }
   ],
   "source": [
    "$as = 10"
   ]
  },
  {
   "cell_type": "code",
   "execution_count": 43,
   "id": "99913967-e8fa-4148-8205-9e59a8bf5284",
   "metadata": {},
   "outputs": [],
   "source": [
    "abc = 19"
   ]
  },
  {
   "cell_type": "code",
   "execution_count": 44,
   "id": "5bb04bf6-6c59-4e18-9f5a-b88bb7a57e3c",
   "metadata": {},
   "outputs": [],
   "source": [
    "_1 = 10"
   ]
  },
  {
   "cell_type": "code",
   "execution_count": 45,
   "id": "0dba8a42-5d5f-45bd-9380-d4157cadd6d3",
   "metadata": {},
   "outputs": [
    {
     "data": {
      "text/plain": [
       "'\\nvishant\\nsandilya\\n'"
      ]
     },
     "execution_count": 45,
     "metadata": {},
     "output_type": "execute_result"
    }
   ],
   "source": [
    "a"
   ]
  },
  {
   "cell_type": "code",
   "execution_count": 46,
   "id": "3caae0e8-ff22-41af-95b5-a6d24c14ec6a",
   "metadata": {},
   "outputs": [
    {
     "ename": "NameError",
     "evalue": "name 'g' is not defined",
     "output_type": "error",
     "traceback": [
      "\u001b[1;31m---------------------------------------------------------------------------\u001b[0m",
      "\u001b[1;31mNameError\u001b[0m                                 Traceback (most recent call last)",
      "Cell \u001b[1;32mIn[46], line 1\u001b[0m\n\u001b[1;32m----> 1\u001b[0m \u001b[43mg\u001b[49m\n",
      "\u001b[1;31mNameError\u001b[0m: name 'g' is not defined"
     ]
    }
   ],
   "source": [
    "g"
   ]
  },
  {
   "cell_type": "code",
   "execution_count": 47,
   "id": "55ea9149-c361-4d57-af8f-5d03c8d314cf",
   "metadata": {},
   "outputs": [
    {
     "ename": "NameError",
     "evalue": "name 'g' is not defined",
     "output_type": "error",
     "traceback": [
      "\u001b[1;31m---------------------------------------------------------------------------\u001b[0m",
      "\u001b[1;31mNameError\u001b[0m                                 Traceback (most recent call last)",
      "Cell \u001b[1;32mIn[47], line 1\u001b[0m\n\u001b[1;32m----> 1\u001b[0m \u001b[38;5;28mprint\u001b[39m(\u001b[43mg\u001b[49m)\n",
      "\u001b[1;31mNameError\u001b[0m: name 'g' is not defined"
     ]
    }
   ],
   "source": [
    "print(g)"
   ]
  },
  {
   "cell_type": "code",
   "execution_count": 48,
   "id": "65a4f9e4-a29f-4bdc-ba36-1665b706564d",
   "metadata": {},
   "outputs": [
    {
     "ename": "SyntaxError",
     "evalue": "leading zeros in decimal integer literals are not permitted; use an 0o prefix for octal integers (2871565200.py, line 1)",
     "output_type": "error",
     "traceback": [
      "\u001b[1;36m  Cell \u001b[1;32mIn[48], line 1\u001b[1;36m\u001b[0m\n\u001b[1;33m    g = 09\u001b[0m\n\u001b[1;37m        ^\u001b[0m\n\u001b[1;31mSyntaxError\u001b[0m\u001b[1;31m:\u001b[0m leading zeros in decimal integer literals are not permitted; use an 0o prefix for octal integers\n"
     ]
    }
   ],
   "source": [
    "g = 09"
   ]
  },
  {
   "cell_type": "code",
   "execution_count": 49,
   "id": "8d5abd09-51cf-49a0-8cae-49b17ecbdad1",
   "metadata": {},
   "outputs": [
    {
     "ename": "SyntaxError",
     "evalue": "leading zeros in decimal integer literals are not permitted; use an 0o prefix for octal integers (3932002115.py, line 1)",
     "output_type": "error",
     "traceback": [
      "\u001b[1;36m  Cell \u001b[1;32mIn[49], line 1\u001b[1;36m\u001b[0m\n\u001b[1;33m    g = 09o\u001b[0m\n\u001b[1;37m        ^\u001b[0m\n\u001b[1;31mSyntaxError\u001b[0m\u001b[1;31m:\u001b[0m leading zeros in decimal integer literals are not permitted; use an 0o prefix for octal integers\n"
     ]
    }
   ],
   "source": [
    "g = 09o"
   ]
  },
  {
   "cell_type": "code",
   "execution_count": 50,
   "id": "7b8bb35f-c00d-4823-bd4a-ec86cd9d9bd8",
   "metadata": {},
   "outputs": [
    {
     "ename": "SyntaxError",
     "evalue": "leading zeros in decimal integer literals are not permitted; use an 0o prefix for octal integers (2280374240.py, line 1)",
     "output_type": "error",
     "traceback": [
      "\u001b[1;36m  Cell \u001b[1;32mIn[50], line 1\u001b[1;36m\u001b[0m\n\u001b[1;33m    g = 07o\u001b[0m\n\u001b[1;37m        ^\u001b[0m\n\u001b[1;31mSyntaxError\u001b[0m\u001b[1;31m:\u001b[0m leading zeros in decimal integer literals are not permitted; use an 0o prefix for octal integers\n"
     ]
    }
   ],
   "source": [
    "g = 07o"
   ]
  },
  {
   "cell_type": "code",
   "execution_count": 51,
   "id": "73e7fa47-db5c-4ffe-9fd4-adf79cb6bb02",
   "metadata": {},
   "outputs": [],
   "source": [
    "g = 0o123"
   ]
  },
  {
   "cell_type": "code",
   "execution_count": 52,
   "id": "db6e22cc-59b9-4bcf-8564-93dcf339e579",
   "metadata": {},
   "outputs": [
    {
     "name": "stdout",
     "output_type": "stream",
     "text": [
      "83\n"
     ]
    }
   ],
   "source": [
    "print(g)"
   ]
  },
  {
   "cell_type": "markdown",
   "id": "c54ea199-c8f9-44a4-911e-b338c8d41e97",
   "metadata": {},
   "source": [
    "### Arithmatic Operator "
   ]
  },
  {
   "cell_type": "code",
   "execution_count": 56,
   "id": "82958524-fe9c-4d95-969e-5472ca22074e",
   "metadata": {},
   "outputs": [
    {
     "name": "stdout",
     "output_type": "stream",
     "text": [
      "31\n",
      "-11\n",
      "0.4762\n",
      "0\n",
      "210\n",
      "1000000000000000000000\n",
      "1\n"
     ]
    }
   ],
   "source": [
    "a = 10\n",
    "b = 21\n",
    "print(a+b)\n",
    "print(a-b)\n",
    "print(\"%0.4f\"%(a/b))\n",
    "print(a//b)\n",
    "print(a*b)\n",
    "print(a**b)\n",
    "print(b%a)"
   ]
  },
  {
   "cell_type": "markdown",
   "id": "64717786-abe2-43ed-a294-4ff8edcb4694",
   "metadata": {},
   "source": [
    "### Multivariable assignment"
   ]
  },
  {
   "cell_type": "code",
   "execution_count": 57,
   "id": "a93e75ae-e6b6-43b6-80ca-a0b428bf3215",
   "metadata": {},
   "outputs": [
    {
     "name": "stdout",
     "output_type": "stream",
     "text": [
      "10 20 12.6\n"
     ]
    }
   ],
   "source": [
    "a,b,c = 10, 20, 12.6\n",
    "print(a, b, c)"
   ]
  },
  {
   "cell_type": "code",
   "execution_count": null,
   "id": "10eedfbb-9d55-4131-ba94-9c930d8e7270",
   "metadata": {},
   "outputs": [],
   "source": []
  }
 ],
 "metadata": {
  "kernelspec": {
   "display_name": "Python 3 (ipykernel)",
   "language": "python",
   "name": "python3"
  },
  "language_info": {
   "codemirror_mode": {
    "name": "ipython",
    "version": 3
   },
   "file_extension": ".py",
   "mimetype": "text/x-python",
   "name": "python",
   "nbconvert_exporter": "python",
   "pygments_lexer": "ipython3",
   "version": "3.12.1"
  }
 },
 "nbformat": 4,
 "nbformat_minor": 5
}
