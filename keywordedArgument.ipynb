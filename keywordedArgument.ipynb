{
 "cells": [
  {
   "cell_type": "code",
   "execution_count": 8,
   "id": "de9d9995-5fe1-4f6a-b8a2-ebfc5ab71b61",
   "metadata": {},
   "outputs": [],
   "source": [
    "def show(a,b,c,*args):\n",
    "    print(args)"
   ]
  },
  {
   "cell_type": "code",
   "execution_count": 3,
   "id": "080a0a17-f10f-4b5a-b6cc-1d272504b6b1",
   "metadata": {},
   "outputs": [
    {
     "name": "stdout",
     "output_type": "stream",
     "text": [
      "('hello', 'world')\n"
     ]
    }
   ],
   "source": [
    "show('hello','world')"
   ]
  },
  {
   "cell_type": "code",
   "execution_count": 4,
   "id": "5d3708cf-ed3b-4667-939b-10ae9b91e91b",
   "metadata": {},
   "outputs": [
    {
     "name": "stdout",
     "output_type": "stream",
     "text": [
      "()\n"
     ]
    }
   ],
   "source": [
    "show()"
   ]
  },
  {
   "cell_type": "code",
   "execution_count": 5,
   "id": "f458b431-dec5-426b-9095-3de2fa456bf7",
   "metadata": {},
   "outputs": [
    {
     "name": "stdout",
     "output_type": "stream",
     "text": [
      "(1, 2, 3, 4, 6)\n"
     ]
    }
   ],
   "source": [
    "show(1,2,3,4,6)"
   ]
  },
  {
   "cell_type": "code",
   "execution_count": 9,
   "id": "bdcac51a-c5b8-4c27-a26a-ed33def69ba0",
   "metadata": {},
   "outputs": [
    {
     "name": "stdout",
     "output_type": "stream",
     "text": [
      "('vishant',)\n"
     ]
    }
   ],
   "source": [
    "show(1,2,3,\"vishant\")"
   ]
  },
  {
   "cell_type": "code",
   "execution_count": 15,
   "id": "ebe337e9-1bf8-411e-8a53-8757700ffc1b",
   "metadata": {},
   "outputs": [],
   "source": [
    "def show (a,b,c,*args,d=10,e=15,**kwargs):\n",
    "    print(b)\n",
    "    print(args)\n",
    "    print(d)\n",
    "    print(e)\n",
    "    print(kwargs)"
   ]
  },
  {
   "cell_type": "code",
   "execution_count": 16,
   "id": "79395bbb-0f9c-43c7-b48f-cad19a7af2e2",
   "metadata": {},
   "outputs": [
    {
     "name": "stdout",
     "output_type": "stream",
     "text": [
      "2\n",
      "('vishant',)\n",
      "18\n",
      "15\n",
      "{'name': 'vishante'}\n"
     ]
    }
   ],
   "source": [
    "show(1,2,3,\"vishant\", d=18, name = 'vishante')"
   ]
  },
  {
   "cell_type": "markdown",
   "id": "7bb27e4a-4923-4090-9dbb-dd756ae50a05",
   "metadata": {},
   "source": [
    "Lambda Function \n"
   ]
  },
  {
   "cell_type": "code",
   "execution_count": 17,
   "id": "4b1f5229-86ea-49c6-8ad7-508f0897be42",
   "metadata": {},
   "outputs": [],
   "source": [
    "def funct():\n",
    "    return 10+10"
   ]
  },
  {
   "cell_type": "code",
   "execution_count": 18,
   "id": "b0a673ca-1b0a-4867-a1c5-eeed84c7600d",
   "metadata": {},
   "outputs": [
    {
     "data": {
      "text/plain": [
       "20"
      ]
     },
     "execution_count": 18,
     "metadata": {},
     "output_type": "execute_result"
    }
   ],
   "source": [
    "funct()"
   ]
  },
  {
   "cell_type": "code",
   "execution_count": 19,
   "id": "ab0b0834-0d25-4464-b1e2-c2e641c27395",
   "metadata": {},
   "outputs": [
    {
     "name": "stdout",
     "output_type": "stream",
     "text": [
      "<function funct at 0x000002AD6E2D1760>\n"
     ]
    }
   ],
   "source": [
    "print(funct)"
   ]
  },
  {
   "cell_type": "code",
   "execution_count": 20,
   "id": "7a749024-357f-4cca-983d-2e9c8fa6c87c",
   "metadata": {},
   "outputs": [],
   "source": [
    "funct = 12"
   ]
  },
  {
   "cell_type": "code",
   "execution_count": 21,
   "id": "bdebdd12-f3b9-4e1c-b030-25973434367b",
   "metadata": {},
   "outputs": [
    {
     "name": "stdout",
     "output_type": "stream",
     "text": [
      "12\n"
     ]
    }
   ],
   "source": [
    "print(funct)"
   ]
  },
  {
   "cell_type": "code",
   "execution_count": 22,
   "id": "50509716-6386-4552-a04a-7ecabcc8d2bd",
   "metadata": {},
   "outputs": [],
   "source": [
    "def funct(a,b):\n",
    "    return a+b"
   ]
  },
  {
   "cell_type": "code",
   "execution_count": 23,
   "id": "721c6acf-14bd-4797-af97-7a3d1f800782",
   "metadata": {},
   "outputs": [
    {
     "data": {
      "text/plain": [
       "22"
      ]
     },
     "execution_count": 23,
     "metadata": {},
     "output_type": "execute_result"
    }
   ],
   "source": [
    "funct(10,12)"
   ]
  },
  {
   "cell_type": "code",
   "execution_count": 24,
   "id": "6a5143dd-017c-43cd-9c92-1f8c36c4e91f",
   "metadata": {},
   "outputs": [],
   "source": [
    "add =lambda a,b:a+b"
   ]
  },
  {
   "cell_type": "code",
   "execution_count": 25,
   "id": "52b45940-cb19-46ae-b5cf-04a035bb65ea",
   "metadata": {},
   "outputs": [
    {
     "name": "stdout",
     "output_type": "stream",
     "text": [
      "3\n"
     ]
    }
   ],
   "source": [
    "print(add(1,2))"
   ]
  },
  {
   "cell_type": "code",
   "execution_count": 30,
   "id": "0b1c294d-1bb5-45c8-aec3-ccf8cb083c54",
   "metadata": {},
   "outputs": [],
   "source": [
    "l = [2,1,1,14,21,2]"
   ]
  },
  {
   "cell_type": "code",
   "execution_count": 27,
   "id": "f278e9b2-2d77-4c04-bbdc-baef6e14a12e",
   "metadata": {},
   "outputs": [
    {
     "data": {
      "text/plain": [
       "[1, 1, 2, 2, 14, 21]"
      ]
     },
     "execution_count": 27,
     "metadata": {},
     "output_type": "execute_result"
    }
   ],
   "source": [
    "sorted(l)"
   ]
  },
  {
   "cell_type": "code",
   "execution_count": 32,
   "id": "c5e1b35b-be33-4990-a9e6-b0a815ef5900",
   "metadata": {},
   "outputs": [],
   "source": [
    "l.sort()"
   ]
  },
  {
   "cell_type": "code",
   "execution_count": 33,
   "id": "b9e24d06-08e4-4b77-bd3a-bc3cbcfd784e",
   "metadata": {},
   "outputs": [
    {
     "name": "stdout",
     "output_type": "stream",
     "text": [
      "[1, 1, 2, 2, 14, 21]\n"
     ]
    }
   ],
   "source": [
    "print(l)"
   ]
  },
  {
   "cell_type": "code",
   "execution_count": 34,
   "id": "36b8983f-9171-4eba-9d19-99cdeb0e4139",
   "metadata": {},
   "outputs": [
    {
     "data": {
      "text/plain": [
       "\u001b[1;31mSignature:\u001b[0m \u001b[0msorted\u001b[0m\u001b[1;33m(\u001b[0m\u001b[0miterable\u001b[0m\u001b[1;33m,\u001b[0m \u001b[1;33m/\u001b[0m\u001b[1;33m,\u001b[0m \u001b[1;33m*\u001b[0m\u001b[1;33m,\u001b[0m \u001b[0mkey\u001b[0m\u001b[1;33m=\u001b[0m\u001b[1;32mNone\u001b[0m\u001b[1;33m,\u001b[0m \u001b[0mreverse\u001b[0m\u001b[1;33m=\u001b[0m\u001b[1;32mFalse\u001b[0m\u001b[1;33m)\u001b[0m\u001b[1;33m\u001b[0m\u001b[1;33m\u001b[0m\u001b[0m\n",
       "\u001b[1;31mDocstring:\u001b[0m\n",
       "Return a new list containing all items from the iterable in ascending order.\n",
       "\n",
       "A custom key function can be supplied to customize the sort order, and the\n",
       "reverse flag can be set to request the result in descending order.\n",
       "\u001b[1;31mType:\u001b[0m      builtin_function_or_method"
      ]
     },
     "metadata": {},
     "output_type": "display_data"
    }
   ],
   "source": [
    "sorted?"
   ]
  },
  {
   "cell_type": "code",
   "execution_count": 35,
   "id": "f46a04d3-944d-498d-b248-6f24534ccaed",
   "metadata": {},
   "outputs": [
    {
     "ename": "TypeError",
     "evalue": "'int' object is not subscriptable",
     "output_type": "error",
     "traceback": [
      "\u001b[1;31m---------------------------------------------------------------------------\u001b[0m",
      "\u001b[1;31mTypeError\u001b[0m                                 Traceback (most recent call last)",
      "Cell \u001b[1;32mIn[35], line 1\u001b[0m\n\u001b[1;32m----> 1\u001b[0m \u001b[38;5;28;43msorted\u001b[39;49m\u001b[43m(\u001b[49m\u001b[43ml\u001b[49m\u001b[43m,\u001b[49m\u001b[43m \u001b[49m\u001b[43mkey\u001b[49m\u001b[43m \u001b[49m\u001b[38;5;241;43m=\u001b[39;49m\u001b[43m \u001b[49m\u001b[38;5;28;43;01mlambda\u001b[39;49;00m\u001b[43m \u001b[49m\u001b[43mx\u001b[49m\u001b[43m:\u001b[49m\u001b[43mx\u001b[49m\u001b[43m[\u001b[49m\u001b[38;5;241;43m1\u001b[39;49m\u001b[43m]\u001b[49m\u001b[43m)\u001b[49m\n",
      "Cell \u001b[1;32mIn[35], line 1\u001b[0m, in \u001b[0;36m<lambda>\u001b[1;34m(x)\u001b[0m\n\u001b[1;32m----> 1\u001b[0m \u001b[38;5;28msorted\u001b[39m(l, key \u001b[38;5;241m=\u001b[39m \u001b[38;5;28;01mlambda\u001b[39;00m x:\u001b[43mx\u001b[49m\u001b[43m[\u001b[49m\u001b[38;5;241;43m1\u001b[39;49m\u001b[43m]\u001b[49m)\n",
      "\u001b[1;31mTypeError\u001b[0m: 'int' object is not subscriptable"
     ]
    }
   ],
   "source": [
    "sorted(l, key = lambda x:x[1])"
   ]
  },
  {
   "cell_type": "code",
   "execution_count": 36,
   "id": "e48a34df-818d-4318-9227-a5929cfbc135",
   "metadata": {},
   "outputs": [],
   "source": [
    "l = [(\"vishant\", 10), (\"abhay\", 15),(\"Ram\", 200)]"
   ]
  },
  {
   "cell_type": "code",
   "execution_count": 38,
   "id": "8592e65d-e3df-41f2-9270-32d13497636c",
   "metadata": {},
   "outputs": [
    {
     "data": {
      "text/plain": [
       "[('Ram', 200), ('abhay', 15), ('vishant', 10)]"
      ]
     },
     "execution_count": 38,
     "metadata": {},
     "output_type": "execute_result"
    }
   ],
   "source": [
    "sorted(l)"
   ]
  },
  {
   "cell_type": "code",
   "execution_count": 44,
   "id": "fd1117ec-d6ad-4611-a9db-472c40b9d798",
   "metadata": {},
   "outputs": [
    {
     "data": {
      "text/plain": [
       "[('Ram', 200), ('abhay', 15), ('vishant', 10)]"
      ]
     },
     "execution_count": 44,
     "metadata": {},
     "output_type": "execute_result"
    }
   ],
   "source": [
    "sorted(l, key = lambda x:x[0])"
   ]
  },
  {
   "cell_type": "code",
   "execution_count": 40,
   "id": "8b45fd04-6063-4044-a5be-7ddf94f15322",
   "metadata": {},
   "outputs": [],
   "source": [
    "def key(a):\n",
    "    return x[0]"
   ]
  },
  {
   "cell_type": "code",
   "execution_count": 42,
   "id": "3e0ba2cb-19bb-4daa-b90f-e181dde494e8",
   "metadata": {},
   "outputs": [
    {
     "ename": "NameError",
     "evalue": "name 'x' is not defined",
     "output_type": "error",
     "traceback": [
      "\u001b[1;31m---------------------------------------------------------------------------\u001b[0m",
      "\u001b[1;31mNameError\u001b[0m                                 Traceback (most recent call last)",
      "Cell \u001b[1;32mIn[42], line 1\u001b[0m\n\u001b[1;32m----> 1\u001b[0m \u001b[38;5;28;43msorted\u001b[39;49m\u001b[43m(\u001b[49m\u001b[43ml\u001b[49m\u001b[43m,\u001b[49m\u001b[43mkey\u001b[49m\u001b[38;5;241;43m=\u001b[39;49m\u001b[43m \u001b[49m\u001b[43mkey\u001b[49m\u001b[43m)\u001b[49m\n",
      "Cell \u001b[1;32mIn[40], line 2\u001b[0m, in \u001b[0;36mkey\u001b[1;34m(a)\u001b[0m\n\u001b[0;32m      1\u001b[0m \u001b[38;5;28;01mdef\u001b[39;00m \u001b[38;5;21mkey\u001b[39m(a):\n\u001b[1;32m----> 2\u001b[0m     \u001b[38;5;28;01mreturn\u001b[39;00m \u001b[43mx\u001b[49m[\u001b[38;5;241m0\u001b[39m]\n",
      "\u001b[1;31mNameError\u001b[0m: name 'x' is not defined"
     ]
    }
   ],
   "source": [
    "sorted(l,key= key)"
   ]
  },
  {
   "cell_type": "code",
   "execution_count": null,
   "id": "d9e8ab58-ca51-48fe-909c-1cc8827f4164",
   "metadata": {},
   "outputs": [],
   "source": []
  }
 ],
 "metadata": {
  "kernelspec": {
   "display_name": "Python 3 (ipykernel)",
   "language": "python",
   "name": "python3"
  },
  "language_info": {
   "codemirror_mode": {
    "name": "ipython",
    "version": 3
   },
   "file_extension": ".py",
   "mimetype": "text/x-python",
   "name": "python",
   "nbconvert_exporter": "python",
   "pygments_lexer": "ipython3",
   "version": "3.12.1"
  }
 },
 "nbformat": 4,
 "nbformat_minor": 5
}
