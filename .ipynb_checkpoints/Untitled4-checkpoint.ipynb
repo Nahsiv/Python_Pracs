{
 "cells": [
  {
   "cell_type": "code",
   "execution_count": 32,
   "id": "4233adc6-c945-4959-889c-3640ec460935",
   "metadata": {},
   "outputs": [],
   "source": [
    "file = open('hello.txt', \"r\")"
   ]
  },
  {
   "cell_type": "code",
   "execution_count": 33,
   "id": "1d53f86d-480f-4e2a-a602-d7447583d50e",
   "metadata": {},
   "outputs": [
    {
     "data": {
      "text/plain": [
       "['Hello World\\n', 'Hello Again\\n', 'Helo Still Again']"
      ]
     },
     "execution_count": 33,
     "metadata": {},
     "output_type": "execute_result"
    }
   ],
   "source": [
    "file.readlines()"
   ]
  },
  {
   "cell_type": "code",
   "execution_count": 34,
   "id": "0db65258-da7b-4397-80f1-9937b2f3a9af",
   "metadata": {},
   "outputs": [],
   "source": [
    "file.close()"
   ]
  },
  {
   "cell_type": "code",
   "execution_count": 11,
   "id": "99db256d-2792-4ac4-979b-55a9cc3d5b7a",
   "metadata": {},
   "outputs": [],
   "source": [
    "file = open('something.txt', 'w')"
   ]
  },
  {
   "cell_type": "code",
   "execution_count": 12,
   "id": "fb285cad-e1f9-41e0-8703-76adb4ea1b5b",
   "metadata": {},
   "outputs": [
    {
     "data": {
      "text/plain": [
       "21"
      ]
     },
     "execution_count": 12,
     "metadata": {},
     "output_type": "execute_result"
    }
   ],
   "source": [
    "file.write('hello from other side')"
   ]
  },
  {
   "cell_type": "code",
   "execution_count": 13,
   "id": "7aa672ec-b6e2-49e2-bda6-d6a9ca77abf9",
   "metadata": {},
   "outputs": [],
   "source": [
    "file.close()"
   ]
  },
  {
   "cell_type": "code",
   "execution_count": 35,
   "id": "04d5c7be-22d6-4a7f-b769-3ef3c2c7a747",
   "metadata": {},
   "outputs": [],
   "source": [
    "file = open('hello.txt', 'r')"
   ]
  },
  {
   "cell_type": "code",
   "execution_count": 36,
   "id": "feb8a54f-dbf7-446d-a37e-812009b134bf",
   "metadata": {},
   "outputs": [
    {
     "data": {
      "text/plain": [
       "'Hello'"
      ]
     },
     "execution_count": 36,
     "metadata": {},
     "output_type": "execute_result"
    }
   ],
   "source": [
    "file.read(5)"
   ]
  },
  {
   "cell_type": "code",
   "execution_count": 43,
   "id": "4eab1cec-f033-429c-a05c-7f823c7d15f0",
   "metadata": {},
   "outputs": [
    {
     "data": {
      "text/plain": [
       "' World\\nHello Again\\nHelo Still Again'"
      ]
     },
     "execution_count": 43,
     "metadata": {},
     "output_type": "execute_result"
    }
   ],
   "source": [
    "file.read()"
   ]
  },
  {
   "cell_type": "code",
   "execution_count": 42,
   "id": "ae665ca1-3133-4b44-9429-b59b24353709",
   "metadata": {},
   "outputs": [
    {
     "data": {
      "text/plain": [
       "5"
      ]
     },
     "execution_count": 42,
     "metadata": {},
     "output_type": "execute_result"
    }
   ],
   "source": [
    "file.seek(5)"
   ]
  },
  {
   "cell_type": "code",
   "execution_count": 44,
   "id": "074f3395-f161-498d-af1e-6ee78065f352",
   "metadata": {},
   "outputs": [],
   "source": [
    "file.close()"
   ]
  },
  {
   "cell_type": "code",
   "execution_count": 47,
   "id": "e77d6b89-84a5-4bef-ac5e-184da1a6ede5",
   "metadata": {},
   "outputs": [
    {
     "name": "stdout",
     "output_type": "stream",
     "text": [
      "Hello World\n",
      "Hello Again\n",
      "Helo Still Again\n",
      " World\n",
      "Hello Again\n",
      "Helo Still Again\n"
     ]
    }
   ],
   "source": [
    "with open('hello.txt','r') as file:\n",
    "    print(file.read())\n",
    "    file.seek(5)\n",
    "    print(file.read())"
   ]
  },
  {
   "cell_type": "code",
   "execution_count": 50,
   "id": "67408d5b-6bd7-49b8-ba43-d234d0b362e5",
   "metadata": {},
   "outputs": [],
   "source": [
    "import json"
   ]
  },
  {
   "cell_type": "code",
   "execution_count": 60,
   "id": "73dd49fb-7cda-44ae-a627-46357b8aafb0",
   "metadata": {},
   "outputs": [
    {
     "ename": "KeyError",
     "evalue": "'subject'",
     "output_type": "error",
     "traceback": [
      "\u001b[1;31m---------------------------------------------------------------------------\u001b[0m",
      "\u001b[1;31mKeyError\u001b[0m                                  Traceback (most recent call last)",
      "Cell \u001b[1;32mIn[60], line 3\u001b[0m\n\u001b[0;32m      1\u001b[0m \u001b[38;5;28;01mwith\u001b[39;00m \u001b[38;5;28mopen\u001b[39m(\u001b[38;5;124m'\u001b[39m\u001b[38;5;124mdata.json\u001b[39m\u001b[38;5;124m'\u001b[39m,\u001b[38;5;124m'\u001b[39m\u001b[38;5;124mr\u001b[39m\u001b[38;5;124m'\u001b[39m) \u001b[38;5;28;01mas\u001b[39;00m file:\n\u001b[0;32m      2\u001b[0m     l \u001b[38;5;241m=\u001b[39m json\u001b[38;5;241m.\u001b[39mload(file)\n\u001b[1;32m----> 3\u001b[0m     \u001b[38;5;28mprint\u001b[39m(\u001b[43ml\u001b[49m\u001b[43m[\u001b[49m\u001b[38;5;124;43m'\u001b[39;49m\u001b[38;5;124;43msubject\u001b[39;49m\u001b[38;5;124;43m'\u001b[39;49m\u001b[43m]\u001b[49m[\u001b[38;5;241m0\u001b[39m])\n",
      "\u001b[1;31mKeyError\u001b[0m: 'subject'"
     ]
    }
   ],
   "source": [
    "with open('data.json','r') as file:\n",
    "    l = json.load(file)\n",
    "    print(l['subject'][0])"
   ]
  },
  {
   "cell_type": "code",
   "execution_count": null,
   "id": "e73c69b3-a41f-4f83-97f9-1ab0c079f485",
   "metadata": {},
   "outputs": [],
   "source": []
  }
 ],
 "metadata": {
  "kernelspec": {
   "display_name": "Python 3 (ipykernel)",
   "language": "python",
   "name": "python3"
  },
  "language_info": {
   "codemirror_mode": {
    "name": "ipython",
    "version": 3
   },
   "file_extension": ".py",
   "mimetype": "text/x-python",
   "name": "python",
   "nbconvert_exporter": "python",
   "pygments_lexer": "ipython3",
   "version": "3.12.1"
  }
 },
 "nbformat": 4,
 "nbformat_minor": 5
}
