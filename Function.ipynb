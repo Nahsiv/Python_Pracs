{
 "cells": [
  {
   "cell_type": "code",
   "execution_count": 1,
   "id": "a4c4fe9a-a0a9-4099-aa6e-36bd017969f9",
   "metadata": {},
   "outputs": [
    {
     "name": "stdout",
     "output_type": "stream",
     "text": [
      "knock knock knock Vishant\n",
      "knock knock knock Vishant\n",
      "knock knock knock Vishant\n",
      "40\n",
      "0\n",
      "1\n",
      "2\n",
      "3\n",
      "4\n",
      "5\n",
      "6\n",
      "7\n",
      "8\n",
      "9\n",
      "knock knock knock Vishant\n",
      "knock knock knock Vishant\n",
      "knock knock knock Vishant\n"
     ]
    }
   ],
   "source": [
    "print(\"knock knock knock Vishant\")\n",
    "print(\"knock knock knock Vishant\")\n",
    "print(\"knock knock knock Vishant\")\n",
    "print(10+30)\n",
    "for i in range(10):\n",
    "    print(i)\n",
    "print(\"knock knock knock Vishant\")\n",
    "print(\"knock knock knock Vishant\")\n",
    "print(\"knock knock knock Vishant\")"
   ]
  },
  {
   "cell_type": "code",
   "execution_count": 2,
   "id": "3ccd1920-7cf4-448b-90ac-7f60e19de1ea",
   "metadata": {},
   "outputs": [],
   "source": [
    "def knock_sheldon():\n",
    "    print(\"knock knock knock Vishant\")\n",
    "    print(\"knock knock knock Vishant\")\n",
    "    print(\"knock knock knock Vishant\")"
   ]
  },
  {
   "cell_type": "code",
   "execution_count": 4,
   "id": "a463e298-58e2-4d07-8632-ab5ea40e7625",
   "metadata": {},
   "outputs": [
    {
     "name": "stdout",
     "output_type": "stream",
     "text": [
      "knock knock knock Vishant\n",
      "knock knock knock Vishant\n",
      "knock knock knock Vishant\n",
      "60\n",
      "10\n",
      "8\n",
      "6\n",
      "4\n",
      "2\n",
      "knock knock knock Vishant\n",
      "knock knock knock Vishant\n",
      "knock knock knock Vishant\n"
     ]
    }
   ],
   "source": [
    "knock_sheldon()\n",
    "print(10+50)\n",
    "for i in range(10, 1, -2):\n",
    "    print(i)\n",
    "knock_sheldon()"
   ]
  },
  {
   "cell_type": "code",
   "execution_count": 19,
   "id": "6996d472-36a6-4445-b755-5c75133d0e15",
   "metadata": {},
   "outputs": [],
   "source": [
    "def knock_sheldon(s, number=3):\n",
    "    for i in range(number):\n",
    "        print(\"knock knock knock {}\".format(s))"
   ]
  },
  {
   "cell_type": "code",
   "execution_count": 20,
   "id": "6165caf1-9ac8-4b12-b992-7c08a7233724",
   "metadata": {},
   "outputs": [
    {
     "name": "stdout",
     "output_type": "stream",
     "text": [
      "knock knock knock vishant\n"
     ]
    }
   ],
   "source": [
    "knock_sheldon(\"vishant\",1)"
   ]
  },
  {
   "cell_type": "code",
   "execution_count": 21,
   "id": "ccb8a85e-dfe0-48f8-bc5d-d3b47eed10da",
   "metadata": {},
   "outputs": [],
   "source": [
    "def sum (a, b):\n",
    "    return a+b"
   ]
  },
  {
   "cell_type": "code",
   "execution_count": 22,
   "id": "5c685fc0-14ad-4aac-9343-61497e44df34",
   "metadata": {},
   "outputs": [
    {
     "name": "stdout",
     "output_type": "stream",
     "text": [
      "5\n"
     ]
    }
   ],
   "source": [
    "sum(2,3)"
   ]
  },
  {
   "cell_type": "code",
   "execution_count": 24,
   "id": "50dc3d16-cb55-426e-b679-4347cc78e612",
   "metadata": {},
   "outputs": [
    {
     "name": "stdout",
     "output_type": "stream",
     "text": [
      "5\n"
     ]
    }
   ],
   "source": [
    "x = sum(2,3)"
   ]
  },
  {
   "cell_type": "code",
   "execution_count": 25,
   "id": "33aadc37-931c-4ae1-9476-615a8a0904d5",
   "metadata": {},
   "outputs": [],
   "source": [
    "x"
   ]
  },
  {
   "cell_type": "code",
   "execution_count": 28,
   "id": "b4e4f927-7f41-405e-a2c7-bc874703ec74",
   "metadata": {},
   "outputs": [],
   "source": [
    "def div(a, b):\n",
    "    try:\n",
    "        return a/b\n",
    "    except:\n",
    "        print(\"Error\")\n",
    "    finally:\n",
    "        print(\"Wrapping Up\")"
   ]
  },
  {
   "cell_type": "code",
   "execution_count": 29,
   "id": "5bc8c25b-5c11-4816-bfc3-9ff9971e1f2a",
   "metadata": {},
   "outputs": [
    {
     "name": "stdout",
     "output_type": "stream",
     "text": [
      "Wrapping Up\n",
      "10\n"
     ]
    }
   ],
   "source": [
    "x = div(10,2)\n",
    "print(x)"
   ]
  },
  {
   "cell_type": "code",
   "execution_count": 39,
   "id": "53ccf6ce-d2da-4264-b758-38c37c779e19",
   "metadata": {},
   "outputs": [],
   "source": [
    "x = 10\n",
    "def show():\n",
    "    global x\n",
    "    x += 5\n",
    "    print(x)"
   ]
  },
  {
   "cell_type": "code",
   "execution_count": 40,
   "id": "59bb9176-b246-40eb-b9a0-9d1b94c4cbc9",
   "metadata": {},
   "outputs": [
    {
     "name": "stdout",
     "output_type": "stream",
     "text": [
      "15\n",
      "15\n"
     ]
    }
   ],
   "source": [
    "show()\n",
    "print(x)"
   ]
  },
  {
   "cell_type": "code",
   "execution_count": 41,
   "id": "903840a2-13d1-42c7-aa87-d478f340bd79",
   "metadata": {},
   "outputs": [],
   "source": [
    "x = 10\n",
    "def show():\n",
    "    y = \"local\"\n",
    "    print(x)\n",
    "    print(y)"
   ]
  },
  {
   "cell_type": "code",
   "execution_count": 42,
   "id": "5d1552b8-fba1-4fe5-84a2-87692e475485",
   "metadata": {},
   "outputs": [
    {
     "name": "stdout",
     "output_type": "stream",
     "text": [
      "10\n",
      "local\n",
      "10\n"
     ]
    },
    {
     "ename": "NameError",
     "evalue": "name 'y' is not defined",
     "output_type": "error",
     "traceback": [
      "\u001b[1;31m---------------------------------------------------------------------------\u001b[0m",
      "\u001b[1;31mNameError\u001b[0m                                 Traceback (most recent call last)",
      "Cell \u001b[1;32mIn[42], line 3\u001b[0m\n\u001b[0;32m      1\u001b[0m show()\n\u001b[0;32m      2\u001b[0m \u001b[38;5;28mprint\u001b[39m(x)\n\u001b[1;32m----> 3\u001b[0m \u001b[38;5;28mprint\u001b[39m(\u001b[43my\u001b[49m)\n",
      "\u001b[1;31mNameError\u001b[0m: name 'y' is not defined"
     ]
    }
   ],
   "source": [
    "show()\n",
    "print(x)\n",
    "print(y)"
   ]
  },
  {
   "cell_type": "code",
   "execution_count": 43,
   "id": "3da680e4-25e9-446a-a88c-f24df52aae14",
   "metadata": {},
   "outputs": [],
   "source": [
    "del x"
   ]
  },
  {
   "cell_type": "code",
   "execution_count": 2,
   "id": "81ebf331-d236-480a-8ba9-d2967d7339d8",
   "metadata": {},
   "outputs": [],
   "source": [
    "#Enclosure \n",
    "def outer():\n",
    "    x = 10\n",
    "    def inner():\n",
    "        nonlocal x\n",
    "        x+=10\n",
    "        print(x)\n",
    "    inner()\n",
    "    print(x)"
   ]
  },
  {
   "cell_type": "code",
   "execution_count": 3,
   "id": "61342ab0-6448-4247-94f3-fab9b68f35c6",
   "metadata": {},
   "outputs": [
    {
     "name": "stdout",
     "output_type": "stream",
     "text": [
      "20\n",
      "20\n"
     ]
    }
   ],
   "source": [
    "outer()"
   ]
  },
  {
   "cell_type": "markdown",
   "id": "7f8f9f20-4f71-4526-9b9a-b50504021d2b",
   "metadata": {},
   "source": [
    "KEYWORD ARGUMENT "
   ]
  },
  {
   "cell_type": "code",
   "execution_count": 4,
   "id": "4eb1ef0a-6897-4380-94a3-c98bdb95966c",
   "metadata": {},
   "outputs": [],
   "source": [
    "def funct(a, b, c, d=10, e=15):\n",
    "    print(a)\n",
    "    print(b)\n",
    "    print(c)"
   ]
  },
  {
   "cell_type": "code",
   "execution_count": 5,
   "id": "1fd41daa-8ea0-458c-a62c-f6300b2dfac4",
   "metadata": {},
   "outputs": [
    {
     "name": "stdout",
     "output_type": "stream",
     "text": [
      "hello\n",
      "world\n",
      "python\n"
     ]
    }
   ],
   "source": [
    "funct(\"hello\", \"world\", \"python\")"
   ]
  },
  {
   "cell_type": "code",
   "execution_count": 6,
   "id": "9f396fa1-ab07-4575-a4fb-3e5077a3c299",
   "metadata": {},
   "outputs": [
    {
     "name": "stdout",
     "output_type": "stream",
     "text": [
      "hello\n",
      "world\n",
      "python\n"
     ]
    }
   ],
   "source": [
    "funct(c= \"python\", b =\"world\", a=\"hello\")"
   ]
  },
  {
   "cell_type": "code",
   "execution_count": 7,
   "id": "196f7254-1930-48a4-8362-9dd85b7cb97c",
   "metadata": {},
   "outputs": [],
   "source": [
    "def show(a,b,c,d=\"something\", e=\"something more\"):\n",
    "    print(a)\n",
    "    print(b)\n",
    "    print(c)\n",
    "    print(d)\n",
    "    print(e)"
   ]
  },
  {
   "cell_type": "code",
   "execution_count": 8,
   "id": "46253492-5b58-408f-b287-5f3cd98ee7f0",
   "metadata": {},
   "outputs": [
    {
     "name": "stdout",
     "output_type": "stream",
     "text": [
      "hello\n",
      "world\n",
      "pyhton\n",
      "something\n",
      "Vishant\n"
     ]
    }
   ],
   "source": [
    "show(\"hello\", \"world\", \"pyhton\", e = \"Vishant\")"
   ]
  },
  {
   "cell_type": "code",
   "execution_count": 9,
   "id": "5761060d-4205-449c-bb0c-68aab64b175e",
   "metadata": {},
   "outputs": [
    {
     "data": {
      "text/plain": [
       "\u001b[1;31mSignature:\u001b[0m \u001b[0mprint\u001b[0m\u001b[1;33m(\u001b[0m\u001b[1;33m*\u001b[0m\u001b[0margs\u001b[0m\u001b[1;33m,\u001b[0m \u001b[0msep\u001b[0m\u001b[1;33m=\u001b[0m\u001b[1;34m' '\u001b[0m\u001b[1;33m,\u001b[0m \u001b[0mend\u001b[0m\u001b[1;33m=\u001b[0m\u001b[1;34m'\\n'\u001b[0m\u001b[1;33m,\u001b[0m \u001b[0mfile\u001b[0m\u001b[1;33m=\u001b[0m\u001b[1;32mNone\u001b[0m\u001b[1;33m,\u001b[0m \u001b[0mflush\u001b[0m\u001b[1;33m=\u001b[0m\u001b[1;32mFalse\u001b[0m\u001b[1;33m)\u001b[0m\u001b[1;33m\u001b[0m\u001b[1;33m\u001b[0m\u001b[0m\n",
       "\u001b[1;31mDocstring:\u001b[0m\n",
       "Prints the values to a stream, or to sys.stdout by default.\n",
       "\n",
       "sep\n",
       "  string inserted between values, default a space.\n",
       "end\n",
       "  string appended after the last value, default a newline.\n",
       "file\n",
       "  a file-like object (stream); defaults to the current sys.stdout.\n",
       "flush\n",
       "  whether to forcibly flush the stream.\n",
       "\u001b[1;31mType:\u001b[0m      builtin_function_or_method"
      ]
     },
     "metadata": {},
     "output_type": "display_data"
    }
   ],
   "source": [
    "print?"
   ]
  },
  {
   "cell_type": "code",
   "execution_count": 11,
   "id": "1bc43f98-b13c-4e33-9b6a-5debc02ea6e0",
   "metadata": {},
   "outputs": [
    {
     "name": "stdout",
     "output_type": "stream",
     "text": [
      "vishant,want,to,become,an,elite,software Developer\n"
     ]
    }
   ],
   "source": [
    "print(\"vishant\", \"want\",\"to\",\"become\",\"an\",\"elite\",\"software Developer\", sep=',')"
   ]
  },
  {
   "cell_type": "code",
   "execution_count": 26,
   "id": "00bf1921-ada2-4e3d-9dbe-17d15c60f1f4",
   "metadata": {},
   "outputs": [],
   "source": [
    "def showq(*args):\n",
    "    for arg in args:\n",
    "        print(arg)"
   ]
  },
  {
   "cell_type": "code",
   "execution_count": 27,
   "id": "fd24c64b-632b-4f8a-850a-000a65f3df6b",
   "metadata": {},
   "outputs": [
    {
     "ename": "RecursionError",
     "evalue": "maximum recursion depth exceeded",
     "output_type": "error",
     "traceback": [
      "\u001b[1;31m---------------------------------------------------------------------------\u001b[0m",
      "\u001b[1;31mRecursionError\u001b[0m                            Traceback (most recent call last)",
      "Cell \u001b[1;32mIn[27], line 1\u001b[0m\n\u001b[1;32m----> 1\u001b[0m \u001b[43mshowq\u001b[49m\u001b[43m(\u001b[49m\u001b[38;5;241;43m1\u001b[39;49m\u001b[43m,\u001b[49m\u001b[38;5;241;43m2\u001b[39;49m\u001b[43m,\u001b[49m\u001b[38;5;241;43m3\u001b[39;49m\u001b[43m,\u001b[49m\u001b[38;5;241;43m4\u001b[39;49m\u001b[43m,\u001b[49m\u001b[38;5;241;43m4\u001b[39;49m\u001b[43m)\u001b[49m\n",
      "Cell \u001b[1;32mIn[26], line 3\u001b[0m, in \u001b[0;36mshowq\u001b[1;34m(*args)\u001b[0m\n\u001b[0;32m      1\u001b[0m \u001b[38;5;28;01mdef\u001b[39;00m \u001b[38;5;21mshowq\u001b[39m(\u001b[38;5;241m*\u001b[39margs):\n\u001b[0;32m      2\u001b[0m     \u001b[38;5;28;01mfor\u001b[39;00m arg \u001b[38;5;129;01min\u001b[39;00m args:\n\u001b[1;32m----> 3\u001b[0m         \u001b[38;5;28;43mprint\u001b[39;49m\u001b[43m(\u001b[49m\u001b[43marg\u001b[49m\u001b[43m)\u001b[49m\n",
      "Cell \u001b[1;32mIn[12], line 2\u001b[0m, in \u001b[0;36mprint\u001b[1;34m(*args)\u001b[0m\n\u001b[0;32m      1\u001b[0m \u001b[38;5;28;01mdef\u001b[39;00m \u001b[38;5;21mprint\u001b[39m(\u001b[38;5;241m*\u001b[39margs):\n\u001b[1;32m----> 2\u001b[0m     \u001b[38;5;28;43mprint\u001b[39;49m\u001b[43m(\u001b[49m\u001b[43margs\u001b[49m\u001b[43m)\u001b[49m\n",
      "Cell \u001b[1;32mIn[12], line 2\u001b[0m, in \u001b[0;36mprint\u001b[1;34m(*args)\u001b[0m\n\u001b[0;32m      1\u001b[0m \u001b[38;5;28;01mdef\u001b[39;00m \u001b[38;5;21mprint\u001b[39m(\u001b[38;5;241m*\u001b[39margs):\n\u001b[1;32m----> 2\u001b[0m     \u001b[38;5;28;43mprint\u001b[39;49m\u001b[43m(\u001b[49m\u001b[43margs\u001b[49m\u001b[43m)\u001b[49m\n",
      "    \u001b[1;31m[... skipping similar frames: print at line 2 (2974 times)]\u001b[0m\n",
      "Cell \u001b[1;32mIn[12], line 2\u001b[0m, in \u001b[0;36mprint\u001b[1;34m(*args)\u001b[0m\n\u001b[0;32m      1\u001b[0m \u001b[38;5;28;01mdef\u001b[39;00m \u001b[38;5;21mprint\u001b[39m(\u001b[38;5;241m*\u001b[39margs):\n\u001b[1;32m----> 2\u001b[0m     \u001b[38;5;28;43mprint\u001b[39;49m\u001b[43m(\u001b[49m\u001b[43margs\u001b[49m\u001b[43m)\u001b[49m\n",
      "\u001b[1;31mRecursionError\u001b[0m: maximum recursion depth exceeded"
     ]
    }
   ],
   "source": [
    "showq(1,2,3,4,4)"
   ]
  },
  {
   "cell_type": "code",
   "execution_count": null,
   "id": "43a963ca-1c0b-4266-ad61-9d3c94870848",
   "metadata": {},
   "outputs": [],
   "source": []
  }
 ],
 "metadata": {
  "kernelspec": {
   "display_name": "Python 3 (ipykernel)",
   "language": "python",
   "name": "python3"
  },
  "language_info": {
   "codemirror_mode": {
    "name": "ipython",
    "version": 3
   },
   "file_extension": ".py",
   "mimetype": "text/x-python",
   "name": "python",
   "nbconvert_exporter": "python",
   "pygments_lexer": "ipython3",
   "version": "3.12.1"
  }
 },
 "nbformat": 4,
 "nbformat_minor": 5
}
