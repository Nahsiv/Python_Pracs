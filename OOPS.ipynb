{
 "cells": [
  {
   "cell_type": "code",
   "execution_count": 6,
   "id": "e1ae721a-9c01-43d4-9175-8dbfadeda8ba",
   "metadata": {},
   "outputs": [
    {
     "name": "stdout",
     "output_type": "stream",
     "text": [
      "True\n"
     ]
    }
   ],
   "source": [
    "a = print\n",
    "print(isinstance(a, object))"
   ]
  },
  {
   "cell_type": "code",
   "execution_count": 7,
   "id": "7247e28d-5611-4eec-a566-5fe956a5fac3",
   "metadata": {},
   "outputs": [],
   "source": [
    "class A:\n",
    "    pass"
   ]
  },
  {
   "cell_type": "code",
   "execution_count": 9,
   "id": "6f67989b-2e27-457a-930a-661619205d0b",
   "metadata": {},
   "outputs": [
    {
     "name": "stdout",
     "output_type": "stream",
     "text": [
      "True\n"
     ]
    }
   ],
   "source": [
    "a = A()\n",
    "print(isinstance(a, object))"
   ]
  },
  {
   "cell_type": "code",
   "execution_count": 10,
   "id": "de0fc882-4e3e-47e9-a86e-a67fee612f42",
   "metadata": {},
   "outputs": [
    {
     "name": "stdout",
     "output_type": "stream",
     "text": [
      "<__main__.Person object at 0x000001322DB1F440>\n"
     ]
    }
   ],
   "source": [
    "class Person:\n",
    "    pass\n",
    "a = Person()\n",
    "print(a)"
   ]
  },
  {
   "cell_type": "code",
   "execution_count": 14,
   "id": "5ffb308f-eed9-4383-8f86-c1f9113d09d6",
   "metadata": {},
   "outputs": [
    {
     "data": {
      "text/plain": [
       "'0x1322db1f440'"
      ]
     },
     "execution_count": 14,
     "metadata": {},
     "output_type": "execute_result"
    }
   ],
   "source": [
    "hex(id(a))"
   ]
  },
  {
   "cell_type": "code",
   "execution_count": 29,
   "id": "06879f86-10e4-4c42-af49-e8f23264b8a0",
   "metadata": {},
   "outputs": [],
   "source": [
    "class Person:\n",
    "    def __init__(self, name):\n",
    "        self.name = name\n",
    "    def say_hi(self):\n",
    "        print('hi my name is', self.name)\n"
   ]
  },
  {
   "cell_type": "code",
   "execution_count": 30,
   "id": "2164286d-30c2-4de4-9da1-2db62ba96773",
   "metadata": {},
   "outputs": [
    {
     "name": "stdout",
     "output_type": "stream",
     "text": [
      "hi my name is vishant\n"
     ]
    }
   ],
   "source": [
    "p = Person(\"vishant\")\n",
    "p.say_hi()"
   ]
  },
  {
   "cell_type": "code",
   "execution_count": 31,
   "id": "168e473f-41dd-48da-97c8-0318b10d8491",
   "metadata": {},
   "outputs": [
    {
     "name": "stdout",
     "output_type": "stream",
     "text": [
      "hi my name is vishant\n"
     ]
    }
   ],
   "source": [
    "Person.say_hi(p)"
   ]
  },
  {
   "cell_type": "code",
   "execution_count": 32,
   "id": "f5a0bbaa-507b-49f4-a1dd-e8fdb68ef17d",
   "metadata": {},
   "outputs": [],
   "source": [
    "class Person:\n",
    "    def __init__(self, model, mileage):\n",
    "        self.model = model\n",
    "        self.mileage = mileage\n",
    "    def __str__(self):\n",
    "        return \"{} {}\".format(self.model, self.mileage)\n",
    "    def __rep__(self):\n",
    "        return \"{}\".format(self.mileage)\n",
    "    def __eq__(self, other):\n",
    "        return self.mileage == other.mileage\n",
    "    def __add__(self, other):\n",
    "        return self.mileage+other.mileage "
   ]
  },
  {
   "cell_type": "code",
   "execution_count": 33,
   "id": "679b2539-1dee-4911-8997-730b78cd44b3",
   "metadata": {},
   "outputs": [],
   "source": [
    "a = Person('a', 10)\n",
    "b = Person('b', 20)"
   ]
  },
  {
   "cell_type": "code",
   "execution_count": 34,
   "id": "e2f7622c-c92b-4108-8ce5-388a7b9c3d9e",
   "metadata": {},
   "outputs": [
    {
     "data": {
      "text/plain": [
       "30"
      ]
     },
     "execution_count": 34,
     "metadata": {},
     "output_type": "execute_result"
    }
   ],
   "source": [
    "a+b"
   ]
  },
  {
   "cell_type": "code",
   "execution_count": 35,
   "id": "4192b762-0e12-4905-b6c7-e8eb3f6cbe1c",
   "metadata": {},
   "outputs": [
    {
     "data": {
      "text/plain": [
       "False"
      ]
     },
     "execution_count": 35,
     "metadata": {},
     "output_type": "execute_result"
    }
   ],
   "source": [
    "a == b"
   ]
  },
  {
   "cell_type": "code",
   "execution_count": 36,
   "id": "7ccef1b1-a1f4-46f5-bb07-5d03c26f0ce3",
   "metadata": {},
   "outputs": [
    {
     "name": "stdout",
     "output_type": "stream",
     "text": [
      "a 10\n"
     ]
    }
   ],
   "source": [
    "print(a)"
   ]
  },
  {
   "cell_type": "code",
   "execution_count": 37,
   "id": "dc22afdc-b5e0-4f2e-9483-4f438960b980",
   "metadata": {},
   "outputs": [],
   "source": [
    "rep(a)"
   ]
  },
  {
   "cell_type": "code",
   "execution_count": null,
   "id": "3ca28446-cccb-4988-bbe4-413488a42af9",
   "metadata": {},
   "outputs": [],
   "source": [
    "a 10"
   ]
  },
  {
   "cell_type": "code",
   "execution_count": 38,
   "id": "e8e8f0c8-7344-4332-b0a7-12a57d8544fb",
   "metadata": {},
   "outputs": [
    {
     "name": "stdout",
     "output_type": "stream",
     "text": [
      "b 20\n"
     ]
    }
   ],
   "source": [
    "print(b)"
   ]
  },
  {
   "cell_type": "code",
   "execution_count": 39,
   "id": "933271c0-0aaa-4cb1-b2fc-9365c5f0feea",
   "metadata": {},
   "outputs": [],
   "source": [
    "class Dog:\n",
    "    kind = 'canine'\n",
    "    def __init__(self, name):\n",
    "        self.name = name"
   ]
  },
  {
   "cell_type": "code",
   "execution_count": 40,
   "id": "76775282-6867-475a-a073-d3b9393e2774",
   "metadata": {},
   "outputs": [],
   "source": [
    "a = Dog('tommy')"
   ]
  },
  {
   "cell_type": "code",
   "execution_count": 41,
   "id": "59c26f92-ef6d-4c15-a36f-9574c7dd3edc",
   "metadata": {},
   "outputs": [
    {
     "data": {
      "text/plain": [
       "'canine'"
      ]
     },
     "execution_count": 41,
     "metadata": {},
     "output_type": "execute_result"
    }
   ],
   "source": [
    "a.kind"
   ]
  },
  {
   "cell_type": "code",
   "execution_count": 42,
   "id": "058ef283-3c65-4a76-875f-f43da9d8b441",
   "metadata": {},
   "outputs": [],
   "source": [
    "b = Dog('maxx')\n",
    "b.kind = 'fluffy'"
   ]
  },
  {
   "cell_type": "code",
   "execution_count": 43,
   "id": "61f777b1-fd6d-43dd-a112-851296c77a3d",
   "metadata": {},
   "outputs": [
    {
     "name": "stdout",
     "output_type": "stream",
     "text": [
      "fluffy\n",
      "canine\n"
     ]
    }
   ],
   "source": [
    "print(b.kind)\n",
    "print(a.kind)"
   ]
  },
  {
   "cell_type": "code",
   "execution_count": 51,
   "id": "c80295da-0f87-4a18-82ab-99bce6413239",
   "metadata": {},
   "outputs": [],
   "source": [
    "class Dog:\n",
    "    \n",
    "    def __init__(self, name):\n",
    "        self.name = name \n",
    "        self.tricks = []\n",
    "    def add_trick(self, trick):\n",
    "        self.tricks.append(trick)"
   ]
  },
  {
   "cell_type": "code",
   "execution_count": 52,
   "id": "3630aae0-32bd-4193-b433-5527c63ffdc9",
   "metadata": {},
   "outputs": [],
   "source": [
    "a = Dog('a')\n",
    "b = Dog('b')"
   ]
  },
  {
   "cell_type": "code",
   "execution_count": 55,
   "id": "feabed2a-9811-4006-bd81-54be95207e02",
   "metadata": {},
   "outputs": [],
   "source": [
    "a.add_trick('fetch')"
   ]
  },
  {
   "cell_type": "code",
   "execution_count": 57,
   "id": "ef6a9f4a-2060-406b-92fb-f04e9dedfd39",
   "metadata": {},
   "outputs": [],
   "source": [
    "a.add_trick('talk')"
   ]
  },
  {
   "cell_type": "code",
   "execution_count": 58,
   "id": "44557074-3063-4335-87e5-e1079629682c",
   "metadata": {},
   "outputs": [
    {
     "data": {
      "text/plain": [
       "['fetch', 'fetch', 'fetch', 'talk', 'talk']"
      ]
     },
     "execution_count": 58,
     "metadata": {},
     "output_type": "execute_result"
    }
   ],
   "source": [
    "a.tricks"
   ]
  },
  {
   "cell_type": "code",
   "execution_count": 59,
   "id": "a24d5240-d7a2-49b7-92e0-cc21dd3497a2",
   "metadata": {},
   "outputs": [
    {
     "data": {
      "text/plain": [
       "[]"
      ]
     },
     "execution_count": 59,
     "metadata": {},
     "output_type": "execute_result"
    }
   ],
   "source": [
    "b.tricks"
   ]
  },
  {
   "cell_type": "code",
   "execution_count": 65,
   "id": "68e77dbe-dc79-4416-aa66-d8866f75e04d",
   "metadata": {},
   "outputs": [
    {
     "data": {
      "text/plain": [
       "1315034182592"
      ]
     },
     "execution_count": 65,
     "metadata": {},
     "output_type": "execute_result"
    }
   ],
   "source": [
    "id(b.tricks)"
   ]
  },
  {
   "cell_type": "code",
   "execution_count": 66,
   "id": "7f14784e-e1d6-4cb3-9d4e-e9aa7f2bd5e0",
   "metadata": {},
   "outputs": [
    {
     "data": {
      "text/plain": [
       "1315034183296"
      ]
     },
     "execution_count": 66,
     "metadata": {},
     "output_type": "execute_result"
    }
   ],
   "source": [
    "id(a.tricks)"
   ]
  },
  {
   "cell_type": "code",
   "execution_count": 74,
   "id": "d03b6446-dbc5-4088-932e-f06d0ef57004",
   "metadata": {},
   "outputs": [],
   "source": [
    "class SchoolMember:\n",
    "    def __init__(self, name, age):\n",
    "        self.name = name\n",
    "        self.age = age\n",
    "        print('SchoolMember Initialized {}'.format(self.name))\n",
    "    def __tell__(self):\n",
    "        print('name:{} age:{}'.format(self.name, self.age), end=' ')\n",
    "class Teacher(SchoolMember):\n",
    "    def __init__(self, name, age, salary):\n",
    "        super().__init__(name, age)\n",
    "        self.salary = salary\n",
    "        print('Teacher Initialized {}'.format(self.name))\n",
    "    def __tell__(self):\n",
    "        super().__tell__()\n",
    "        print('salary:{}'.format(self.salary))\n",
    "class Student(SchoolMember):\n",
    "    def __init__(self, name , age, marks):\n",
    "        super().__init__(name, age)\n",
    "        self.marks = marks\n",
    "        print('Student {} initialized'.format(self.marks))\n",
    "    def __tell__(self):\n",
    "        super().__tell__()\n",
    "        print('self.marks: {}'.format(self.marks))        "
   ]
  },
  {
   "cell_type": "code",
   "execution_count": 70,
   "id": "0414c821-b527-44f4-bbfc-158eb8918c35",
   "metadata": {},
   "outputs": [
    {
     "name": "stdout",
     "output_type": "stream",
     "text": [
      "SchoolMember Initialized Mr Ujjwal\n",
      "Teacher Initialized Mr Ujjwal\n"
     ]
    }
   ],
   "source": [
    "t = Teacher('Mr Ujjwal', 40, 30000)"
   ]
  },
  {
   "cell_type": "code",
   "execution_count": 72,
   "id": "7ba9d263-7aa2-4304-9193-264ac9fe9231",
   "metadata": {},
   "outputs": [
    {
     "name": "stdout",
     "output_type": "stream",
     "text": [
      "name:Mr Ujjwal age:40 salary:30000\n"
     ]
    }
   ],
   "source": [
    "t.__tell__()"
   ]
  },
  {
   "cell_type": "code",
   "execution_count": 75,
   "id": "3449b8e9-f478-48b7-bc4c-78e23576e037",
   "metadata": {},
   "outputs": [
    {
     "name": "stdout",
     "output_type": "stream",
     "text": [
      "SchoolMember Initialized Vishant\n",
      "Student 98 initialized\n"
     ]
    }
   ],
   "source": [
    "s = Student('Vishant', 22, 98)"
   ]
  },
  {
   "cell_type": "code",
   "execution_count": 78,
   "id": "ddf669e9-0815-4b55-991e-6ae2af562e70",
   "metadata": {},
   "outputs": [
    {
     "name": "stdout",
     "output_type": "stream",
     "text": [
      "name:Vishant age:22 self.marks: 98\n"
     ]
    }
   ],
   "source": [
    "s.__tell__()"
   ]
  },
  {
   "cell_type": "markdown",
   "id": "5531c4a6-213f-44e0-ac27-50f4a62b3404",
   "metadata": {},
   "source": [
    "# MRO "
   ]
  },
  {
   "cell_type": "code",
   "execution_count": 91,
   "id": "6d650f1d-0c9f-4a19-8fbb-0760efdf7d20",
   "metadata": {},
   "outputs": [],
   "source": [
    "class A:\n",
    "    x = 17\n",
    "class B(A):\n",
    "    x = 110\n",
    "class C(A):\n",
    "    pass \n",
    "class D(C):\n",
    "    pass\n",
    "class E(B,D):\n",
    "    pass"
   ]
  },
  {
   "cell_type": "code",
   "execution_count": 92,
   "id": "b09b7f5e-fa10-42b1-91b1-1a3bb4a34336",
   "metadata": {},
   "outputs": [
    {
     "name": "stdout",
     "output_type": "stream",
     "text": [
      "110\n"
     ]
    }
   ],
   "source": [
    "print(E.x)"
   ]
  },
  {
   "cell_type": "code",
   "execution_count": 93,
   "id": "a29e6f16-398a-4bcd-be57-53855fd0543b",
   "metadata": {},
   "outputs": [
    {
     "data": {
      "text/plain": [
       "(__main__.E, __main__.B, __main__.D, __main__.C, __main__.A, object)"
      ]
     },
     "execution_count": 93,
     "metadata": {},
     "output_type": "execute_result"
    }
   ],
   "source": [
    "E.__mro__"
   ]
  },
  {
   "cell_type": "code",
   "execution_count": null,
   "id": "4e86a508-3d33-48d3-96af-62d228f7ef92",
   "metadata": {},
   "outputs": [],
   "source": []
  }
 ],
 "metadata": {
  "kernelspec": {
   "display_name": "Python 3 (ipykernel)",
   "language": "python",
   "name": "python3"
  },
  "language_info": {
   "codemirror_mode": {
    "name": "ipython",
    "version": 3
   },
   "file_extension": ".py",
   "mimetype": "text/x-python",
   "name": "python",
   "nbconvert_exporter": "python",
   "pygments_lexer": "ipython3",
   "version": "3.12.1"
  }
 },
 "nbformat": 4,
 "nbformat_minor": 5
}
